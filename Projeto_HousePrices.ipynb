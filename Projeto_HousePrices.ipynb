{
  "nbformat": 4,
  "nbformat_minor": 0,
  "metadata": {
    "colab": {
      "provenance": [],
      "toc_visible": true
    },
    "kernelspec": {
      "name": "python3",
      "display_name": "Python 3"
    },
    "language_info": {
      "name": "python"
    }
  },
  "cells": [
    {
      "cell_type": "code",
      "execution_count": 1,
      "metadata": {
        "id": "nSK2zFxxQFlO"
      },
      "outputs": [],
      "source": [
        "#Analise utilisando Regreção para encontrar o preço de casas.\n",
        "#Os dados foram coletados via API, disponibilizada pelo Kaggle\n",
        "#No primeiro projeto irei utilizarsomente as variáveis numéricas e os campos nulos será convertidos para -1\n",
        "#A avaliação do modelos sera feita por Mean Squared Error (Erro Médio Quadrático) é uma medida comum para avaliação de um modelo de regressão\n",
        "#Podemos dizer que o modelo que melhor alcançou um resultado foi o modelo do Projeto 1, utilizando Random Forest, obtendo o resultade de 1095681130.59\n"
      ]
    },
    {
      "cell_type": "markdown",
      "source": [
        "# Importando a Base de Dados por API"
      ],
      "metadata": {
        "id": "zBzeC6ksnopl"
      }
    },
    {
      "cell_type": "code",
      "execution_count": 2,
      "metadata": {
        "id": "GJAef8q-LuRG"
      },
      "outputs": [],
      "source": [
        "from google.colab import files\n",
        "import numpy as np\n"
      ]
    },
    {
      "cell_type": "code",
      "source": [
        "files.upload()\n"
      ],
      "metadata": {
        "colab": {
          "base_uri": "https://localhost:8080/",
          "height": 89
        },
        "id": "GHkYQGYZL0pU",
        "outputId": "24b34dfc-00f4-4685-96b3-fe294099765f"
      },
      "execution_count": 3,
      "outputs": [
        {
          "output_type": "display_data",
          "data": {
            "text/plain": [
              "<IPython.core.display.HTML object>"
            ],
            "text/html": [
              "\n",
              "     <input type=\"file\" id=\"files-a38a72e9-cc4a-409c-951e-f27719e64851\" name=\"files[]\" multiple disabled\n",
              "        style=\"border:none\" />\n",
              "     <output id=\"result-a38a72e9-cc4a-409c-951e-f27719e64851\">\n",
              "      Upload widget is only available when the cell has been executed in the\n",
              "      current browser session. Please rerun this cell to enable.\n",
              "      </output>\n",
              "      <script>// Copyright 2017 Google LLC\n",
              "//\n",
              "// Licensed under the Apache License, Version 2.0 (the \"License\");\n",
              "// you may not use this file except in compliance with the License.\n",
              "// You may obtain a copy of the License at\n",
              "//\n",
              "//      http://www.apache.org/licenses/LICENSE-2.0\n",
              "//\n",
              "// Unless required by applicable law or agreed to in writing, software\n",
              "// distributed under the License is distributed on an \"AS IS\" BASIS,\n",
              "// WITHOUT WARRANTIES OR CONDITIONS OF ANY KIND, either express or implied.\n",
              "// See the License for the specific language governing permissions and\n",
              "// limitations under the License.\n",
              "\n",
              "/**\n",
              " * @fileoverview Helpers for google.colab Python module.\n",
              " */\n",
              "(function(scope) {\n",
              "function span(text, styleAttributes = {}) {\n",
              "  const element = document.createElement('span');\n",
              "  element.textContent = text;\n",
              "  for (const key of Object.keys(styleAttributes)) {\n",
              "    element.style[key] = styleAttributes[key];\n",
              "  }\n",
              "  return element;\n",
              "}\n",
              "\n",
              "// Max number of bytes which will be uploaded at a time.\n",
              "const MAX_PAYLOAD_SIZE = 100 * 1024;\n",
              "\n",
              "function _uploadFiles(inputId, outputId) {\n",
              "  const steps = uploadFilesStep(inputId, outputId);\n",
              "  const outputElement = document.getElementById(outputId);\n",
              "  // Cache steps on the outputElement to make it available for the next call\n",
              "  // to uploadFilesContinue from Python.\n",
              "  outputElement.steps = steps;\n",
              "\n",
              "  return _uploadFilesContinue(outputId);\n",
              "}\n",
              "\n",
              "// This is roughly an async generator (not supported in the browser yet),\n",
              "// where there are multiple asynchronous steps and the Python side is going\n",
              "// to poll for completion of each step.\n",
              "// This uses a Promise to block the python side on completion of each step,\n",
              "// then passes the result of the previous step as the input to the next step.\n",
              "function _uploadFilesContinue(outputId) {\n",
              "  const outputElement = document.getElementById(outputId);\n",
              "  const steps = outputElement.steps;\n",
              "\n",
              "  const next = steps.next(outputElement.lastPromiseValue);\n",
              "  return Promise.resolve(next.value.promise).then((value) => {\n",
              "    // Cache the last promise value to make it available to the next\n",
              "    // step of the generator.\n",
              "    outputElement.lastPromiseValue = value;\n",
              "    return next.value.response;\n",
              "  });\n",
              "}\n",
              "\n",
              "/**\n",
              " * Generator function which is called between each async step of the upload\n",
              " * process.\n",
              " * @param {string} inputId Element ID of the input file picker element.\n",
              " * @param {string} outputId Element ID of the output display.\n",
              " * @return {!Iterable<!Object>} Iterable of next steps.\n",
              " */\n",
              "function* uploadFilesStep(inputId, outputId) {\n",
              "  const inputElement = document.getElementById(inputId);\n",
              "  inputElement.disabled = false;\n",
              "\n",
              "  const outputElement = document.getElementById(outputId);\n",
              "  outputElement.innerHTML = '';\n",
              "\n",
              "  const pickedPromise = new Promise((resolve) => {\n",
              "    inputElement.addEventListener('change', (e) => {\n",
              "      resolve(e.target.files);\n",
              "    });\n",
              "  });\n",
              "\n",
              "  const cancel = document.createElement('button');\n",
              "  inputElement.parentElement.appendChild(cancel);\n",
              "  cancel.textContent = 'Cancel upload';\n",
              "  const cancelPromise = new Promise((resolve) => {\n",
              "    cancel.onclick = () => {\n",
              "      resolve(null);\n",
              "    };\n",
              "  });\n",
              "\n",
              "  // Wait for the user to pick the files.\n",
              "  const files = yield {\n",
              "    promise: Promise.race([pickedPromise, cancelPromise]),\n",
              "    response: {\n",
              "      action: 'starting',\n",
              "    }\n",
              "  };\n",
              "\n",
              "  cancel.remove();\n",
              "\n",
              "  // Disable the input element since further picks are not allowed.\n",
              "  inputElement.disabled = true;\n",
              "\n",
              "  if (!files) {\n",
              "    return {\n",
              "      response: {\n",
              "        action: 'complete',\n",
              "      }\n",
              "    };\n",
              "  }\n",
              "\n",
              "  for (const file of files) {\n",
              "    const li = document.createElement('li');\n",
              "    li.append(span(file.name, {fontWeight: 'bold'}));\n",
              "    li.append(span(\n",
              "        `(${file.type || 'n/a'}) - ${file.size} bytes, ` +\n",
              "        `last modified: ${\n",
              "            file.lastModifiedDate ? file.lastModifiedDate.toLocaleDateString() :\n",
              "                                    'n/a'} - `));\n",
              "    const percent = span('0% done');\n",
              "    li.appendChild(percent);\n",
              "\n",
              "    outputElement.appendChild(li);\n",
              "\n",
              "    const fileDataPromise = new Promise((resolve) => {\n",
              "      const reader = new FileReader();\n",
              "      reader.onload = (e) => {\n",
              "        resolve(e.target.result);\n",
              "      };\n",
              "      reader.readAsArrayBuffer(file);\n",
              "    });\n",
              "    // Wait for the data to be ready.\n",
              "    let fileData = yield {\n",
              "      promise: fileDataPromise,\n",
              "      response: {\n",
              "        action: 'continue',\n",
              "      }\n",
              "    };\n",
              "\n",
              "    // Use a chunked sending to avoid message size limits. See b/62115660.\n",
              "    let position = 0;\n",
              "    do {\n",
              "      const length = Math.min(fileData.byteLength - position, MAX_PAYLOAD_SIZE);\n",
              "      const chunk = new Uint8Array(fileData, position, length);\n",
              "      position += length;\n",
              "\n",
              "      const base64 = btoa(String.fromCharCode.apply(null, chunk));\n",
              "      yield {\n",
              "        response: {\n",
              "          action: 'append',\n",
              "          file: file.name,\n",
              "          data: base64,\n",
              "        },\n",
              "      };\n",
              "\n",
              "      let percentDone = fileData.byteLength === 0 ?\n",
              "          100 :\n",
              "          Math.round((position / fileData.byteLength) * 100);\n",
              "      percent.textContent = `${percentDone}% done`;\n",
              "\n",
              "    } while (position < fileData.byteLength);\n",
              "  }\n",
              "\n",
              "  // All done.\n",
              "  yield {\n",
              "    response: {\n",
              "      action: 'complete',\n",
              "    }\n",
              "  };\n",
              "}\n",
              "\n",
              "scope.google = scope.google || {};\n",
              "scope.google.colab = scope.google.colab || {};\n",
              "scope.google.colab._files = {\n",
              "  _uploadFiles,\n",
              "  _uploadFilesContinue,\n",
              "};\n",
              "})(self);\n",
              "</script> "
            ]
          },
          "metadata": {}
        },
        {
          "output_type": "stream",
          "name": "stdout",
          "text": [
            "Saving kaggle.json to kaggle.json\n"
          ]
        },
        {
          "output_type": "execute_result",
          "data": {
            "text/plain": [
              "{'kaggle.json': b'{\"username\":\"danilodemenezes\",\"key\":\"c3a288653697920f2e33312661e6df7f\"}'}"
            ]
          },
          "metadata": {},
          "execution_count": 3
        }
      ]
    },
    {
      "cell_type": "code",
      "source": [
        "pip install kaggle -q"
      ],
      "metadata": {
        "id": "Mp-hXoGXNMfH"
      },
      "execution_count": 4,
      "outputs": []
    },
    {
      "cell_type": "code",
      "source": [
        "!mkdir -p ~/.kaggle"
      ],
      "metadata": {
        "id": "RseiFiXtNie7"
      },
      "execution_count": 5,
      "outputs": []
    },
    {
      "cell_type": "code",
      "source": [
        "!cp kaggle.json ~/.kaggle"
      ],
      "metadata": {
        "id": "5qicWUlgN447"
      },
      "execution_count": 6,
      "outputs": []
    },
    {
      "cell_type": "code",
      "source": [
        "!chmod 600 ~/.kaggle/kaggle.json"
      ],
      "metadata": {
        "id": "QMYZxCh5OHPC"
      },
      "execution_count": 7,
      "outputs": []
    },
    {
      "cell_type": "code",
      "source": [
        "!kaggle datasets list"
      ],
      "metadata": {
        "colab": {
          "base_uri": "https://localhost:8080/"
        },
        "id": "UV0qj4o0OPBS",
        "outputId": "6f502083-49e9-4672-a95e-afe8d61608db"
      },
      "execution_count": 8,
      "outputs": [
        {
          "output_type": "stream",
          "name": "stdout",
          "text": [
            "Warning: Looks like you're using an outdated API Version, please consider updating (server 1.6.7 / client 1.5.16)\n",
            "ref                                                 title                                     size  lastUpdated          downloadCount  voteCount  usabilityRating  \n",
            "--------------------------------------------------  ---------------------------------------  -----  -------------------  -------------  ---------  ---------------  \n",
            "syedanwarafridi/vehicle-sales-data                  Vehicle Sales Data                        19MB  2024-02-21 20:16:17           9409        165  1.0              \n",
            "arnavvvvv/spotify-music                             Top Spotify Songs                         47KB  2024-03-06 05:20:29           1316         30  1.0              \n",
            "tarunrm09/climate-change-indicators                 Climate change Indicators                 34KB  2024-02-22 08:53:54           4855        108  1.0              \n",
            "parasrupani/coffee-distribution-across-94-counties  Coffee Distribution Across 94 Counties   220KB  2024-02-28 01:49:07           1100         23  1.0              \n",
            "zain280/titanic-data-set                            Titanic Data set                          22KB  2024-02-28 14:04:13           1122         26  1.0              \n",
            "arnavvvvv/netflix-movies-and-tv-shows               Netflix Movies and TV Shows                1MB  2024-03-04 15:49:29           1735         44  1.0              \n",
            "anandshaw2001/amazon-sales-dataset                  Amazon_Sales_Dataset                     256KB  2024-03-04 18:30:11           1660         32  0.88235295       \n",
            "bhavikjikadara/student-study-performance            Student Study Performance                  9KB  2024-03-07 06:14:09            632         28  1.0              \n",
            "nbroad/gemma-rewrite-nbroad                         gemma-rewrite-nbroad                       8MB  2024-03-03 04:52:39            442         52  1.0              \n",
            "zain280/car-dataset                                 Car Dataset                                1MB  2024-03-02 15:14:49           1979         30  1.0              \n",
            "l3llff/banana                                       🍌 | Banana Quality                       271KB  2024-03-03 12:20:13           1492         36  1.0              \n",
            "mikhail1681/walmart-sales                           Walmart Sales                            122KB  2024-02-13 17:35:56           6543         92  1.0              \n",
            "mahad049/job-placement-dataset                      Job placement dataset                      6KB  2024-03-03 08:18:12           1538         31  0.9411765        \n",
            "kamyababedi/austrian-airlines                       Austrian Airlines                        211KB  2024-03-06 03:27:03            655         22  1.0              \n",
            "ehababoelnaga/multiple-disease-prediction           Multiple Disease Prediction              285KB  2024-03-03 16:46:22            736         22  0.9411765        \n",
            "yaminh/smartphone-sale-dataset                      Smartphones Sales Dataset                 65KB  2024-03-03 16:48:27           1946         31  0.88235295       \n",
            "meruvulikith/90000-cars-data-from-1970-to-2024      90,000+ Cars Data From 1970 to 2024        1MB  2024-02-29 15:28:06            937         27  1.0              \n",
            "nelgiriyewithana/emotions                           Emotions                                  16MB  2024-02-05 16:01:39           6311        171  1.0              \n",
            "ayushchandramaurya/credit-card-spendings            Credit Card Spendings                    319KB  2024-03-05 07:54:20            703         31  1.0              \n",
            "ddosad/ecommerce-customer-service-satisfaction      eCommerce Customer Service Satisfaction    6MB  2024-02-29 18:42:06            704         23  1.0              \n"
          ]
        }
      ]
    },
    {
      "cell_type": "code",
      "source": [
        "%cd /content/\n",
        "\n",
        "!kaggle competitions download -c house-prices-advanced-regression-techniques"
      ],
      "metadata": {
        "colab": {
          "base_uri": "https://localhost:8080/"
        },
        "id": "DVLLheoAQfF5",
        "outputId": "dc908165-a564-4387-f466-015e14bf91d7"
      },
      "execution_count": 9,
      "outputs": [
        {
          "output_type": "stream",
          "name": "stdout",
          "text": [
            "/content\n",
            "Downloading house-prices-advanced-regression-techniques.zip to /content\n",
            "  0% 0.00/199k [00:00<?, ?B/s]\n",
            "100% 199k/199k [00:00<00:00, 59.4MB/s]\n"
          ]
        }
      ]
    },
    {
      "cell_type": "code",
      "source": [
        "!unzip house-prices-advanced-regression-techniques.zip -d houseprices"
      ],
      "metadata": {
        "colab": {
          "base_uri": "https://localhost:8080/"
        },
        "id": "uZVjgRCkQfXU",
        "outputId": "c852eb8c-3d3e-4bea-bbd4-517f9e54b5b6"
      },
      "execution_count": 10,
      "outputs": [
        {
          "output_type": "stream",
          "name": "stdout",
          "text": [
            "Archive:  house-prices-advanced-regression-techniques.zip\n",
            "  inflating: houseprices/data_description.txt  \n",
            "  inflating: houseprices/sample_submission.csv  \n",
            "  inflating: houseprices/test.csv    \n",
            "  inflating: houseprices/train.csv   \n"
          ]
        }
      ]
    },
    {
      "cell_type": "markdown",
      "source": [
        "##Dicionário de dados\n",
        "Aqui está uma versão resumida do que você encontrará no arquivo de descrição de dados.\n",
        "\n",
        "SalePrice - preço de venda do imóvel em dólares. Esta é a variável alvo que você está tentando prever.\n",
        "MSSubClass : A classe de construção\n",
        "MSZoning : A classificação geral de zoneamento\n",
        "LotFrontage : Pés lineares de rua conectada à propriedade\n",
        "LotArea : Tamanho do lote em pés quadrados\n",
        "Rua : Tipo de acesso rodoviário\n",
        "Beco : Tipo de beco de acesso\n",
        "LotShape : Forma geral da propriedade\n",
        "LandContour : Planicidade da propriedade\n",
        "Utilitários : Tipo de utilitários disponíveis\n",
        "LotConfig : configuração do lote\n",
        "LandSlope : Inclinação da propriedade\n",
        "Bairro : Locais físicos dentro dos limites da cidade de Ames\n",
        "Condição1 : Proximidade da estrada principal ou ferrovia\n",
        "Condição2 : Proximidade da estrada principal ou ferrovia (se uma segunda estiver presente)\n",
        "BldgType : Tipo de moradia\n",
        "HouseStyle : estilo de moradia\n",
        "GlobalQual : Material geral e qualidade de acabamento\n",
        "OverCond : Classificação geral da condição\n",
        "Ano de construção : Data original de construção\n",
        "YearRemodAdd : Data da remodelação\n",
        "RoofStyle : Tipo de telhado\n",
        "RoofMatl : Material do telhado\n",
        "Exterior1st : Cobertura exterior da casa\n",
        "Exterior2 : Cobertura exterior da casa (se houver mais de um material)\n",
        "MasVnrType : tipo de folheado de alvenaria\n",
        "MasVnrArea : Área folheada de alvenaria em pés quadrados\n",
        "ExterQual : Qualidade do material exterior\n",
        "ExterCond : Condição atual do material no exterior\n",
        "Fundação : Tipo de fundação\n",
        "BsmtQual : Altura do porão\n",
        "BsmtCond : Estado geral da cave\n",
        "BsmtExposure : Paredes de porão no nível do jardim\n",
        "BsmtFinType1 : Qualidade da área acabada do porão\n",
        "BsmtFinSF1 : Pés quadrados acabados tipo 1\n",
        "BsmtFinType2 : Qualidade da segunda área acabada (se presente)\n",
        "BsmtFinSF2 : Tipo 2 pés quadrados acabados\n",
        "BsmtUnfSF : Pés quadrados inacabados de área de subsolo\n",
        "TotalBsmtSF : Total de pés quadrados de área do porão\n",
        "Aquecimento : Tipo de aquecimento\n",
        "HeatingQC : Qualidade e condição do aquecimento\n",
        "CentralAir : Ar condicionado central\n",
        "Elétrica : Sistema elétrico\n",
        "1stFlrSF : pés quadrados do primeiro andar\n",
        "2ndFlrSF : Pés quadrados do segundo andar\n",
        "LowQualFinSF : Pés quadrados com acabamento de baixa qualidade (todos os andares)\n",
        "GrLivArea : pés quadrados de área de estar acima do nível do solo (solo)\n",
        "BsmtFullBath : Banheiros completos no porão\n",
        "BsmtHalfBath : lavabos no subsolo\n",
        "FullBath : Banheiros completos acima do nível do solo\n",
        "HalfBath : Lavabos acima do nível do solo\n",
        "Quarto : Número de quartos acima do subsolo\n",
        "Cozinha : Número de cozinhas\n",
        "KitchenQual : Qualidade da cozinha\n",
        "TotRmsAbvGrd : Total de quartos acima da categoria (não inclui banheiros)\n",
        "Funcional : classificação de funcionalidade doméstica\n",
        "Lareiras : Número de lareiras\n",
        "FireplaceQu : Qualidade da lareira\n",
        "GarageType : localização da garagem\n",
        "GarageYrBlt : ano em que a garagem foi construída\n",
        "GarageFinish : Acabamento interior da garagem\n",
        "GarageCars : Tamanho da garagem em capacidade de carros\n",
        "GarageArea : Tamanho da garagem em pés quadrados\n",
        "GarageQual : Qualidade da garagem\n",
        "GarageCond : condição da garagem\n",
        "PavedDrive : entrada pavimentada\n",
        "WoodDeckSF : Área do deck de madeira em pés quadrados\n",
        "OpenPorchSF : área de varanda aberta em pés quadrados\n",
        "EnclosedPorch : área de varanda fechada em pés quadrados\n",
        "3SsnPorch : Área de varanda de três estações em pés quadrados\n",
        "ScreenPorch : área da varanda com tela em pés quadrados\n",
        "PoolArea : Área da piscina em pés quadrados\n",
        "PoolQC : Qualidade da piscina\n",
        "Cerca : Qualidade da cerca\n",
        "MiscFeature : recurso diverso não coberto em outras categorias\n",
        "MiscVal : $Valor do recurso diverso\n",
        "MoSold : mês vendido\n",
        "Ano de Venda : Ano de Venda\n",
        "SaleType : Tipo de venda\n",
        "SaleCondition : Condição de venda"
      ],
      "metadata": {
        "id": "VEjhTwn1RD4z"
      }
    },
    {
      "cell_type": "code",
      "source": [
        "#Verificando valores Nulos e Duplicados"
      ],
      "metadata": {
        "id": "vm65ynSRE7Bo"
      },
      "execution_count": 15,
      "outputs": []
    },
    {
      "cell_type": "markdown",
      "source": [
        "# Projeto 1"
      ],
      "metadata": {
        "id": "2uhcTwV21dDJ"
      }
    },
    {
      "cell_type": "code",
      "source": [
        "import pandas as pd\n",
        "bdhouse = pd.read_csv('/content/houseprices/train.csv')"
      ],
      "metadata": {
        "id": "UGRqQ_Nr1oSV"
      },
      "execution_count": 11,
      "outputs": []
    },
    {
      "cell_type": "markdown",
      "source": [
        "##Explorando os Dados\n"
      ],
      "metadata": {
        "id": "CHuBg7Mm1iFH"
      }
    },
    {
      "cell_type": "code",
      "source": [
        "#Iniciando Exploração dos Dados"
      ],
      "metadata": {
        "id": "8xg1WhkC1oSg"
      },
      "execution_count": 12,
      "outputs": []
    },
    {
      "cell_type": "code",
      "source": [
        "bdhouse.shape"
      ],
      "metadata": {
        "colab": {
          "base_uri": "https://localhost:8080/"
        },
        "outputId": "2a24e17b-80f4-4f08-938d-72466730f8c4",
        "id": "ioparjbE1oSg"
      },
      "execution_count": 13,
      "outputs": [
        {
          "output_type": "execute_result",
          "data": {
            "text/plain": [
              "(1460, 81)"
            ]
          },
          "metadata": {},
          "execution_count": 13
        }
      ]
    },
    {
      "cell_type": "code",
      "source": [
        "bdhouse.info()"
      ],
      "metadata": {
        "colab": {
          "base_uri": "https://localhost:8080/"
        },
        "outputId": "292c10da-8891-4325-a1c3-4f3ad3bc94c2",
        "id": "AV7L3JL_1oSg"
      },
      "execution_count": 14,
      "outputs": [
        {
          "output_type": "stream",
          "name": "stdout",
          "text": [
            "<class 'pandas.core.frame.DataFrame'>\n",
            "RangeIndex: 1460 entries, 0 to 1459\n",
            "Data columns (total 81 columns):\n",
            " #   Column         Non-Null Count  Dtype  \n",
            "---  ------         --------------  -----  \n",
            " 0   Id             1460 non-null   int64  \n",
            " 1   MSSubClass     1460 non-null   int64  \n",
            " 2   MSZoning       1460 non-null   object \n",
            " 3   LotFrontage    1201 non-null   float64\n",
            " 4   LotArea        1460 non-null   int64  \n",
            " 5   Street         1460 non-null   object \n",
            " 6   Alley          91 non-null     object \n",
            " 7   LotShape       1460 non-null   object \n",
            " 8   LandContour    1460 non-null   object \n",
            " 9   Utilities      1460 non-null   object \n",
            " 10  LotConfig      1460 non-null   object \n",
            " 11  LandSlope      1460 non-null   object \n",
            " 12  Neighborhood   1460 non-null   object \n",
            " 13  Condition1     1460 non-null   object \n",
            " 14  Condition2     1460 non-null   object \n",
            " 15  BldgType       1460 non-null   object \n",
            " 16  HouseStyle     1460 non-null   object \n",
            " 17  OverallQual    1460 non-null   int64  \n",
            " 18  OverallCond    1460 non-null   int64  \n",
            " 19  YearBuilt      1460 non-null   int64  \n",
            " 20  YearRemodAdd   1460 non-null   int64  \n",
            " 21  RoofStyle      1460 non-null   object \n",
            " 22  RoofMatl       1460 non-null   object \n",
            " 23  Exterior1st    1460 non-null   object \n",
            " 24  Exterior2nd    1460 non-null   object \n",
            " 25  MasVnrType     1452 non-null   object \n",
            " 26  MasVnrArea     1452 non-null   float64\n",
            " 27  ExterQual      1460 non-null   object \n",
            " 28  ExterCond      1460 non-null   object \n",
            " 29  Foundation     1460 non-null   object \n",
            " 30  BsmtQual       1423 non-null   object \n",
            " 31  BsmtCond       1423 non-null   object \n",
            " 32  BsmtExposure   1422 non-null   object \n",
            " 33  BsmtFinType1   1423 non-null   object \n",
            " 34  BsmtFinSF1     1460 non-null   int64  \n",
            " 35  BsmtFinType2   1422 non-null   object \n",
            " 36  BsmtFinSF2     1460 non-null   int64  \n",
            " 37  BsmtUnfSF      1460 non-null   int64  \n",
            " 38  TotalBsmtSF    1460 non-null   int64  \n",
            " 39  Heating        1460 non-null   object \n",
            " 40  HeatingQC      1460 non-null   object \n",
            " 41  CentralAir     1460 non-null   object \n",
            " 42  Electrical     1459 non-null   object \n",
            " 43  1stFlrSF       1460 non-null   int64  \n",
            " 44  2ndFlrSF       1460 non-null   int64  \n",
            " 45  LowQualFinSF   1460 non-null   int64  \n",
            " 46  GrLivArea      1460 non-null   int64  \n",
            " 47  BsmtFullBath   1460 non-null   int64  \n",
            " 48  BsmtHalfBath   1460 non-null   int64  \n",
            " 49  FullBath       1460 non-null   int64  \n",
            " 50  HalfBath       1460 non-null   int64  \n",
            " 51  BedroomAbvGr   1460 non-null   int64  \n",
            " 52  KitchenAbvGr   1460 non-null   int64  \n",
            " 53  KitchenQual    1460 non-null   object \n",
            " 54  TotRmsAbvGrd   1460 non-null   int64  \n",
            " 55  Functional     1460 non-null   object \n",
            " 56  Fireplaces     1460 non-null   int64  \n",
            " 57  FireplaceQu    770 non-null    object \n",
            " 58  GarageType     1379 non-null   object \n",
            " 59  GarageYrBlt    1379 non-null   float64\n",
            " 60  GarageFinish   1379 non-null   object \n",
            " 61  GarageCars     1460 non-null   int64  \n",
            " 62  GarageArea     1460 non-null   int64  \n",
            " 63  GarageQual     1379 non-null   object \n",
            " 64  GarageCond     1379 non-null   object \n",
            " 65  PavedDrive     1460 non-null   object \n",
            " 66  WoodDeckSF     1460 non-null   int64  \n",
            " 67  OpenPorchSF    1460 non-null   int64  \n",
            " 68  EnclosedPorch  1460 non-null   int64  \n",
            " 69  3SsnPorch      1460 non-null   int64  \n",
            " 70  ScreenPorch    1460 non-null   int64  \n",
            " 71  PoolArea       1460 non-null   int64  \n",
            " 72  PoolQC         7 non-null      object \n",
            " 73  Fence          281 non-null    object \n",
            " 74  MiscFeature    54 non-null     object \n",
            " 75  MiscVal        1460 non-null   int64  \n",
            " 76  MoSold         1460 non-null   int64  \n",
            " 77  YrSold         1460 non-null   int64  \n",
            " 78  SaleType       1460 non-null   object \n",
            " 79  SaleCondition  1460 non-null   object \n",
            " 80  SalePrice      1460 non-null   int64  \n",
            "dtypes: float64(3), int64(35), object(43)\n",
            "memory usage: 924.0+ KB\n"
          ]
        }
      ]
    },
    {
      "cell_type": "code",
      "source": [
        "bdhouse.isnull().sum().sort_values(ascending=False).head(30)"
      ],
      "metadata": {
        "colab": {
          "base_uri": "https://localhost:8080/"
        },
        "outputId": "76ceb57d-9067-460f-a7ab-c9a4b43bfcdd",
        "id": "8mZC6bcs1oSh"
      },
      "execution_count": 16,
      "outputs": [
        {
          "output_type": "execute_result",
          "data": {
            "text/plain": [
              "PoolQC          1453\n",
              "MiscFeature     1406\n",
              "Alley           1369\n",
              "Fence           1179\n",
              "FireplaceQu      690\n",
              "LotFrontage      259\n",
              "GarageYrBlt       81\n",
              "GarageCond        81\n",
              "GarageType        81\n",
              "GarageFinish      81\n",
              "GarageQual        81\n",
              "BsmtFinType2      38\n",
              "BsmtExposure      38\n",
              "BsmtQual          37\n",
              "BsmtCond          37\n",
              "BsmtFinType1      37\n",
              "MasVnrArea         8\n",
              "MasVnrType         8\n",
              "Electrical         1\n",
              "Id                 0\n",
              "Functional         0\n",
              "Fireplaces         0\n",
              "KitchenQual        0\n",
              "KitchenAbvGr       0\n",
              "BedroomAbvGr       0\n",
              "HalfBath           0\n",
              "FullBath           0\n",
              "BsmtHalfBath       0\n",
              "TotRmsAbvGrd       0\n",
              "GarageCars         0\n",
              "dtype: int64"
            ]
          },
          "metadata": {},
          "execution_count": 16
        }
      ]
    },
    {
      "cell_type": "code",
      "source": [
        "#Excluíndo valores nulos com condição\n",
        "excluir = bdhouse.columns[(bdhouse.isnull().sum()) > 10]\n",
        "excluir"
      ],
      "metadata": {
        "colab": {
          "base_uri": "https://localhost:8080/"
        },
        "id": "BXXsIGd4EnjZ",
        "outputId": "6c7135cf-72a7-4c5a-b6b5-1aa107c741b5"
      },
      "execution_count": 17,
      "outputs": [
        {
          "output_type": "execute_result",
          "data": {
            "text/plain": [
              "Index(['LotFrontage', 'Alley', 'BsmtQual', 'BsmtCond', 'BsmtExposure',\n",
              "       'BsmtFinType1', 'BsmtFinType2', 'FireplaceQu', 'GarageType',\n",
              "       'GarageYrBlt', 'GarageFinish', 'GarageQual', 'GarageCond', 'PoolQC',\n",
              "       'Fence', 'MiscFeature'],\n",
              "      dtype='object')"
            ]
          },
          "metadata": {},
          "execution_count": 17
        }
      ]
    },
    {
      "cell_type": "code",
      "source": [
        "bdhouse = bdhouse.drop(excluir,axis=1)"
      ],
      "metadata": {
        "id": "hWNeAI01FdiI"
      },
      "execution_count": 18,
      "outputs": []
    },
    {
      "cell_type": "code",
      "source": [
        "bdhouse.info()"
      ],
      "metadata": {
        "colab": {
          "base_uri": "https://localhost:8080/"
        },
        "id": "_F8hzFSTGZG7",
        "outputId": "533bfdf0-3554-41c0-e400-f6d453a0f6f9"
      },
      "execution_count": 19,
      "outputs": [
        {
          "output_type": "stream",
          "name": "stdout",
          "text": [
            "<class 'pandas.core.frame.DataFrame'>\n",
            "RangeIndex: 1460 entries, 0 to 1459\n",
            "Data columns (total 65 columns):\n",
            " #   Column         Non-Null Count  Dtype  \n",
            "---  ------         --------------  -----  \n",
            " 0   Id             1460 non-null   int64  \n",
            " 1   MSSubClass     1460 non-null   int64  \n",
            " 2   MSZoning       1460 non-null   object \n",
            " 3   LotArea        1460 non-null   int64  \n",
            " 4   Street         1460 non-null   object \n",
            " 5   LotShape       1460 non-null   object \n",
            " 6   LandContour    1460 non-null   object \n",
            " 7   Utilities      1460 non-null   object \n",
            " 8   LotConfig      1460 non-null   object \n",
            " 9   LandSlope      1460 non-null   object \n",
            " 10  Neighborhood   1460 non-null   object \n",
            " 11  Condition1     1460 non-null   object \n",
            " 12  Condition2     1460 non-null   object \n",
            " 13  BldgType       1460 non-null   object \n",
            " 14  HouseStyle     1460 non-null   object \n",
            " 15  OverallQual    1460 non-null   int64  \n",
            " 16  OverallCond    1460 non-null   int64  \n",
            " 17  YearBuilt      1460 non-null   int64  \n",
            " 18  YearRemodAdd   1460 non-null   int64  \n",
            " 19  RoofStyle      1460 non-null   object \n",
            " 20  RoofMatl       1460 non-null   object \n",
            " 21  Exterior1st    1460 non-null   object \n",
            " 22  Exterior2nd    1460 non-null   object \n",
            " 23  MasVnrType     1452 non-null   object \n",
            " 24  MasVnrArea     1452 non-null   float64\n",
            " 25  ExterQual      1460 non-null   object \n",
            " 26  ExterCond      1460 non-null   object \n",
            " 27  Foundation     1460 non-null   object \n",
            " 28  BsmtFinSF1     1460 non-null   int64  \n",
            " 29  BsmtFinSF2     1460 non-null   int64  \n",
            " 30  BsmtUnfSF      1460 non-null   int64  \n",
            " 31  TotalBsmtSF    1460 non-null   int64  \n",
            " 32  Heating        1460 non-null   object \n",
            " 33  HeatingQC      1460 non-null   object \n",
            " 34  CentralAir     1460 non-null   object \n",
            " 35  Electrical     1459 non-null   object \n",
            " 36  1stFlrSF       1460 non-null   int64  \n",
            " 37  2ndFlrSF       1460 non-null   int64  \n",
            " 38  LowQualFinSF   1460 non-null   int64  \n",
            " 39  GrLivArea      1460 non-null   int64  \n",
            " 40  BsmtFullBath   1460 non-null   int64  \n",
            " 41  BsmtHalfBath   1460 non-null   int64  \n",
            " 42  FullBath       1460 non-null   int64  \n",
            " 43  HalfBath       1460 non-null   int64  \n",
            " 44  BedroomAbvGr   1460 non-null   int64  \n",
            " 45  KitchenAbvGr   1460 non-null   int64  \n",
            " 46  KitchenQual    1460 non-null   object \n",
            " 47  TotRmsAbvGrd   1460 non-null   int64  \n",
            " 48  Functional     1460 non-null   object \n",
            " 49  Fireplaces     1460 non-null   int64  \n",
            " 50  GarageCars     1460 non-null   int64  \n",
            " 51  GarageArea     1460 non-null   int64  \n",
            " 52  PavedDrive     1460 non-null   object \n",
            " 53  WoodDeckSF     1460 non-null   int64  \n",
            " 54  OpenPorchSF    1460 non-null   int64  \n",
            " 55  EnclosedPorch  1460 non-null   int64  \n",
            " 56  3SsnPorch      1460 non-null   int64  \n",
            " 57  ScreenPorch    1460 non-null   int64  \n",
            " 58  PoolArea       1460 non-null   int64  \n",
            " 59  MiscVal        1460 non-null   int64  \n",
            " 60  MoSold         1460 non-null   int64  \n",
            " 61  YrSold         1460 non-null   int64  \n",
            " 62  SaleType       1460 non-null   object \n",
            " 63  SaleCondition  1460 non-null   object \n",
            " 64  SalePrice      1460 non-null   int64  \n",
            "dtypes: float64(1), int64(35), object(29)\n",
            "memory usage: 741.5+ KB\n"
          ]
        }
      ]
    },
    {
      "cell_type": "code",
      "source": [
        "bdint = bdhouse.columns[bdhouse.dtypes != 'object']"
      ],
      "metadata": {
        "id": "0HWhKJf6Gcqp"
      },
      "execution_count": 20,
      "outputs": []
    },
    {
      "cell_type": "code",
      "source": [
        "bdint = bdhouse.loc[:,bdint]"
      ],
      "metadata": {
        "id": "ozHaaPdZHLEq"
      },
      "execution_count": 21,
      "outputs": []
    },
    {
      "cell_type": "code",
      "source": [
        "bdint.info()"
      ],
      "metadata": {
        "colab": {
          "base_uri": "https://localhost:8080/"
        },
        "id": "d57TkCgjHvef",
        "outputId": "fec518b3-2f00-4cdb-ba4c-8693ae95ec7d"
      },
      "execution_count": 22,
      "outputs": [
        {
          "output_type": "stream",
          "name": "stdout",
          "text": [
            "<class 'pandas.core.frame.DataFrame'>\n",
            "RangeIndex: 1460 entries, 0 to 1459\n",
            "Data columns (total 36 columns):\n",
            " #   Column         Non-Null Count  Dtype  \n",
            "---  ------         --------------  -----  \n",
            " 0   Id             1460 non-null   int64  \n",
            " 1   MSSubClass     1460 non-null   int64  \n",
            " 2   LotArea        1460 non-null   int64  \n",
            " 3   OverallQual    1460 non-null   int64  \n",
            " 4   OverallCond    1460 non-null   int64  \n",
            " 5   YearBuilt      1460 non-null   int64  \n",
            " 6   YearRemodAdd   1460 non-null   int64  \n",
            " 7   MasVnrArea     1452 non-null   float64\n",
            " 8   BsmtFinSF1     1460 non-null   int64  \n",
            " 9   BsmtFinSF2     1460 non-null   int64  \n",
            " 10  BsmtUnfSF      1460 non-null   int64  \n",
            " 11  TotalBsmtSF    1460 non-null   int64  \n",
            " 12  1stFlrSF       1460 non-null   int64  \n",
            " 13  2ndFlrSF       1460 non-null   int64  \n",
            " 14  LowQualFinSF   1460 non-null   int64  \n",
            " 15  GrLivArea      1460 non-null   int64  \n",
            " 16  BsmtFullBath   1460 non-null   int64  \n",
            " 17  BsmtHalfBath   1460 non-null   int64  \n",
            " 18  FullBath       1460 non-null   int64  \n",
            " 19  HalfBath       1460 non-null   int64  \n",
            " 20  BedroomAbvGr   1460 non-null   int64  \n",
            " 21  KitchenAbvGr   1460 non-null   int64  \n",
            " 22  TotRmsAbvGrd   1460 non-null   int64  \n",
            " 23  Fireplaces     1460 non-null   int64  \n",
            " 24  GarageCars     1460 non-null   int64  \n",
            " 25  GarageArea     1460 non-null   int64  \n",
            " 26  WoodDeckSF     1460 non-null   int64  \n",
            " 27  OpenPorchSF    1460 non-null   int64  \n",
            " 28  EnclosedPorch  1460 non-null   int64  \n",
            " 29  3SsnPorch      1460 non-null   int64  \n",
            " 30  ScreenPorch    1460 non-null   int64  \n",
            " 31  PoolArea       1460 non-null   int64  \n",
            " 32  MiscVal        1460 non-null   int64  \n",
            " 33  MoSold         1460 non-null   int64  \n",
            " 34  YrSold         1460 non-null   int64  \n",
            " 35  SalePrice      1460 non-null   int64  \n",
            "dtypes: float64(1), int64(35)\n",
            "memory usage: 410.8 KB\n"
          ]
        }
      ]
    },
    {
      "cell_type": "code",
      "source": [
        "bdint = bdint.fillna(-1)"
      ],
      "metadata": {
        "id": "nKzRvvrIH0CZ"
      },
      "execution_count": 23,
      "outputs": []
    },
    {
      "cell_type": "code",
      "source": [
        "bdint.isnull().sum()"
      ],
      "metadata": {
        "colab": {
          "base_uri": "https://localhost:8080/"
        },
        "id": "hbdwmEkUIMq4",
        "outputId": "1cf3694d-7f18-4d72-9379-4603a1228397"
      },
      "execution_count": 24,
      "outputs": [
        {
          "output_type": "execute_result",
          "data": {
            "text/plain": [
              "Id               0\n",
              "MSSubClass       0\n",
              "LotArea          0\n",
              "OverallQual      0\n",
              "OverallCond      0\n",
              "YearBuilt        0\n",
              "YearRemodAdd     0\n",
              "MasVnrArea       0\n",
              "BsmtFinSF1       0\n",
              "BsmtFinSF2       0\n",
              "BsmtUnfSF        0\n",
              "TotalBsmtSF      0\n",
              "1stFlrSF         0\n",
              "2ndFlrSF         0\n",
              "LowQualFinSF     0\n",
              "GrLivArea        0\n",
              "BsmtFullBath     0\n",
              "BsmtHalfBath     0\n",
              "FullBath         0\n",
              "HalfBath         0\n",
              "BedroomAbvGr     0\n",
              "KitchenAbvGr     0\n",
              "TotRmsAbvGrd     0\n",
              "Fireplaces       0\n",
              "GarageCars       0\n",
              "GarageArea       0\n",
              "WoodDeckSF       0\n",
              "OpenPorchSF      0\n",
              "EnclosedPorch    0\n",
              "3SsnPorch        0\n",
              "ScreenPorch      0\n",
              "PoolArea         0\n",
              "MiscVal          0\n",
              "MoSold           0\n",
              "YrSold           0\n",
              "SalePrice        0\n",
              "dtype: int64"
            ]
          },
          "metadata": {},
          "execution_count": 24
        }
      ]
    },
    {
      "cell_type": "code",
      "source": [],
      "metadata": {
        "id": "Trxte1te1_em"
      },
      "execution_count": 24,
      "outputs": []
    },
    {
      "cell_type": "code",
      "source": [],
      "metadata": {
        "id": "JCCC_5Wa1_sP"
      },
      "execution_count": 24,
      "outputs": []
    },
    {
      "cell_type": "markdown",
      "source": [
        "## Separando treino e teste"
      ],
      "metadata": {
        "id": "gPcZA3703F03"
      }
    },
    {
      "cell_type": "code",
      "source": [
        "#Inciando os testes, separando em x_treino e y_teste"
      ],
      "metadata": {
        "id": "o0lg3iK02AOT"
      },
      "execution_count": 252,
      "outputs": []
    },
    {
      "cell_type": "code",
      "source": [
        "X = bdint.drop('SalePrice',axis=1)\n",
        "y = bdint.SalePrice"
      ],
      "metadata": {
        "id": "EJ6yPvye2AOT"
      },
      "execution_count": 253,
      "outputs": []
    },
    {
      "cell_type": "code",
      "source": [
        "import numpy as np\n",
        "from sklearn.model_selection import train_test_split"
      ],
      "metadata": {
        "id": "rC6MuzM-2AOU"
      },
      "execution_count": 254,
      "outputs": []
    },
    {
      "cell_type": "code",
      "source": [
        "X_train, X_test, y_train, y_test = train_test_split(X, y, test_size=0.33, random_state=42)"
      ],
      "metadata": {
        "id": "wPejRRlw2AOU"
      },
      "execution_count": 255,
      "outputs": []
    },
    {
      "cell_type": "markdown",
      "source": [
        "## ML Regrerssão Linear"
      ],
      "metadata": {
        "id": "lK9lPUI83RDm"
      }
    },
    {
      "cell_type": "code",
      "source": [
        "#Regrerssão Linear"
      ],
      "metadata": {
        "id": "MmGENRAe2AOU"
      },
      "execution_count": 256,
      "outputs": []
    },
    {
      "cell_type": "code",
      "source": [
        "from sklearn.linear_model import LinearRegression\n"
      ],
      "metadata": {
        "id": "-AVPnfze2AOV"
      },
      "execution_count": 257,
      "outputs": []
    },
    {
      "cell_type": "code",
      "source": [
        "reg_lin = LinearRegression().fit(X_train, y_train)\n"
      ],
      "metadata": {
        "id": "D9FoVxIo2AOV"
      },
      "execution_count": 258,
      "outputs": []
    },
    {
      "cell_type": "code",
      "source": [
        "y_lin = reg_lin.predict(X_test)"
      ],
      "metadata": {
        "id": "WrWv8BGU2AOV"
      },
      "execution_count": 259,
      "outputs": []
    },
    {
      "cell_type": "markdown",
      "source": [
        "##ML Random Forest"
      ],
      "metadata": {
        "id": "5ZbV2h_fYqsi"
      }
    },
    {
      "cell_type": "code",
      "source": [
        "from sklearn.ensemble import RandomForestRegressor"
      ],
      "metadata": {
        "id": "83HWwUTkYqsi"
      },
      "execution_count": 284,
      "outputs": []
    },
    {
      "cell_type": "code",
      "source": [
        "reg_forest = RandomForestRegressor(n_estimators=100, criterion='squared_error', max_depth=6, random_state=10).fit(X_train, y_train)"
      ],
      "metadata": {
        "id": "nqxp19hKYqsj"
      },
      "execution_count": 285,
      "outputs": []
    },
    {
      "cell_type": "code",
      "source": [
        "y_forest = reg_forest.predict(X_test)"
      ],
      "metadata": {
        "id": "As1jmdxfbG8k"
      },
      "execution_count": 286,
      "outputs": []
    },
    {
      "cell_type": "code",
      "source": [
        "reg_forest.score(X_train, y_train)"
      ],
      "metadata": {
        "colab": {
          "base_uri": "https://localhost:8080/"
        },
        "id": "zBOTzkCvYqsj",
        "outputId": "ebc1e9f3-1f7a-4af6-d1da-1766831e558c"
      },
      "execution_count": 266,
      "outputs": [
        {
          "output_type": "execute_result",
          "data": {
            "text/plain": [
              "0.9253707055162583"
            ]
          },
          "metadata": {},
          "execution_count": 266
        }
      ]
    },
    {
      "cell_type": "code",
      "source": [
        "reg_forest.score(X_test, y_test)"
      ],
      "metadata": {
        "colab": {
          "base_uri": "https://localhost:8080/"
        },
        "id": "62v70KGmat82",
        "outputId": "b00ff33a-9c12-4a42-aa48-64eb595b94f6"
      },
      "execution_count": 267,
      "outputs": [
        {
          "output_type": "execute_result",
          "data": {
            "text/plain": [
              "0.857299352768268"
            ]
          },
          "metadata": {},
          "execution_count": 267
        }
      ]
    },
    {
      "cell_type": "markdown",
      "source": [
        "##ML Arvore de Decisão"
      ],
      "metadata": {
        "id": "siXmYXXW3Vui"
      }
    },
    {
      "cell_type": "code",
      "source": [
        "from sklearn import tree"
      ],
      "metadata": {
        "id": "-i-xEC0Q2AOW"
      },
      "execution_count": 268,
      "outputs": []
    },
    {
      "cell_type": "code",
      "source": [
        "reg_tree = tree.DecisionTreeRegressor(random_state=10).fit(X_train, y_train)"
      ],
      "metadata": {
        "id": "N4X8ntqy2AOW"
      },
      "execution_count": 269,
      "outputs": []
    },
    {
      "cell_type": "code",
      "source": [
        "y_tree = reg_tree.predict(X_test)"
      ],
      "metadata": {
        "id": "gAzJB3yH2AOW"
      },
      "execution_count": 270,
      "outputs": []
    },
    {
      "cell_type": "markdown",
      "source": [
        "## ML Regreção KN"
      ],
      "metadata": {
        "id": "xAlnLz3g3aRr"
      }
    },
    {
      "cell_type": "code",
      "source": [
        "#Regreção KN"
      ],
      "metadata": {
        "id": "oaIwB4Wz2AOX"
      },
      "execution_count": 271,
      "outputs": []
    },
    {
      "cell_type": "code",
      "source": [
        "from sklearn.neighbors import KNeighborsRegressor"
      ],
      "metadata": {
        "id": "c05IMKIW2AOX"
      },
      "execution_count": 272,
      "outputs": []
    },
    {
      "cell_type": "code",
      "source": [
        "reg_kn = KNeighborsRegressor(n_neighbors=2).fit(X_train, y_train)"
      ],
      "metadata": {
        "id": "sNY50xOI2AOX"
      },
      "execution_count": 273,
      "outputs": []
    },
    {
      "cell_type": "code",
      "source": [
        "y_kn = reg_kn.predict(X_test)"
      ],
      "metadata": {
        "id": "9QwjANzI2AOY"
      },
      "execution_count": 274,
      "outputs": []
    },
    {
      "cell_type": "code",
      "source": [
        "#Avaliando o modelo utilizando a métrica exigida na competição mean_absolute_error e mean_squared_error"
      ],
      "metadata": {
        "id": "c6D91JSn2AOY"
      },
      "execution_count": 275,
      "outputs": []
    },
    {
      "cell_type": "markdown",
      "source": [
        "## Avaliação (mean_squared_error)"
      ],
      "metadata": {
        "id": "QHj9_36wb-Nt"
      }
    },
    {
      "cell_type": "code",
      "source": [
        "from sklearn.metrics import mean_absolute_error, mean_squared_error"
      ],
      "metadata": {
        "id": "VMJH-kUN2AOY"
      },
      "execution_count": 276,
      "outputs": []
    },
    {
      "cell_type": "code",
      "source": [
        "print(mean_absolute_error(y_test,y_lin))\n",
        "print(mean_squared_error(y_test,y_lin))"
      ],
      "metadata": {
        "colab": {
          "base_uri": "https://localhost:8080/"
        },
        "outputId": "c8e489fa-2e77-40cd-a1d5-30fd8ce987b0",
        "id": "_jhZM8Ki2AOZ"
      },
      "execution_count": 277,
      "outputs": [
        {
          "output_type": "stream",
          "name": "stdout",
          "text": [
            "23845.33779848227\n",
            "1429553345.929374\n"
          ]
        }
      ]
    },
    {
      "cell_type": "code",
      "source": [
        "print(mean_absolute_error(y_test,y_forest))\n",
        "print(mean_squared_error(y_test,y_forest))"
      ],
      "metadata": {
        "colab": {
          "base_uri": "https://localhost:8080/"
        },
        "id": "UGNBrb2la-ZR",
        "outputId": "0c4eba3b-5f79-4683-8fc5-976f7c816211"
      },
      "execution_count": 278,
      "outputs": [
        {
          "output_type": "stream",
          "name": "stdout",
          "text": [
            "19148.649612022993\n",
            "1047621298.7380303\n"
          ]
        }
      ]
    },
    {
      "cell_type": "code",
      "source": [
        "print(mean_absolute_error(y_test,y_tree))\n",
        "print(mean_squared_error(y_test,y_tree))"
      ],
      "metadata": {
        "colab": {
          "base_uri": "https://localhost:8080/"
        },
        "outputId": "7a7fe774-c1bd-4125-daf6-a33087c42789",
        "id": "2fKp18B_2AOZ"
      },
      "execution_count": 279,
      "outputs": [
        {
          "output_type": "stream",
          "name": "stdout",
          "text": [
            "27577.865145228217\n",
            "1757857015.807054\n"
          ]
        }
      ]
    },
    {
      "cell_type": "code",
      "source": [
        "print(mean_absolute_error(y_test,y_kn))\n",
        "print(mean_squared_error(y_test,y_kn))"
      ],
      "metadata": {
        "colab": {
          "base_uri": "https://localhost:8080/"
        },
        "outputId": "1479e508-c642-4967-8773-44456cecc376",
        "id": "n6FJEelV2AOa"
      },
      "execution_count": 280,
      "outputs": [
        {
          "output_type": "stream",
          "name": "stdout",
          "text": [
            "33167.50311203319\n",
            "2660394310.2370334\n"
          ]
        }
      ]
    },
    {
      "cell_type": "code",
      "source": [
        "#Ao comparar o mean_squared_error, obtivemos o Random Forest como a melhor solução, alcançando a avaliação de 10."
      ],
      "metadata": {
        "id": "txmgW5YE1_yr"
      },
      "execution_count": null,
      "outputs": []
    },
    {
      "cell_type": "markdown",
      "source": [
        "# Projeto 2\n"
      ],
      "metadata": {
        "id": "CNlBfRKd1ylN"
      }
    },
    {
      "cell_type": "code",
      "source": [
        "import pandas as pd\n",
        "bdhouse = pd.read_csv('/content/houseprices/train.csv')\n",
        "#bdhouse = pd.read_csv('/content/houseprices/test.csv')\n",
        "bdhouse"
      ],
      "metadata": {
        "id": "lG4eLLpiQfe4",
        "colab": {
          "base_uri": "https://localhost:8080/",
          "height": 444
        },
        "outputId": "7f0c7373-eb62-4eab-a403-ec79d5a6903f"
      },
      "execution_count": 67,
      "outputs": [
        {
          "output_type": "execute_result",
          "data": {
            "text/plain": [
              "        Id  MSSubClass MSZoning  LotFrontage  LotArea Street Alley LotShape  \\\n",
              "0        1          60       RL         65.0     8450   Pave   NaN      Reg   \n",
              "1        2          20       RL         80.0     9600   Pave   NaN      Reg   \n",
              "2        3          60       RL         68.0    11250   Pave   NaN      IR1   \n",
              "3        4          70       RL         60.0     9550   Pave   NaN      IR1   \n",
              "4        5          60       RL         84.0    14260   Pave   NaN      IR1   \n",
              "...    ...         ...      ...          ...      ...    ...   ...      ...   \n",
              "1455  1456          60       RL         62.0     7917   Pave   NaN      Reg   \n",
              "1456  1457          20       RL         85.0    13175   Pave   NaN      Reg   \n",
              "1457  1458          70       RL         66.0     9042   Pave   NaN      Reg   \n",
              "1458  1459          20       RL         68.0     9717   Pave   NaN      Reg   \n",
              "1459  1460          20       RL         75.0     9937   Pave   NaN      Reg   \n",
              "\n",
              "     LandContour Utilities  ... PoolArea PoolQC  Fence MiscFeature MiscVal  \\\n",
              "0            Lvl    AllPub  ...        0    NaN    NaN         NaN       0   \n",
              "1            Lvl    AllPub  ...        0    NaN    NaN         NaN       0   \n",
              "2            Lvl    AllPub  ...        0    NaN    NaN         NaN       0   \n",
              "3            Lvl    AllPub  ...        0    NaN    NaN         NaN       0   \n",
              "4            Lvl    AllPub  ...        0    NaN    NaN         NaN       0   \n",
              "...          ...       ...  ...      ...    ...    ...         ...     ...   \n",
              "1455         Lvl    AllPub  ...        0    NaN    NaN         NaN       0   \n",
              "1456         Lvl    AllPub  ...        0    NaN  MnPrv         NaN       0   \n",
              "1457         Lvl    AllPub  ...        0    NaN  GdPrv        Shed    2500   \n",
              "1458         Lvl    AllPub  ...        0    NaN    NaN         NaN       0   \n",
              "1459         Lvl    AllPub  ...        0    NaN    NaN         NaN       0   \n",
              "\n",
              "     MoSold YrSold  SaleType  SaleCondition  SalePrice  \n",
              "0         2   2008        WD         Normal     208500  \n",
              "1         5   2007        WD         Normal     181500  \n",
              "2         9   2008        WD         Normal     223500  \n",
              "3         2   2006        WD        Abnorml     140000  \n",
              "4        12   2008        WD         Normal     250000  \n",
              "...     ...    ...       ...            ...        ...  \n",
              "1455      8   2007        WD         Normal     175000  \n",
              "1456      2   2010        WD         Normal     210000  \n",
              "1457      5   2010        WD         Normal     266500  \n",
              "1458      4   2010        WD         Normal     142125  \n",
              "1459      6   2008        WD         Normal     147500  \n",
              "\n",
              "[1460 rows x 81 columns]"
            ],
            "text/html": [
              "\n",
              "  <div id=\"df-9a73a8bd-f8ed-4de2-9501-c698dbd87dd0\" class=\"colab-df-container\">\n",
              "    <div>\n",
              "<style scoped>\n",
              "    .dataframe tbody tr th:only-of-type {\n",
              "        vertical-align: middle;\n",
              "    }\n",
              "\n",
              "    .dataframe tbody tr th {\n",
              "        vertical-align: top;\n",
              "    }\n",
              "\n",
              "    .dataframe thead th {\n",
              "        text-align: right;\n",
              "    }\n",
              "</style>\n",
              "<table border=\"1\" class=\"dataframe\">\n",
              "  <thead>\n",
              "    <tr style=\"text-align: right;\">\n",
              "      <th></th>\n",
              "      <th>Id</th>\n",
              "      <th>MSSubClass</th>\n",
              "      <th>MSZoning</th>\n",
              "      <th>LotFrontage</th>\n",
              "      <th>LotArea</th>\n",
              "      <th>Street</th>\n",
              "      <th>Alley</th>\n",
              "      <th>LotShape</th>\n",
              "      <th>LandContour</th>\n",
              "      <th>Utilities</th>\n",
              "      <th>...</th>\n",
              "      <th>PoolArea</th>\n",
              "      <th>PoolQC</th>\n",
              "      <th>Fence</th>\n",
              "      <th>MiscFeature</th>\n",
              "      <th>MiscVal</th>\n",
              "      <th>MoSold</th>\n",
              "      <th>YrSold</th>\n",
              "      <th>SaleType</th>\n",
              "      <th>SaleCondition</th>\n",
              "      <th>SalePrice</th>\n",
              "    </tr>\n",
              "  </thead>\n",
              "  <tbody>\n",
              "    <tr>\n",
              "      <th>0</th>\n",
              "      <td>1</td>\n",
              "      <td>60</td>\n",
              "      <td>RL</td>\n",
              "      <td>65.0</td>\n",
              "      <td>8450</td>\n",
              "      <td>Pave</td>\n",
              "      <td>NaN</td>\n",
              "      <td>Reg</td>\n",
              "      <td>Lvl</td>\n",
              "      <td>AllPub</td>\n",
              "      <td>...</td>\n",
              "      <td>0</td>\n",
              "      <td>NaN</td>\n",
              "      <td>NaN</td>\n",
              "      <td>NaN</td>\n",
              "      <td>0</td>\n",
              "      <td>2</td>\n",
              "      <td>2008</td>\n",
              "      <td>WD</td>\n",
              "      <td>Normal</td>\n",
              "      <td>208500</td>\n",
              "    </tr>\n",
              "    <tr>\n",
              "      <th>1</th>\n",
              "      <td>2</td>\n",
              "      <td>20</td>\n",
              "      <td>RL</td>\n",
              "      <td>80.0</td>\n",
              "      <td>9600</td>\n",
              "      <td>Pave</td>\n",
              "      <td>NaN</td>\n",
              "      <td>Reg</td>\n",
              "      <td>Lvl</td>\n",
              "      <td>AllPub</td>\n",
              "      <td>...</td>\n",
              "      <td>0</td>\n",
              "      <td>NaN</td>\n",
              "      <td>NaN</td>\n",
              "      <td>NaN</td>\n",
              "      <td>0</td>\n",
              "      <td>5</td>\n",
              "      <td>2007</td>\n",
              "      <td>WD</td>\n",
              "      <td>Normal</td>\n",
              "      <td>181500</td>\n",
              "    </tr>\n",
              "    <tr>\n",
              "      <th>2</th>\n",
              "      <td>3</td>\n",
              "      <td>60</td>\n",
              "      <td>RL</td>\n",
              "      <td>68.0</td>\n",
              "      <td>11250</td>\n",
              "      <td>Pave</td>\n",
              "      <td>NaN</td>\n",
              "      <td>IR1</td>\n",
              "      <td>Lvl</td>\n",
              "      <td>AllPub</td>\n",
              "      <td>...</td>\n",
              "      <td>0</td>\n",
              "      <td>NaN</td>\n",
              "      <td>NaN</td>\n",
              "      <td>NaN</td>\n",
              "      <td>0</td>\n",
              "      <td>9</td>\n",
              "      <td>2008</td>\n",
              "      <td>WD</td>\n",
              "      <td>Normal</td>\n",
              "      <td>223500</td>\n",
              "    </tr>\n",
              "    <tr>\n",
              "      <th>3</th>\n",
              "      <td>4</td>\n",
              "      <td>70</td>\n",
              "      <td>RL</td>\n",
              "      <td>60.0</td>\n",
              "      <td>9550</td>\n",
              "      <td>Pave</td>\n",
              "      <td>NaN</td>\n",
              "      <td>IR1</td>\n",
              "      <td>Lvl</td>\n",
              "      <td>AllPub</td>\n",
              "      <td>...</td>\n",
              "      <td>0</td>\n",
              "      <td>NaN</td>\n",
              "      <td>NaN</td>\n",
              "      <td>NaN</td>\n",
              "      <td>0</td>\n",
              "      <td>2</td>\n",
              "      <td>2006</td>\n",
              "      <td>WD</td>\n",
              "      <td>Abnorml</td>\n",
              "      <td>140000</td>\n",
              "    </tr>\n",
              "    <tr>\n",
              "      <th>4</th>\n",
              "      <td>5</td>\n",
              "      <td>60</td>\n",
              "      <td>RL</td>\n",
              "      <td>84.0</td>\n",
              "      <td>14260</td>\n",
              "      <td>Pave</td>\n",
              "      <td>NaN</td>\n",
              "      <td>IR1</td>\n",
              "      <td>Lvl</td>\n",
              "      <td>AllPub</td>\n",
              "      <td>...</td>\n",
              "      <td>0</td>\n",
              "      <td>NaN</td>\n",
              "      <td>NaN</td>\n",
              "      <td>NaN</td>\n",
              "      <td>0</td>\n",
              "      <td>12</td>\n",
              "      <td>2008</td>\n",
              "      <td>WD</td>\n",
              "      <td>Normal</td>\n",
              "      <td>250000</td>\n",
              "    </tr>\n",
              "    <tr>\n",
              "      <th>...</th>\n",
              "      <td>...</td>\n",
              "      <td>...</td>\n",
              "      <td>...</td>\n",
              "      <td>...</td>\n",
              "      <td>...</td>\n",
              "      <td>...</td>\n",
              "      <td>...</td>\n",
              "      <td>...</td>\n",
              "      <td>...</td>\n",
              "      <td>...</td>\n",
              "      <td>...</td>\n",
              "      <td>...</td>\n",
              "      <td>...</td>\n",
              "      <td>...</td>\n",
              "      <td>...</td>\n",
              "      <td>...</td>\n",
              "      <td>...</td>\n",
              "      <td>...</td>\n",
              "      <td>...</td>\n",
              "      <td>...</td>\n",
              "      <td>...</td>\n",
              "    </tr>\n",
              "    <tr>\n",
              "      <th>1455</th>\n",
              "      <td>1456</td>\n",
              "      <td>60</td>\n",
              "      <td>RL</td>\n",
              "      <td>62.0</td>\n",
              "      <td>7917</td>\n",
              "      <td>Pave</td>\n",
              "      <td>NaN</td>\n",
              "      <td>Reg</td>\n",
              "      <td>Lvl</td>\n",
              "      <td>AllPub</td>\n",
              "      <td>...</td>\n",
              "      <td>0</td>\n",
              "      <td>NaN</td>\n",
              "      <td>NaN</td>\n",
              "      <td>NaN</td>\n",
              "      <td>0</td>\n",
              "      <td>8</td>\n",
              "      <td>2007</td>\n",
              "      <td>WD</td>\n",
              "      <td>Normal</td>\n",
              "      <td>175000</td>\n",
              "    </tr>\n",
              "    <tr>\n",
              "      <th>1456</th>\n",
              "      <td>1457</td>\n",
              "      <td>20</td>\n",
              "      <td>RL</td>\n",
              "      <td>85.0</td>\n",
              "      <td>13175</td>\n",
              "      <td>Pave</td>\n",
              "      <td>NaN</td>\n",
              "      <td>Reg</td>\n",
              "      <td>Lvl</td>\n",
              "      <td>AllPub</td>\n",
              "      <td>...</td>\n",
              "      <td>0</td>\n",
              "      <td>NaN</td>\n",
              "      <td>MnPrv</td>\n",
              "      <td>NaN</td>\n",
              "      <td>0</td>\n",
              "      <td>2</td>\n",
              "      <td>2010</td>\n",
              "      <td>WD</td>\n",
              "      <td>Normal</td>\n",
              "      <td>210000</td>\n",
              "    </tr>\n",
              "    <tr>\n",
              "      <th>1457</th>\n",
              "      <td>1458</td>\n",
              "      <td>70</td>\n",
              "      <td>RL</td>\n",
              "      <td>66.0</td>\n",
              "      <td>9042</td>\n",
              "      <td>Pave</td>\n",
              "      <td>NaN</td>\n",
              "      <td>Reg</td>\n",
              "      <td>Lvl</td>\n",
              "      <td>AllPub</td>\n",
              "      <td>...</td>\n",
              "      <td>0</td>\n",
              "      <td>NaN</td>\n",
              "      <td>GdPrv</td>\n",
              "      <td>Shed</td>\n",
              "      <td>2500</td>\n",
              "      <td>5</td>\n",
              "      <td>2010</td>\n",
              "      <td>WD</td>\n",
              "      <td>Normal</td>\n",
              "      <td>266500</td>\n",
              "    </tr>\n",
              "    <tr>\n",
              "      <th>1458</th>\n",
              "      <td>1459</td>\n",
              "      <td>20</td>\n",
              "      <td>RL</td>\n",
              "      <td>68.0</td>\n",
              "      <td>9717</td>\n",
              "      <td>Pave</td>\n",
              "      <td>NaN</td>\n",
              "      <td>Reg</td>\n",
              "      <td>Lvl</td>\n",
              "      <td>AllPub</td>\n",
              "      <td>...</td>\n",
              "      <td>0</td>\n",
              "      <td>NaN</td>\n",
              "      <td>NaN</td>\n",
              "      <td>NaN</td>\n",
              "      <td>0</td>\n",
              "      <td>4</td>\n",
              "      <td>2010</td>\n",
              "      <td>WD</td>\n",
              "      <td>Normal</td>\n",
              "      <td>142125</td>\n",
              "    </tr>\n",
              "    <tr>\n",
              "      <th>1459</th>\n",
              "      <td>1460</td>\n",
              "      <td>20</td>\n",
              "      <td>RL</td>\n",
              "      <td>75.0</td>\n",
              "      <td>9937</td>\n",
              "      <td>Pave</td>\n",
              "      <td>NaN</td>\n",
              "      <td>Reg</td>\n",
              "      <td>Lvl</td>\n",
              "      <td>AllPub</td>\n",
              "      <td>...</td>\n",
              "      <td>0</td>\n",
              "      <td>NaN</td>\n",
              "      <td>NaN</td>\n",
              "      <td>NaN</td>\n",
              "      <td>0</td>\n",
              "      <td>6</td>\n",
              "      <td>2008</td>\n",
              "      <td>WD</td>\n",
              "      <td>Normal</td>\n",
              "      <td>147500</td>\n",
              "    </tr>\n",
              "  </tbody>\n",
              "</table>\n",
              "<p>1460 rows × 81 columns</p>\n",
              "</div>\n",
              "    <div class=\"colab-df-buttons\">\n",
              "\n",
              "  <div class=\"colab-df-container\">\n",
              "    <button class=\"colab-df-convert\" onclick=\"convertToInteractive('df-9a73a8bd-f8ed-4de2-9501-c698dbd87dd0')\"\n",
              "            title=\"Convert this dataframe to an interactive table.\"\n",
              "            style=\"display:none;\">\n",
              "\n",
              "  <svg xmlns=\"http://www.w3.org/2000/svg\" height=\"24px\" viewBox=\"0 -960 960 960\">\n",
              "    <path d=\"M120-120v-720h720v720H120Zm60-500h600v-160H180v160Zm220 220h160v-160H400v160Zm0 220h160v-160H400v160ZM180-400h160v-160H180v160Zm440 0h160v-160H620v160ZM180-180h160v-160H180v160Zm440 0h160v-160H620v160Z\"/>\n",
              "  </svg>\n",
              "    </button>\n",
              "\n",
              "  <style>\n",
              "    .colab-df-container {\n",
              "      display:flex;\n",
              "      gap: 12px;\n",
              "    }\n",
              "\n",
              "    .colab-df-convert {\n",
              "      background-color: #E8F0FE;\n",
              "      border: none;\n",
              "      border-radius: 50%;\n",
              "      cursor: pointer;\n",
              "      display: none;\n",
              "      fill: #1967D2;\n",
              "      height: 32px;\n",
              "      padding: 0 0 0 0;\n",
              "      width: 32px;\n",
              "    }\n",
              "\n",
              "    .colab-df-convert:hover {\n",
              "      background-color: #E2EBFA;\n",
              "      box-shadow: 0px 1px 2px rgba(60, 64, 67, 0.3), 0px 1px 3px 1px rgba(60, 64, 67, 0.15);\n",
              "      fill: #174EA6;\n",
              "    }\n",
              "\n",
              "    .colab-df-buttons div {\n",
              "      margin-bottom: 4px;\n",
              "    }\n",
              "\n",
              "    [theme=dark] .colab-df-convert {\n",
              "      background-color: #3B4455;\n",
              "      fill: #D2E3FC;\n",
              "    }\n",
              "\n",
              "    [theme=dark] .colab-df-convert:hover {\n",
              "      background-color: #434B5C;\n",
              "      box-shadow: 0px 1px 3px 1px rgba(0, 0, 0, 0.15);\n",
              "      filter: drop-shadow(0px 1px 2px rgba(0, 0, 0, 0.3));\n",
              "      fill: #FFFFFF;\n",
              "    }\n",
              "  </style>\n",
              "\n",
              "    <script>\n",
              "      const buttonEl =\n",
              "        document.querySelector('#df-9a73a8bd-f8ed-4de2-9501-c698dbd87dd0 button.colab-df-convert');\n",
              "      buttonEl.style.display =\n",
              "        google.colab.kernel.accessAllowed ? 'block' : 'none';\n",
              "\n",
              "      async function convertToInteractive(key) {\n",
              "        const element = document.querySelector('#df-9a73a8bd-f8ed-4de2-9501-c698dbd87dd0');\n",
              "        const dataTable =\n",
              "          await google.colab.kernel.invokeFunction('convertToInteractive',\n",
              "                                                    [key], {});\n",
              "        if (!dataTable) return;\n",
              "\n",
              "        const docLinkHtml = 'Like what you see? Visit the ' +\n",
              "          '<a target=\"_blank\" href=https://colab.research.google.com/notebooks/data_table.ipynb>data table notebook</a>'\n",
              "          + ' to learn more about interactive tables.';\n",
              "        element.innerHTML = '';\n",
              "        dataTable['output_type'] = 'display_data';\n",
              "        await google.colab.output.renderOutput(dataTable, element);\n",
              "        const docLink = document.createElement('div');\n",
              "        docLink.innerHTML = docLinkHtml;\n",
              "        element.appendChild(docLink);\n",
              "      }\n",
              "    </script>\n",
              "  </div>\n",
              "\n",
              "\n",
              "<div id=\"df-abef3506-1966-4583-9d19-b36fb685dd3d\">\n",
              "  <button class=\"colab-df-quickchart\" onclick=\"quickchart('df-abef3506-1966-4583-9d19-b36fb685dd3d')\"\n",
              "            title=\"Suggest charts\"\n",
              "            style=\"display:none;\">\n",
              "\n",
              "<svg xmlns=\"http://www.w3.org/2000/svg\" height=\"24px\"viewBox=\"0 0 24 24\"\n",
              "     width=\"24px\">\n",
              "    <g>\n",
              "        <path d=\"M19 3H5c-1.1 0-2 .9-2 2v14c0 1.1.9 2 2 2h14c1.1 0 2-.9 2-2V5c0-1.1-.9-2-2-2zM9 17H7v-7h2v7zm4 0h-2V7h2v10zm4 0h-2v-4h2v4z\"/>\n",
              "    </g>\n",
              "</svg>\n",
              "  </button>\n",
              "\n",
              "<style>\n",
              "  .colab-df-quickchart {\n",
              "      --bg-color: #E8F0FE;\n",
              "      --fill-color: #1967D2;\n",
              "      --hover-bg-color: #E2EBFA;\n",
              "      --hover-fill-color: #174EA6;\n",
              "      --disabled-fill-color: #AAA;\n",
              "      --disabled-bg-color: #DDD;\n",
              "  }\n",
              "\n",
              "  [theme=dark] .colab-df-quickchart {\n",
              "      --bg-color: #3B4455;\n",
              "      --fill-color: #D2E3FC;\n",
              "      --hover-bg-color: #434B5C;\n",
              "      --hover-fill-color: #FFFFFF;\n",
              "      --disabled-bg-color: #3B4455;\n",
              "      --disabled-fill-color: #666;\n",
              "  }\n",
              "\n",
              "  .colab-df-quickchart {\n",
              "    background-color: var(--bg-color);\n",
              "    border: none;\n",
              "    border-radius: 50%;\n",
              "    cursor: pointer;\n",
              "    display: none;\n",
              "    fill: var(--fill-color);\n",
              "    height: 32px;\n",
              "    padding: 0;\n",
              "    width: 32px;\n",
              "  }\n",
              "\n",
              "  .colab-df-quickchart:hover {\n",
              "    background-color: var(--hover-bg-color);\n",
              "    box-shadow: 0 1px 2px rgba(60, 64, 67, 0.3), 0 1px 3px 1px rgba(60, 64, 67, 0.15);\n",
              "    fill: var(--button-hover-fill-color);\n",
              "  }\n",
              "\n",
              "  .colab-df-quickchart-complete:disabled,\n",
              "  .colab-df-quickchart-complete:disabled:hover {\n",
              "    background-color: var(--disabled-bg-color);\n",
              "    fill: var(--disabled-fill-color);\n",
              "    box-shadow: none;\n",
              "  }\n",
              "\n",
              "  .colab-df-spinner {\n",
              "    border: 2px solid var(--fill-color);\n",
              "    border-color: transparent;\n",
              "    border-bottom-color: var(--fill-color);\n",
              "    animation:\n",
              "      spin 1s steps(1) infinite;\n",
              "  }\n",
              "\n",
              "  @keyframes spin {\n",
              "    0% {\n",
              "      border-color: transparent;\n",
              "      border-bottom-color: var(--fill-color);\n",
              "      border-left-color: var(--fill-color);\n",
              "    }\n",
              "    20% {\n",
              "      border-color: transparent;\n",
              "      border-left-color: var(--fill-color);\n",
              "      border-top-color: var(--fill-color);\n",
              "    }\n",
              "    30% {\n",
              "      border-color: transparent;\n",
              "      border-left-color: var(--fill-color);\n",
              "      border-top-color: var(--fill-color);\n",
              "      border-right-color: var(--fill-color);\n",
              "    }\n",
              "    40% {\n",
              "      border-color: transparent;\n",
              "      border-right-color: var(--fill-color);\n",
              "      border-top-color: var(--fill-color);\n",
              "    }\n",
              "    60% {\n",
              "      border-color: transparent;\n",
              "      border-right-color: var(--fill-color);\n",
              "    }\n",
              "    80% {\n",
              "      border-color: transparent;\n",
              "      border-right-color: var(--fill-color);\n",
              "      border-bottom-color: var(--fill-color);\n",
              "    }\n",
              "    90% {\n",
              "      border-color: transparent;\n",
              "      border-bottom-color: var(--fill-color);\n",
              "    }\n",
              "  }\n",
              "</style>\n",
              "\n",
              "  <script>\n",
              "    async function quickchart(key) {\n",
              "      const quickchartButtonEl =\n",
              "        document.querySelector('#' + key + ' button');\n",
              "      quickchartButtonEl.disabled = true;  // To prevent multiple clicks.\n",
              "      quickchartButtonEl.classList.add('colab-df-spinner');\n",
              "      try {\n",
              "        const charts = await google.colab.kernel.invokeFunction(\n",
              "            'suggestCharts', [key], {});\n",
              "      } catch (error) {\n",
              "        console.error('Error during call to suggestCharts:', error);\n",
              "      }\n",
              "      quickchartButtonEl.classList.remove('colab-df-spinner');\n",
              "      quickchartButtonEl.classList.add('colab-df-quickchart-complete');\n",
              "    }\n",
              "    (() => {\n",
              "      let quickchartButtonEl =\n",
              "        document.querySelector('#df-abef3506-1966-4583-9d19-b36fb685dd3d button');\n",
              "      quickchartButtonEl.style.display =\n",
              "        google.colab.kernel.accessAllowed ? 'block' : 'none';\n",
              "    })();\n",
              "  </script>\n",
              "</div>\n",
              "\n",
              "  <div id=\"id_ad243b4c-2058-4c50-8b59-8f854b18b7bd\">\n",
              "    <style>\n",
              "      .colab-df-generate {\n",
              "        background-color: #E8F0FE;\n",
              "        border: none;\n",
              "        border-radius: 50%;\n",
              "        cursor: pointer;\n",
              "        display: none;\n",
              "        fill: #1967D2;\n",
              "        height: 32px;\n",
              "        padding: 0 0 0 0;\n",
              "        width: 32px;\n",
              "      }\n",
              "\n",
              "      .colab-df-generate:hover {\n",
              "        background-color: #E2EBFA;\n",
              "        box-shadow: 0px 1px 2px rgba(60, 64, 67, 0.3), 0px 1px 3px 1px rgba(60, 64, 67, 0.15);\n",
              "        fill: #174EA6;\n",
              "      }\n",
              "\n",
              "      [theme=dark] .colab-df-generate {\n",
              "        background-color: #3B4455;\n",
              "        fill: #D2E3FC;\n",
              "      }\n",
              "\n",
              "      [theme=dark] .colab-df-generate:hover {\n",
              "        background-color: #434B5C;\n",
              "        box-shadow: 0px 1px 3px 1px rgba(0, 0, 0, 0.15);\n",
              "        filter: drop-shadow(0px 1px 2px rgba(0, 0, 0, 0.3));\n",
              "        fill: #FFFFFF;\n",
              "      }\n",
              "    </style>\n",
              "    <button class=\"colab-df-generate\" onclick=\"generateWithVariable('bdhouse')\"\n",
              "            title=\"Generate code using this dataframe.\"\n",
              "            style=\"display:none;\">\n",
              "\n",
              "  <svg xmlns=\"http://www.w3.org/2000/svg\" height=\"24px\"viewBox=\"0 0 24 24\"\n",
              "       width=\"24px\">\n",
              "    <path d=\"M7,19H8.4L18.45,9,17,7.55,7,17.6ZM5,21V16.75L18.45,3.32a2,2,0,0,1,2.83,0l1.4,1.43a1.91,1.91,0,0,1,.58,1.4,1.91,1.91,0,0,1-.58,1.4L9.25,21ZM18.45,9,17,7.55Zm-12,3A5.31,5.31,0,0,0,4.9,8.1,5.31,5.31,0,0,0,1,6.5,5.31,5.31,0,0,0,4.9,4.9,5.31,5.31,0,0,0,6.5,1,5.31,5.31,0,0,0,8.1,4.9,5.31,5.31,0,0,0,12,6.5,5.46,5.46,0,0,0,6.5,12Z\"/>\n",
              "  </svg>\n",
              "    </button>\n",
              "    <script>\n",
              "      (() => {\n",
              "      const buttonEl =\n",
              "        document.querySelector('#id_ad243b4c-2058-4c50-8b59-8f854b18b7bd button.colab-df-generate');\n",
              "      buttonEl.style.display =\n",
              "        google.colab.kernel.accessAllowed ? 'block' : 'none';\n",
              "\n",
              "      buttonEl.onclick = () => {\n",
              "        google.colab.notebook.generateWithVariable('bdhouse');\n",
              "      }\n",
              "      })();\n",
              "    </script>\n",
              "  </div>\n",
              "\n",
              "    </div>\n",
              "  </div>\n"
            ],
            "application/vnd.google.colaboratory.intrinsic+json": {
              "type": "dataframe",
              "variable_name": "bdhouse"
            }
          },
          "metadata": {},
          "execution_count": 67
        }
      ]
    },
    {
      "cell_type": "markdown",
      "source": [
        "## Explorando os Dados"
      ],
      "metadata": {
        "id": "DQj4kxkCcYk7"
      }
    },
    {
      "cell_type": "code",
      "source": [
        "bdhouse.shape"
      ],
      "metadata": {
        "colab": {
          "base_uri": "https://localhost:8080/"
        },
        "id": "ZQtun6eGStfg",
        "outputId": "305ae647-e813-402b-8158-d78ddeb13e2f"
      },
      "execution_count": 68,
      "outputs": [
        {
          "output_type": "execute_result",
          "data": {
            "text/plain": [
              "(1460, 81)"
            ]
          },
          "metadata": {},
          "execution_count": 68
        }
      ]
    },
    {
      "cell_type": "code",
      "source": [
        "bdhouse.head(100)"
      ],
      "metadata": {
        "colab": {
          "base_uri": "https://localhost:8080/",
          "height": 444
        },
        "id": "3DYQ_G6VXYSn",
        "outputId": "b37a67d7-4974-4682-9d4c-65d257eddafa"
      },
      "execution_count": 69,
      "outputs": [
        {
          "output_type": "execute_result",
          "data": {
            "text/plain": [
              "     Id  MSSubClass MSZoning  LotFrontage  LotArea Street Alley LotShape  \\\n",
              "0     1          60       RL         65.0     8450   Pave   NaN      Reg   \n",
              "1     2          20       RL         80.0     9600   Pave   NaN      Reg   \n",
              "2     3          60       RL         68.0    11250   Pave   NaN      IR1   \n",
              "3     4          70       RL         60.0     9550   Pave   NaN      IR1   \n",
              "4     5          60       RL         84.0    14260   Pave   NaN      IR1   \n",
              "..  ...         ...      ...          ...      ...    ...   ...      ...   \n",
              "95   96          60       RL          NaN     9765   Pave   NaN      IR2   \n",
              "96   97          20       RL         78.0    10264   Pave   NaN      IR1   \n",
              "97   98          20       RL         73.0    10921   Pave   NaN      Reg   \n",
              "98   99          30       RL         85.0    10625   Pave   NaN      Reg   \n",
              "99  100          20       RL         77.0     9320   Pave   NaN      IR1   \n",
              "\n",
              "   LandContour Utilities  ... PoolArea PoolQC Fence MiscFeature MiscVal  \\\n",
              "0          Lvl    AllPub  ...        0    NaN   NaN         NaN       0   \n",
              "1          Lvl    AllPub  ...        0    NaN   NaN         NaN       0   \n",
              "2          Lvl    AllPub  ...        0    NaN   NaN         NaN       0   \n",
              "3          Lvl    AllPub  ...        0    NaN   NaN         NaN       0   \n",
              "4          Lvl    AllPub  ...        0    NaN   NaN         NaN       0   \n",
              "..         ...       ...  ...      ...    ...   ...         ...     ...   \n",
              "95         Lvl    AllPub  ...        0    NaN   NaN        Shed     480   \n",
              "96         Lvl    AllPub  ...        0    NaN   NaN         NaN       0   \n",
              "97         HLS    AllPub  ...        0    NaN   NaN         NaN       0   \n",
              "98         Lvl    AllPub  ...        0    NaN   NaN        Shed     400   \n",
              "99         Lvl    AllPub  ...        0    NaN   NaN        Shed     400   \n",
              "\n",
              "   MoSold YrSold  SaleType  SaleCondition  SalePrice  \n",
              "0       2   2008        WD         Normal     208500  \n",
              "1       5   2007        WD         Normal     181500  \n",
              "2       9   2008        WD         Normal     223500  \n",
              "3       2   2006        WD        Abnorml     140000  \n",
              "4      12   2008        WD         Normal     250000  \n",
              "..    ...    ...       ...            ...        ...  \n",
              "95      4   2009        WD         Normal     185000  \n",
              "96      8   2006        WD         Normal     214000  \n",
              "97      5   2007        WD         Normal      94750  \n",
              "98      5   2010       COD        Abnorml      83000  \n",
              "99      1   2010        WD         Normal     128950  \n",
              "\n",
              "[100 rows x 81 columns]"
            ],
            "text/html": [
              "\n",
              "  <div id=\"df-814b9a05-275a-4b06-9cee-33eed4042fdd\" class=\"colab-df-container\">\n",
              "    <div>\n",
              "<style scoped>\n",
              "    .dataframe tbody tr th:only-of-type {\n",
              "        vertical-align: middle;\n",
              "    }\n",
              "\n",
              "    .dataframe tbody tr th {\n",
              "        vertical-align: top;\n",
              "    }\n",
              "\n",
              "    .dataframe thead th {\n",
              "        text-align: right;\n",
              "    }\n",
              "</style>\n",
              "<table border=\"1\" class=\"dataframe\">\n",
              "  <thead>\n",
              "    <tr style=\"text-align: right;\">\n",
              "      <th></th>\n",
              "      <th>Id</th>\n",
              "      <th>MSSubClass</th>\n",
              "      <th>MSZoning</th>\n",
              "      <th>LotFrontage</th>\n",
              "      <th>LotArea</th>\n",
              "      <th>Street</th>\n",
              "      <th>Alley</th>\n",
              "      <th>LotShape</th>\n",
              "      <th>LandContour</th>\n",
              "      <th>Utilities</th>\n",
              "      <th>...</th>\n",
              "      <th>PoolArea</th>\n",
              "      <th>PoolQC</th>\n",
              "      <th>Fence</th>\n",
              "      <th>MiscFeature</th>\n",
              "      <th>MiscVal</th>\n",
              "      <th>MoSold</th>\n",
              "      <th>YrSold</th>\n",
              "      <th>SaleType</th>\n",
              "      <th>SaleCondition</th>\n",
              "      <th>SalePrice</th>\n",
              "    </tr>\n",
              "  </thead>\n",
              "  <tbody>\n",
              "    <tr>\n",
              "      <th>0</th>\n",
              "      <td>1</td>\n",
              "      <td>60</td>\n",
              "      <td>RL</td>\n",
              "      <td>65.0</td>\n",
              "      <td>8450</td>\n",
              "      <td>Pave</td>\n",
              "      <td>NaN</td>\n",
              "      <td>Reg</td>\n",
              "      <td>Lvl</td>\n",
              "      <td>AllPub</td>\n",
              "      <td>...</td>\n",
              "      <td>0</td>\n",
              "      <td>NaN</td>\n",
              "      <td>NaN</td>\n",
              "      <td>NaN</td>\n",
              "      <td>0</td>\n",
              "      <td>2</td>\n",
              "      <td>2008</td>\n",
              "      <td>WD</td>\n",
              "      <td>Normal</td>\n",
              "      <td>208500</td>\n",
              "    </tr>\n",
              "    <tr>\n",
              "      <th>1</th>\n",
              "      <td>2</td>\n",
              "      <td>20</td>\n",
              "      <td>RL</td>\n",
              "      <td>80.0</td>\n",
              "      <td>9600</td>\n",
              "      <td>Pave</td>\n",
              "      <td>NaN</td>\n",
              "      <td>Reg</td>\n",
              "      <td>Lvl</td>\n",
              "      <td>AllPub</td>\n",
              "      <td>...</td>\n",
              "      <td>0</td>\n",
              "      <td>NaN</td>\n",
              "      <td>NaN</td>\n",
              "      <td>NaN</td>\n",
              "      <td>0</td>\n",
              "      <td>5</td>\n",
              "      <td>2007</td>\n",
              "      <td>WD</td>\n",
              "      <td>Normal</td>\n",
              "      <td>181500</td>\n",
              "    </tr>\n",
              "    <tr>\n",
              "      <th>2</th>\n",
              "      <td>3</td>\n",
              "      <td>60</td>\n",
              "      <td>RL</td>\n",
              "      <td>68.0</td>\n",
              "      <td>11250</td>\n",
              "      <td>Pave</td>\n",
              "      <td>NaN</td>\n",
              "      <td>IR1</td>\n",
              "      <td>Lvl</td>\n",
              "      <td>AllPub</td>\n",
              "      <td>...</td>\n",
              "      <td>0</td>\n",
              "      <td>NaN</td>\n",
              "      <td>NaN</td>\n",
              "      <td>NaN</td>\n",
              "      <td>0</td>\n",
              "      <td>9</td>\n",
              "      <td>2008</td>\n",
              "      <td>WD</td>\n",
              "      <td>Normal</td>\n",
              "      <td>223500</td>\n",
              "    </tr>\n",
              "    <tr>\n",
              "      <th>3</th>\n",
              "      <td>4</td>\n",
              "      <td>70</td>\n",
              "      <td>RL</td>\n",
              "      <td>60.0</td>\n",
              "      <td>9550</td>\n",
              "      <td>Pave</td>\n",
              "      <td>NaN</td>\n",
              "      <td>IR1</td>\n",
              "      <td>Lvl</td>\n",
              "      <td>AllPub</td>\n",
              "      <td>...</td>\n",
              "      <td>0</td>\n",
              "      <td>NaN</td>\n",
              "      <td>NaN</td>\n",
              "      <td>NaN</td>\n",
              "      <td>0</td>\n",
              "      <td>2</td>\n",
              "      <td>2006</td>\n",
              "      <td>WD</td>\n",
              "      <td>Abnorml</td>\n",
              "      <td>140000</td>\n",
              "    </tr>\n",
              "    <tr>\n",
              "      <th>4</th>\n",
              "      <td>5</td>\n",
              "      <td>60</td>\n",
              "      <td>RL</td>\n",
              "      <td>84.0</td>\n",
              "      <td>14260</td>\n",
              "      <td>Pave</td>\n",
              "      <td>NaN</td>\n",
              "      <td>IR1</td>\n",
              "      <td>Lvl</td>\n",
              "      <td>AllPub</td>\n",
              "      <td>...</td>\n",
              "      <td>0</td>\n",
              "      <td>NaN</td>\n",
              "      <td>NaN</td>\n",
              "      <td>NaN</td>\n",
              "      <td>0</td>\n",
              "      <td>12</td>\n",
              "      <td>2008</td>\n",
              "      <td>WD</td>\n",
              "      <td>Normal</td>\n",
              "      <td>250000</td>\n",
              "    </tr>\n",
              "    <tr>\n",
              "      <th>...</th>\n",
              "      <td>...</td>\n",
              "      <td>...</td>\n",
              "      <td>...</td>\n",
              "      <td>...</td>\n",
              "      <td>...</td>\n",
              "      <td>...</td>\n",
              "      <td>...</td>\n",
              "      <td>...</td>\n",
              "      <td>...</td>\n",
              "      <td>...</td>\n",
              "      <td>...</td>\n",
              "      <td>...</td>\n",
              "      <td>...</td>\n",
              "      <td>...</td>\n",
              "      <td>...</td>\n",
              "      <td>...</td>\n",
              "      <td>...</td>\n",
              "      <td>...</td>\n",
              "      <td>...</td>\n",
              "      <td>...</td>\n",
              "      <td>...</td>\n",
              "    </tr>\n",
              "    <tr>\n",
              "      <th>95</th>\n",
              "      <td>96</td>\n",
              "      <td>60</td>\n",
              "      <td>RL</td>\n",
              "      <td>NaN</td>\n",
              "      <td>9765</td>\n",
              "      <td>Pave</td>\n",
              "      <td>NaN</td>\n",
              "      <td>IR2</td>\n",
              "      <td>Lvl</td>\n",
              "      <td>AllPub</td>\n",
              "      <td>...</td>\n",
              "      <td>0</td>\n",
              "      <td>NaN</td>\n",
              "      <td>NaN</td>\n",
              "      <td>Shed</td>\n",
              "      <td>480</td>\n",
              "      <td>4</td>\n",
              "      <td>2009</td>\n",
              "      <td>WD</td>\n",
              "      <td>Normal</td>\n",
              "      <td>185000</td>\n",
              "    </tr>\n",
              "    <tr>\n",
              "      <th>96</th>\n",
              "      <td>97</td>\n",
              "      <td>20</td>\n",
              "      <td>RL</td>\n",
              "      <td>78.0</td>\n",
              "      <td>10264</td>\n",
              "      <td>Pave</td>\n",
              "      <td>NaN</td>\n",
              "      <td>IR1</td>\n",
              "      <td>Lvl</td>\n",
              "      <td>AllPub</td>\n",
              "      <td>...</td>\n",
              "      <td>0</td>\n",
              "      <td>NaN</td>\n",
              "      <td>NaN</td>\n",
              "      <td>NaN</td>\n",
              "      <td>0</td>\n",
              "      <td>8</td>\n",
              "      <td>2006</td>\n",
              "      <td>WD</td>\n",
              "      <td>Normal</td>\n",
              "      <td>214000</td>\n",
              "    </tr>\n",
              "    <tr>\n",
              "      <th>97</th>\n",
              "      <td>98</td>\n",
              "      <td>20</td>\n",
              "      <td>RL</td>\n",
              "      <td>73.0</td>\n",
              "      <td>10921</td>\n",
              "      <td>Pave</td>\n",
              "      <td>NaN</td>\n",
              "      <td>Reg</td>\n",
              "      <td>HLS</td>\n",
              "      <td>AllPub</td>\n",
              "      <td>...</td>\n",
              "      <td>0</td>\n",
              "      <td>NaN</td>\n",
              "      <td>NaN</td>\n",
              "      <td>NaN</td>\n",
              "      <td>0</td>\n",
              "      <td>5</td>\n",
              "      <td>2007</td>\n",
              "      <td>WD</td>\n",
              "      <td>Normal</td>\n",
              "      <td>94750</td>\n",
              "    </tr>\n",
              "    <tr>\n",
              "      <th>98</th>\n",
              "      <td>99</td>\n",
              "      <td>30</td>\n",
              "      <td>RL</td>\n",
              "      <td>85.0</td>\n",
              "      <td>10625</td>\n",
              "      <td>Pave</td>\n",
              "      <td>NaN</td>\n",
              "      <td>Reg</td>\n",
              "      <td>Lvl</td>\n",
              "      <td>AllPub</td>\n",
              "      <td>...</td>\n",
              "      <td>0</td>\n",
              "      <td>NaN</td>\n",
              "      <td>NaN</td>\n",
              "      <td>Shed</td>\n",
              "      <td>400</td>\n",
              "      <td>5</td>\n",
              "      <td>2010</td>\n",
              "      <td>COD</td>\n",
              "      <td>Abnorml</td>\n",
              "      <td>83000</td>\n",
              "    </tr>\n",
              "    <tr>\n",
              "      <th>99</th>\n",
              "      <td>100</td>\n",
              "      <td>20</td>\n",
              "      <td>RL</td>\n",
              "      <td>77.0</td>\n",
              "      <td>9320</td>\n",
              "      <td>Pave</td>\n",
              "      <td>NaN</td>\n",
              "      <td>IR1</td>\n",
              "      <td>Lvl</td>\n",
              "      <td>AllPub</td>\n",
              "      <td>...</td>\n",
              "      <td>0</td>\n",
              "      <td>NaN</td>\n",
              "      <td>NaN</td>\n",
              "      <td>Shed</td>\n",
              "      <td>400</td>\n",
              "      <td>1</td>\n",
              "      <td>2010</td>\n",
              "      <td>WD</td>\n",
              "      <td>Normal</td>\n",
              "      <td>128950</td>\n",
              "    </tr>\n",
              "  </tbody>\n",
              "</table>\n",
              "<p>100 rows × 81 columns</p>\n",
              "</div>\n",
              "    <div class=\"colab-df-buttons\">\n",
              "\n",
              "  <div class=\"colab-df-container\">\n",
              "    <button class=\"colab-df-convert\" onclick=\"convertToInteractive('df-814b9a05-275a-4b06-9cee-33eed4042fdd')\"\n",
              "            title=\"Convert this dataframe to an interactive table.\"\n",
              "            style=\"display:none;\">\n",
              "\n",
              "  <svg xmlns=\"http://www.w3.org/2000/svg\" height=\"24px\" viewBox=\"0 -960 960 960\">\n",
              "    <path d=\"M120-120v-720h720v720H120Zm60-500h600v-160H180v160Zm220 220h160v-160H400v160Zm0 220h160v-160H400v160ZM180-400h160v-160H180v160Zm440 0h160v-160H620v160ZM180-180h160v-160H180v160Zm440 0h160v-160H620v160Z\"/>\n",
              "  </svg>\n",
              "    </button>\n",
              "\n",
              "  <style>\n",
              "    .colab-df-container {\n",
              "      display:flex;\n",
              "      gap: 12px;\n",
              "    }\n",
              "\n",
              "    .colab-df-convert {\n",
              "      background-color: #E8F0FE;\n",
              "      border: none;\n",
              "      border-radius: 50%;\n",
              "      cursor: pointer;\n",
              "      display: none;\n",
              "      fill: #1967D2;\n",
              "      height: 32px;\n",
              "      padding: 0 0 0 0;\n",
              "      width: 32px;\n",
              "    }\n",
              "\n",
              "    .colab-df-convert:hover {\n",
              "      background-color: #E2EBFA;\n",
              "      box-shadow: 0px 1px 2px rgba(60, 64, 67, 0.3), 0px 1px 3px 1px rgba(60, 64, 67, 0.15);\n",
              "      fill: #174EA6;\n",
              "    }\n",
              "\n",
              "    .colab-df-buttons div {\n",
              "      margin-bottom: 4px;\n",
              "    }\n",
              "\n",
              "    [theme=dark] .colab-df-convert {\n",
              "      background-color: #3B4455;\n",
              "      fill: #D2E3FC;\n",
              "    }\n",
              "\n",
              "    [theme=dark] .colab-df-convert:hover {\n",
              "      background-color: #434B5C;\n",
              "      box-shadow: 0px 1px 3px 1px rgba(0, 0, 0, 0.15);\n",
              "      filter: drop-shadow(0px 1px 2px rgba(0, 0, 0, 0.3));\n",
              "      fill: #FFFFFF;\n",
              "    }\n",
              "  </style>\n",
              "\n",
              "    <script>\n",
              "      const buttonEl =\n",
              "        document.querySelector('#df-814b9a05-275a-4b06-9cee-33eed4042fdd button.colab-df-convert');\n",
              "      buttonEl.style.display =\n",
              "        google.colab.kernel.accessAllowed ? 'block' : 'none';\n",
              "\n",
              "      async function convertToInteractive(key) {\n",
              "        const element = document.querySelector('#df-814b9a05-275a-4b06-9cee-33eed4042fdd');\n",
              "        const dataTable =\n",
              "          await google.colab.kernel.invokeFunction('convertToInteractive',\n",
              "                                                    [key], {});\n",
              "        if (!dataTable) return;\n",
              "\n",
              "        const docLinkHtml = 'Like what you see? Visit the ' +\n",
              "          '<a target=\"_blank\" href=https://colab.research.google.com/notebooks/data_table.ipynb>data table notebook</a>'\n",
              "          + ' to learn more about interactive tables.';\n",
              "        element.innerHTML = '';\n",
              "        dataTable['output_type'] = 'display_data';\n",
              "        await google.colab.output.renderOutput(dataTable, element);\n",
              "        const docLink = document.createElement('div');\n",
              "        docLink.innerHTML = docLinkHtml;\n",
              "        element.appendChild(docLink);\n",
              "      }\n",
              "    </script>\n",
              "  </div>\n",
              "\n",
              "\n",
              "<div id=\"df-33355ce8-9b9c-498c-80c4-7b734b1a48b7\">\n",
              "  <button class=\"colab-df-quickchart\" onclick=\"quickchart('df-33355ce8-9b9c-498c-80c4-7b734b1a48b7')\"\n",
              "            title=\"Suggest charts\"\n",
              "            style=\"display:none;\">\n",
              "\n",
              "<svg xmlns=\"http://www.w3.org/2000/svg\" height=\"24px\"viewBox=\"0 0 24 24\"\n",
              "     width=\"24px\">\n",
              "    <g>\n",
              "        <path d=\"M19 3H5c-1.1 0-2 .9-2 2v14c0 1.1.9 2 2 2h14c1.1 0 2-.9 2-2V5c0-1.1-.9-2-2-2zM9 17H7v-7h2v7zm4 0h-2V7h2v10zm4 0h-2v-4h2v4z\"/>\n",
              "    </g>\n",
              "</svg>\n",
              "  </button>\n",
              "\n",
              "<style>\n",
              "  .colab-df-quickchart {\n",
              "      --bg-color: #E8F0FE;\n",
              "      --fill-color: #1967D2;\n",
              "      --hover-bg-color: #E2EBFA;\n",
              "      --hover-fill-color: #174EA6;\n",
              "      --disabled-fill-color: #AAA;\n",
              "      --disabled-bg-color: #DDD;\n",
              "  }\n",
              "\n",
              "  [theme=dark] .colab-df-quickchart {\n",
              "      --bg-color: #3B4455;\n",
              "      --fill-color: #D2E3FC;\n",
              "      --hover-bg-color: #434B5C;\n",
              "      --hover-fill-color: #FFFFFF;\n",
              "      --disabled-bg-color: #3B4455;\n",
              "      --disabled-fill-color: #666;\n",
              "  }\n",
              "\n",
              "  .colab-df-quickchart {\n",
              "    background-color: var(--bg-color);\n",
              "    border: none;\n",
              "    border-radius: 50%;\n",
              "    cursor: pointer;\n",
              "    display: none;\n",
              "    fill: var(--fill-color);\n",
              "    height: 32px;\n",
              "    padding: 0;\n",
              "    width: 32px;\n",
              "  }\n",
              "\n",
              "  .colab-df-quickchart:hover {\n",
              "    background-color: var(--hover-bg-color);\n",
              "    box-shadow: 0 1px 2px rgba(60, 64, 67, 0.3), 0 1px 3px 1px rgba(60, 64, 67, 0.15);\n",
              "    fill: var(--button-hover-fill-color);\n",
              "  }\n",
              "\n",
              "  .colab-df-quickchart-complete:disabled,\n",
              "  .colab-df-quickchart-complete:disabled:hover {\n",
              "    background-color: var(--disabled-bg-color);\n",
              "    fill: var(--disabled-fill-color);\n",
              "    box-shadow: none;\n",
              "  }\n",
              "\n",
              "  .colab-df-spinner {\n",
              "    border: 2px solid var(--fill-color);\n",
              "    border-color: transparent;\n",
              "    border-bottom-color: var(--fill-color);\n",
              "    animation:\n",
              "      spin 1s steps(1) infinite;\n",
              "  }\n",
              "\n",
              "  @keyframes spin {\n",
              "    0% {\n",
              "      border-color: transparent;\n",
              "      border-bottom-color: var(--fill-color);\n",
              "      border-left-color: var(--fill-color);\n",
              "    }\n",
              "    20% {\n",
              "      border-color: transparent;\n",
              "      border-left-color: var(--fill-color);\n",
              "      border-top-color: var(--fill-color);\n",
              "    }\n",
              "    30% {\n",
              "      border-color: transparent;\n",
              "      border-left-color: var(--fill-color);\n",
              "      border-top-color: var(--fill-color);\n",
              "      border-right-color: var(--fill-color);\n",
              "    }\n",
              "    40% {\n",
              "      border-color: transparent;\n",
              "      border-right-color: var(--fill-color);\n",
              "      border-top-color: var(--fill-color);\n",
              "    }\n",
              "    60% {\n",
              "      border-color: transparent;\n",
              "      border-right-color: var(--fill-color);\n",
              "    }\n",
              "    80% {\n",
              "      border-color: transparent;\n",
              "      border-right-color: var(--fill-color);\n",
              "      border-bottom-color: var(--fill-color);\n",
              "    }\n",
              "    90% {\n",
              "      border-color: transparent;\n",
              "      border-bottom-color: var(--fill-color);\n",
              "    }\n",
              "  }\n",
              "</style>\n",
              "\n",
              "  <script>\n",
              "    async function quickchart(key) {\n",
              "      const quickchartButtonEl =\n",
              "        document.querySelector('#' + key + ' button');\n",
              "      quickchartButtonEl.disabled = true;  // To prevent multiple clicks.\n",
              "      quickchartButtonEl.classList.add('colab-df-spinner');\n",
              "      try {\n",
              "        const charts = await google.colab.kernel.invokeFunction(\n",
              "            'suggestCharts', [key], {});\n",
              "      } catch (error) {\n",
              "        console.error('Error during call to suggestCharts:', error);\n",
              "      }\n",
              "      quickchartButtonEl.classList.remove('colab-df-spinner');\n",
              "      quickchartButtonEl.classList.add('colab-df-quickchart-complete');\n",
              "    }\n",
              "    (() => {\n",
              "      let quickchartButtonEl =\n",
              "        document.querySelector('#df-33355ce8-9b9c-498c-80c4-7b734b1a48b7 button');\n",
              "      quickchartButtonEl.style.display =\n",
              "        google.colab.kernel.accessAllowed ? 'block' : 'none';\n",
              "    })();\n",
              "  </script>\n",
              "</div>\n",
              "\n",
              "    </div>\n",
              "  </div>\n"
            ],
            "application/vnd.google.colaboratory.intrinsic+json": {
              "type": "dataframe",
              "variable_name": "bdhouse"
            }
          },
          "metadata": {},
          "execution_count": 69
        }
      ]
    },
    {
      "cell_type": "code",
      "source": [
        "bdhouse.info()"
      ],
      "metadata": {
        "colab": {
          "base_uri": "https://localhost:8080/"
        },
        "id": "BFeuaDm6Dfg7",
        "outputId": "108cac67-bc69-489e-dd30-ecafd46bc4d7"
      },
      "execution_count": 70,
      "outputs": [
        {
          "output_type": "stream",
          "name": "stdout",
          "text": [
            "<class 'pandas.core.frame.DataFrame'>\n",
            "RangeIndex: 1460 entries, 0 to 1459\n",
            "Data columns (total 81 columns):\n",
            " #   Column         Non-Null Count  Dtype  \n",
            "---  ------         --------------  -----  \n",
            " 0   Id             1460 non-null   int64  \n",
            " 1   MSSubClass     1460 non-null   int64  \n",
            " 2   MSZoning       1460 non-null   object \n",
            " 3   LotFrontage    1201 non-null   float64\n",
            " 4   LotArea        1460 non-null   int64  \n",
            " 5   Street         1460 non-null   object \n",
            " 6   Alley          91 non-null     object \n",
            " 7   LotShape       1460 non-null   object \n",
            " 8   LandContour    1460 non-null   object \n",
            " 9   Utilities      1460 non-null   object \n",
            " 10  LotConfig      1460 non-null   object \n",
            " 11  LandSlope      1460 non-null   object \n",
            " 12  Neighborhood   1460 non-null   object \n",
            " 13  Condition1     1460 non-null   object \n",
            " 14  Condition2     1460 non-null   object \n",
            " 15  BldgType       1460 non-null   object \n",
            " 16  HouseStyle     1460 non-null   object \n",
            " 17  OverallQual    1460 non-null   int64  \n",
            " 18  OverallCond    1460 non-null   int64  \n",
            " 19  YearBuilt      1460 non-null   int64  \n",
            " 20  YearRemodAdd   1460 non-null   int64  \n",
            " 21  RoofStyle      1460 non-null   object \n",
            " 22  RoofMatl       1460 non-null   object \n",
            " 23  Exterior1st    1460 non-null   object \n",
            " 24  Exterior2nd    1460 non-null   object \n",
            " 25  MasVnrType     1452 non-null   object \n",
            " 26  MasVnrArea     1452 non-null   float64\n",
            " 27  ExterQual      1460 non-null   object \n",
            " 28  ExterCond      1460 non-null   object \n",
            " 29  Foundation     1460 non-null   object \n",
            " 30  BsmtQual       1423 non-null   object \n",
            " 31  BsmtCond       1423 non-null   object \n",
            " 32  BsmtExposure   1422 non-null   object \n",
            " 33  BsmtFinType1   1423 non-null   object \n",
            " 34  BsmtFinSF1     1460 non-null   int64  \n",
            " 35  BsmtFinType2   1422 non-null   object \n",
            " 36  BsmtFinSF2     1460 non-null   int64  \n",
            " 37  BsmtUnfSF      1460 non-null   int64  \n",
            " 38  TotalBsmtSF    1460 non-null   int64  \n",
            " 39  Heating        1460 non-null   object \n",
            " 40  HeatingQC      1460 non-null   object \n",
            " 41  CentralAir     1460 non-null   object \n",
            " 42  Electrical     1459 non-null   object \n",
            " 43  1stFlrSF       1460 non-null   int64  \n",
            " 44  2ndFlrSF       1460 non-null   int64  \n",
            " 45  LowQualFinSF   1460 non-null   int64  \n",
            " 46  GrLivArea      1460 non-null   int64  \n",
            " 47  BsmtFullBath   1460 non-null   int64  \n",
            " 48  BsmtHalfBath   1460 non-null   int64  \n",
            " 49  FullBath       1460 non-null   int64  \n",
            " 50  HalfBath       1460 non-null   int64  \n",
            " 51  BedroomAbvGr   1460 non-null   int64  \n",
            " 52  KitchenAbvGr   1460 non-null   int64  \n",
            " 53  KitchenQual    1460 non-null   object \n",
            " 54  TotRmsAbvGrd   1460 non-null   int64  \n",
            " 55  Functional     1460 non-null   object \n",
            " 56  Fireplaces     1460 non-null   int64  \n",
            " 57  FireplaceQu    770 non-null    object \n",
            " 58  GarageType     1379 non-null   object \n",
            " 59  GarageYrBlt    1379 non-null   float64\n",
            " 60  GarageFinish   1379 non-null   object \n",
            " 61  GarageCars     1460 non-null   int64  \n",
            " 62  GarageArea     1460 non-null   int64  \n",
            " 63  GarageQual     1379 non-null   object \n",
            " 64  GarageCond     1379 non-null   object \n",
            " 65  PavedDrive     1460 non-null   object \n",
            " 66  WoodDeckSF     1460 non-null   int64  \n",
            " 67  OpenPorchSF    1460 non-null   int64  \n",
            " 68  EnclosedPorch  1460 non-null   int64  \n",
            " 69  3SsnPorch      1460 non-null   int64  \n",
            " 70  ScreenPorch    1460 non-null   int64  \n",
            " 71  PoolArea       1460 non-null   int64  \n",
            " 72  PoolQC         7 non-null      object \n",
            " 73  Fence          281 non-null    object \n",
            " 74  MiscFeature    54 non-null     object \n",
            " 75  MiscVal        1460 non-null   int64  \n",
            " 76  MoSold         1460 non-null   int64  \n",
            " 77  YrSold         1460 non-null   int64  \n",
            " 78  SaleType       1460 non-null   object \n",
            " 79  SaleCondition  1460 non-null   object \n",
            " 80  SalePrice      1460 non-null   int64  \n",
            "dtypes: float64(3), int64(35), object(43)\n",
            "memory usage: 924.0+ KB\n"
          ]
        }
      ]
    },
    {
      "cell_type": "code",
      "source": [
        "bdhouse.describe()"
      ],
      "metadata": {
        "colab": {
          "base_uri": "https://localhost:8080/",
          "height": 350
        },
        "id": "Gl5N0EOaFv-b",
        "outputId": "d4f90ce1-9623-49fc-fa32-4f3bf61c633c"
      },
      "execution_count": 71,
      "outputs": [
        {
          "output_type": "execute_result",
          "data": {
            "text/plain": [
              "                Id   MSSubClass  LotFrontage        LotArea  OverallQual  \\\n",
              "count  1460.000000  1460.000000  1201.000000    1460.000000  1460.000000   \n",
              "mean    730.500000    56.897260    70.049958   10516.828082     6.099315   \n",
              "std     421.610009    42.300571    24.284752    9981.264932     1.382997   \n",
              "min       1.000000    20.000000    21.000000    1300.000000     1.000000   \n",
              "25%     365.750000    20.000000    59.000000    7553.500000     5.000000   \n",
              "50%     730.500000    50.000000    69.000000    9478.500000     6.000000   \n",
              "75%    1095.250000    70.000000    80.000000   11601.500000     7.000000   \n",
              "max    1460.000000   190.000000   313.000000  215245.000000    10.000000   \n",
              "\n",
              "       OverallCond    YearBuilt  YearRemodAdd   MasVnrArea   BsmtFinSF1  ...  \\\n",
              "count  1460.000000  1460.000000   1460.000000  1452.000000  1460.000000  ...   \n",
              "mean      5.575342  1971.267808   1984.865753   103.685262   443.639726  ...   \n",
              "std       1.112799    30.202904     20.645407   181.066207   456.098091  ...   \n",
              "min       1.000000  1872.000000   1950.000000     0.000000     0.000000  ...   \n",
              "25%       5.000000  1954.000000   1967.000000     0.000000     0.000000  ...   \n",
              "50%       5.000000  1973.000000   1994.000000     0.000000   383.500000  ...   \n",
              "75%       6.000000  2000.000000   2004.000000   166.000000   712.250000  ...   \n",
              "max       9.000000  2010.000000   2010.000000  1600.000000  5644.000000  ...   \n",
              "\n",
              "        WoodDeckSF  OpenPorchSF  EnclosedPorch    3SsnPorch  ScreenPorch  \\\n",
              "count  1460.000000  1460.000000    1460.000000  1460.000000  1460.000000   \n",
              "mean     94.244521    46.660274      21.954110     3.409589    15.060959   \n",
              "std     125.338794    66.256028      61.119149    29.317331    55.757415   \n",
              "min       0.000000     0.000000       0.000000     0.000000     0.000000   \n",
              "25%       0.000000     0.000000       0.000000     0.000000     0.000000   \n",
              "50%       0.000000    25.000000       0.000000     0.000000     0.000000   \n",
              "75%     168.000000    68.000000       0.000000     0.000000     0.000000   \n",
              "max     857.000000   547.000000     552.000000   508.000000   480.000000   \n",
              "\n",
              "          PoolArea       MiscVal       MoSold       YrSold      SalePrice  \n",
              "count  1460.000000   1460.000000  1460.000000  1460.000000    1460.000000  \n",
              "mean      2.758904     43.489041     6.321918  2007.815753  180921.195890  \n",
              "std      40.177307    496.123024     2.703626     1.328095   79442.502883  \n",
              "min       0.000000      0.000000     1.000000  2006.000000   34900.000000  \n",
              "25%       0.000000      0.000000     5.000000  2007.000000  129975.000000  \n",
              "50%       0.000000      0.000000     6.000000  2008.000000  163000.000000  \n",
              "75%       0.000000      0.000000     8.000000  2009.000000  214000.000000  \n",
              "max     738.000000  15500.000000    12.000000  2010.000000  755000.000000  \n",
              "\n",
              "[8 rows x 38 columns]"
            ],
            "text/html": [
              "\n",
              "  <div id=\"df-148af85f-f815-4bbb-9501-b57c5cee1e29\" class=\"colab-df-container\">\n",
              "    <div>\n",
              "<style scoped>\n",
              "    .dataframe tbody tr th:only-of-type {\n",
              "        vertical-align: middle;\n",
              "    }\n",
              "\n",
              "    .dataframe tbody tr th {\n",
              "        vertical-align: top;\n",
              "    }\n",
              "\n",
              "    .dataframe thead th {\n",
              "        text-align: right;\n",
              "    }\n",
              "</style>\n",
              "<table border=\"1\" class=\"dataframe\">\n",
              "  <thead>\n",
              "    <tr style=\"text-align: right;\">\n",
              "      <th></th>\n",
              "      <th>Id</th>\n",
              "      <th>MSSubClass</th>\n",
              "      <th>LotFrontage</th>\n",
              "      <th>LotArea</th>\n",
              "      <th>OverallQual</th>\n",
              "      <th>OverallCond</th>\n",
              "      <th>YearBuilt</th>\n",
              "      <th>YearRemodAdd</th>\n",
              "      <th>MasVnrArea</th>\n",
              "      <th>BsmtFinSF1</th>\n",
              "      <th>...</th>\n",
              "      <th>WoodDeckSF</th>\n",
              "      <th>OpenPorchSF</th>\n",
              "      <th>EnclosedPorch</th>\n",
              "      <th>3SsnPorch</th>\n",
              "      <th>ScreenPorch</th>\n",
              "      <th>PoolArea</th>\n",
              "      <th>MiscVal</th>\n",
              "      <th>MoSold</th>\n",
              "      <th>YrSold</th>\n",
              "      <th>SalePrice</th>\n",
              "    </tr>\n",
              "  </thead>\n",
              "  <tbody>\n",
              "    <tr>\n",
              "      <th>count</th>\n",
              "      <td>1460.000000</td>\n",
              "      <td>1460.000000</td>\n",
              "      <td>1201.000000</td>\n",
              "      <td>1460.000000</td>\n",
              "      <td>1460.000000</td>\n",
              "      <td>1460.000000</td>\n",
              "      <td>1460.000000</td>\n",
              "      <td>1460.000000</td>\n",
              "      <td>1452.000000</td>\n",
              "      <td>1460.000000</td>\n",
              "      <td>...</td>\n",
              "      <td>1460.000000</td>\n",
              "      <td>1460.000000</td>\n",
              "      <td>1460.000000</td>\n",
              "      <td>1460.000000</td>\n",
              "      <td>1460.000000</td>\n",
              "      <td>1460.000000</td>\n",
              "      <td>1460.000000</td>\n",
              "      <td>1460.000000</td>\n",
              "      <td>1460.000000</td>\n",
              "      <td>1460.000000</td>\n",
              "    </tr>\n",
              "    <tr>\n",
              "      <th>mean</th>\n",
              "      <td>730.500000</td>\n",
              "      <td>56.897260</td>\n",
              "      <td>70.049958</td>\n",
              "      <td>10516.828082</td>\n",
              "      <td>6.099315</td>\n",
              "      <td>5.575342</td>\n",
              "      <td>1971.267808</td>\n",
              "      <td>1984.865753</td>\n",
              "      <td>103.685262</td>\n",
              "      <td>443.639726</td>\n",
              "      <td>...</td>\n",
              "      <td>94.244521</td>\n",
              "      <td>46.660274</td>\n",
              "      <td>21.954110</td>\n",
              "      <td>3.409589</td>\n",
              "      <td>15.060959</td>\n",
              "      <td>2.758904</td>\n",
              "      <td>43.489041</td>\n",
              "      <td>6.321918</td>\n",
              "      <td>2007.815753</td>\n",
              "      <td>180921.195890</td>\n",
              "    </tr>\n",
              "    <tr>\n",
              "      <th>std</th>\n",
              "      <td>421.610009</td>\n",
              "      <td>42.300571</td>\n",
              "      <td>24.284752</td>\n",
              "      <td>9981.264932</td>\n",
              "      <td>1.382997</td>\n",
              "      <td>1.112799</td>\n",
              "      <td>30.202904</td>\n",
              "      <td>20.645407</td>\n",
              "      <td>181.066207</td>\n",
              "      <td>456.098091</td>\n",
              "      <td>...</td>\n",
              "      <td>125.338794</td>\n",
              "      <td>66.256028</td>\n",
              "      <td>61.119149</td>\n",
              "      <td>29.317331</td>\n",
              "      <td>55.757415</td>\n",
              "      <td>40.177307</td>\n",
              "      <td>496.123024</td>\n",
              "      <td>2.703626</td>\n",
              "      <td>1.328095</td>\n",
              "      <td>79442.502883</td>\n",
              "    </tr>\n",
              "    <tr>\n",
              "      <th>min</th>\n",
              "      <td>1.000000</td>\n",
              "      <td>20.000000</td>\n",
              "      <td>21.000000</td>\n",
              "      <td>1300.000000</td>\n",
              "      <td>1.000000</td>\n",
              "      <td>1.000000</td>\n",
              "      <td>1872.000000</td>\n",
              "      <td>1950.000000</td>\n",
              "      <td>0.000000</td>\n",
              "      <td>0.000000</td>\n",
              "      <td>...</td>\n",
              "      <td>0.000000</td>\n",
              "      <td>0.000000</td>\n",
              "      <td>0.000000</td>\n",
              "      <td>0.000000</td>\n",
              "      <td>0.000000</td>\n",
              "      <td>0.000000</td>\n",
              "      <td>0.000000</td>\n",
              "      <td>1.000000</td>\n",
              "      <td>2006.000000</td>\n",
              "      <td>34900.000000</td>\n",
              "    </tr>\n",
              "    <tr>\n",
              "      <th>25%</th>\n",
              "      <td>365.750000</td>\n",
              "      <td>20.000000</td>\n",
              "      <td>59.000000</td>\n",
              "      <td>7553.500000</td>\n",
              "      <td>5.000000</td>\n",
              "      <td>5.000000</td>\n",
              "      <td>1954.000000</td>\n",
              "      <td>1967.000000</td>\n",
              "      <td>0.000000</td>\n",
              "      <td>0.000000</td>\n",
              "      <td>...</td>\n",
              "      <td>0.000000</td>\n",
              "      <td>0.000000</td>\n",
              "      <td>0.000000</td>\n",
              "      <td>0.000000</td>\n",
              "      <td>0.000000</td>\n",
              "      <td>0.000000</td>\n",
              "      <td>0.000000</td>\n",
              "      <td>5.000000</td>\n",
              "      <td>2007.000000</td>\n",
              "      <td>129975.000000</td>\n",
              "    </tr>\n",
              "    <tr>\n",
              "      <th>50%</th>\n",
              "      <td>730.500000</td>\n",
              "      <td>50.000000</td>\n",
              "      <td>69.000000</td>\n",
              "      <td>9478.500000</td>\n",
              "      <td>6.000000</td>\n",
              "      <td>5.000000</td>\n",
              "      <td>1973.000000</td>\n",
              "      <td>1994.000000</td>\n",
              "      <td>0.000000</td>\n",
              "      <td>383.500000</td>\n",
              "      <td>...</td>\n",
              "      <td>0.000000</td>\n",
              "      <td>25.000000</td>\n",
              "      <td>0.000000</td>\n",
              "      <td>0.000000</td>\n",
              "      <td>0.000000</td>\n",
              "      <td>0.000000</td>\n",
              "      <td>0.000000</td>\n",
              "      <td>6.000000</td>\n",
              "      <td>2008.000000</td>\n",
              "      <td>163000.000000</td>\n",
              "    </tr>\n",
              "    <tr>\n",
              "      <th>75%</th>\n",
              "      <td>1095.250000</td>\n",
              "      <td>70.000000</td>\n",
              "      <td>80.000000</td>\n",
              "      <td>11601.500000</td>\n",
              "      <td>7.000000</td>\n",
              "      <td>6.000000</td>\n",
              "      <td>2000.000000</td>\n",
              "      <td>2004.000000</td>\n",
              "      <td>166.000000</td>\n",
              "      <td>712.250000</td>\n",
              "      <td>...</td>\n",
              "      <td>168.000000</td>\n",
              "      <td>68.000000</td>\n",
              "      <td>0.000000</td>\n",
              "      <td>0.000000</td>\n",
              "      <td>0.000000</td>\n",
              "      <td>0.000000</td>\n",
              "      <td>0.000000</td>\n",
              "      <td>8.000000</td>\n",
              "      <td>2009.000000</td>\n",
              "      <td>214000.000000</td>\n",
              "    </tr>\n",
              "    <tr>\n",
              "      <th>max</th>\n",
              "      <td>1460.000000</td>\n",
              "      <td>190.000000</td>\n",
              "      <td>313.000000</td>\n",
              "      <td>215245.000000</td>\n",
              "      <td>10.000000</td>\n",
              "      <td>9.000000</td>\n",
              "      <td>2010.000000</td>\n",
              "      <td>2010.000000</td>\n",
              "      <td>1600.000000</td>\n",
              "      <td>5644.000000</td>\n",
              "      <td>...</td>\n",
              "      <td>857.000000</td>\n",
              "      <td>547.000000</td>\n",
              "      <td>552.000000</td>\n",
              "      <td>508.000000</td>\n",
              "      <td>480.000000</td>\n",
              "      <td>738.000000</td>\n",
              "      <td>15500.000000</td>\n",
              "      <td>12.000000</td>\n",
              "      <td>2010.000000</td>\n",
              "      <td>755000.000000</td>\n",
              "    </tr>\n",
              "  </tbody>\n",
              "</table>\n",
              "<p>8 rows × 38 columns</p>\n",
              "</div>\n",
              "    <div class=\"colab-df-buttons\">\n",
              "\n",
              "  <div class=\"colab-df-container\">\n",
              "    <button class=\"colab-df-convert\" onclick=\"convertToInteractive('df-148af85f-f815-4bbb-9501-b57c5cee1e29')\"\n",
              "            title=\"Convert this dataframe to an interactive table.\"\n",
              "            style=\"display:none;\">\n",
              "\n",
              "  <svg xmlns=\"http://www.w3.org/2000/svg\" height=\"24px\" viewBox=\"0 -960 960 960\">\n",
              "    <path d=\"M120-120v-720h720v720H120Zm60-500h600v-160H180v160Zm220 220h160v-160H400v160Zm0 220h160v-160H400v160ZM180-400h160v-160H180v160Zm440 0h160v-160H620v160ZM180-180h160v-160H180v160Zm440 0h160v-160H620v160Z\"/>\n",
              "  </svg>\n",
              "    </button>\n",
              "\n",
              "  <style>\n",
              "    .colab-df-container {\n",
              "      display:flex;\n",
              "      gap: 12px;\n",
              "    }\n",
              "\n",
              "    .colab-df-convert {\n",
              "      background-color: #E8F0FE;\n",
              "      border: none;\n",
              "      border-radius: 50%;\n",
              "      cursor: pointer;\n",
              "      display: none;\n",
              "      fill: #1967D2;\n",
              "      height: 32px;\n",
              "      padding: 0 0 0 0;\n",
              "      width: 32px;\n",
              "    }\n",
              "\n",
              "    .colab-df-convert:hover {\n",
              "      background-color: #E2EBFA;\n",
              "      box-shadow: 0px 1px 2px rgba(60, 64, 67, 0.3), 0px 1px 3px 1px rgba(60, 64, 67, 0.15);\n",
              "      fill: #174EA6;\n",
              "    }\n",
              "\n",
              "    .colab-df-buttons div {\n",
              "      margin-bottom: 4px;\n",
              "    }\n",
              "\n",
              "    [theme=dark] .colab-df-convert {\n",
              "      background-color: #3B4455;\n",
              "      fill: #D2E3FC;\n",
              "    }\n",
              "\n",
              "    [theme=dark] .colab-df-convert:hover {\n",
              "      background-color: #434B5C;\n",
              "      box-shadow: 0px 1px 3px 1px rgba(0, 0, 0, 0.15);\n",
              "      filter: drop-shadow(0px 1px 2px rgba(0, 0, 0, 0.3));\n",
              "      fill: #FFFFFF;\n",
              "    }\n",
              "  </style>\n",
              "\n",
              "    <script>\n",
              "      const buttonEl =\n",
              "        document.querySelector('#df-148af85f-f815-4bbb-9501-b57c5cee1e29 button.colab-df-convert');\n",
              "      buttonEl.style.display =\n",
              "        google.colab.kernel.accessAllowed ? 'block' : 'none';\n",
              "\n",
              "      async function convertToInteractive(key) {\n",
              "        const element = document.querySelector('#df-148af85f-f815-4bbb-9501-b57c5cee1e29');\n",
              "        const dataTable =\n",
              "          await google.colab.kernel.invokeFunction('convertToInteractive',\n",
              "                                                    [key], {});\n",
              "        if (!dataTable) return;\n",
              "\n",
              "        const docLinkHtml = 'Like what you see? Visit the ' +\n",
              "          '<a target=\"_blank\" href=https://colab.research.google.com/notebooks/data_table.ipynb>data table notebook</a>'\n",
              "          + ' to learn more about interactive tables.';\n",
              "        element.innerHTML = '';\n",
              "        dataTable['output_type'] = 'display_data';\n",
              "        await google.colab.output.renderOutput(dataTable, element);\n",
              "        const docLink = document.createElement('div');\n",
              "        docLink.innerHTML = docLinkHtml;\n",
              "        element.appendChild(docLink);\n",
              "      }\n",
              "    </script>\n",
              "  </div>\n",
              "\n",
              "\n",
              "<div id=\"df-3843b284-a888-4dc9-ad8f-845b3e10594f\">\n",
              "  <button class=\"colab-df-quickchart\" onclick=\"quickchart('df-3843b284-a888-4dc9-ad8f-845b3e10594f')\"\n",
              "            title=\"Suggest charts\"\n",
              "            style=\"display:none;\">\n",
              "\n",
              "<svg xmlns=\"http://www.w3.org/2000/svg\" height=\"24px\"viewBox=\"0 0 24 24\"\n",
              "     width=\"24px\">\n",
              "    <g>\n",
              "        <path d=\"M19 3H5c-1.1 0-2 .9-2 2v14c0 1.1.9 2 2 2h14c1.1 0 2-.9 2-2V5c0-1.1-.9-2-2-2zM9 17H7v-7h2v7zm4 0h-2V7h2v10zm4 0h-2v-4h2v4z\"/>\n",
              "    </g>\n",
              "</svg>\n",
              "  </button>\n",
              "\n",
              "<style>\n",
              "  .colab-df-quickchart {\n",
              "      --bg-color: #E8F0FE;\n",
              "      --fill-color: #1967D2;\n",
              "      --hover-bg-color: #E2EBFA;\n",
              "      --hover-fill-color: #174EA6;\n",
              "      --disabled-fill-color: #AAA;\n",
              "      --disabled-bg-color: #DDD;\n",
              "  }\n",
              "\n",
              "  [theme=dark] .colab-df-quickchart {\n",
              "      --bg-color: #3B4455;\n",
              "      --fill-color: #D2E3FC;\n",
              "      --hover-bg-color: #434B5C;\n",
              "      --hover-fill-color: #FFFFFF;\n",
              "      --disabled-bg-color: #3B4455;\n",
              "      --disabled-fill-color: #666;\n",
              "  }\n",
              "\n",
              "  .colab-df-quickchart {\n",
              "    background-color: var(--bg-color);\n",
              "    border: none;\n",
              "    border-radius: 50%;\n",
              "    cursor: pointer;\n",
              "    display: none;\n",
              "    fill: var(--fill-color);\n",
              "    height: 32px;\n",
              "    padding: 0;\n",
              "    width: 32px;\n",
              "  }\n",
              "\n",
              "  .colab-df-quickchart:hover {\n",
              "    background-color: var(--hover-bg-color);\n",
              "    box-shadow: 0 1px 2px rgba(60, 64, 67, 0.3), 0 1px 3px 1px rgba(60, 64, 67, 0.15);\n",
              "    fill: var(--button-hover-fill-color);\n",
              "  }\n",
              "\n",
              "  .colab-df-quickchart-complete:disabled,\n",
              "  .colab-df-quickchart-complete:disabled:hover {\n",
              "    background-color: var(--disabled-bg-color);\n",
              "    fill: var(--disabled-fill-color);\n",
              "    box-shadow: none;\n",
              "  }\n",
              "\n",
              "  .colab-df-spinner {\n",
              "    border: 2px solid var(--fill-color);\n",
              "    border-color: transparent;\n",
              "    border-bottom-color: var(--fill-color);\n",
              "    animation:\n",
              "      spin 1s steps(1) infinite;\n",
              "  }\n",
              "\n",
              "  @keyframes spin {\n",
              "    0% {\n",
              "      border-color: transparent;\n",
              "      border-bottom-color: var(--fill-color);\n",
              "      border-left-color: var(--fill-color);\n",
              "    }\n",
              "    20% {\n",
              "      border-color: transparent;\n",
              "      border-left-color: var(--fill-color);\n",
              "      border-top-color: var(--fill-color);\n",
              "    }\n",
              "    30% {\n",
              "      border-color: transparent;\n",
              "      border-left-color: var(--fill-color);\n",
              "      border-top-color: var(--fill-color);\n",
              "      border-right-color: var(--fill-color);\n",
              "    }\n",
              "    40% {\n",
              "      border-color: transparent;\n",
              "      border-right-color: var(--fill-color);\n",
              "      border-top-color: var(--fill-color);\n",
              "    }\n",
              "    60% {\n",
              "      border-color: transparent;\n",
              "      border-right-color: var(--fill-color);\n",
              "    }\n",
              "    80% {\n",
              "      border-color: transparent;\n",
              "      border-right-color: var(--fill-color);\n",
              "      border-bottom-color: var(--fill-color);\n",
              "    }\n",
              "    90% {\n",
              "      border-color: transparent;\n",
              "      border-bottom-color: var(--fill-color);\n",
              "    }\n",
              "  }\n",
              "</style>\n",
              "\n",
              "  <script>\n",
              "    async function quickchart(key) {\n",
              "      const quickchartButtonEl =\n",
              "        document.querySelector('#' + key + ' button');\n",
              "      quickchartButtonEl.disabled = true;  // To prevent multiple clicks.\n",
              "      quickchartButtonEl.classList.add('colab-df-spinner');\n",
              "      try {\n",
              "        const charts = await google.colab.kernel.invokeFunction(\n",
              "            'suggestCharts', [key], {});\n",
              "      } catch (error) {\n",
              "        console.error('Error during call to suggestCharts:', error);\n",
              "      }\n",
              "      quickchartButtonEl.classList.remove('colab-df-spinner');\n",
              "      quickchartButtonEl.classList.add('colab-df-quickchart-complete');\n",
              "    }\n",
              "    (() => {\n",
              "      let quickchartButtonEl =\n",
              "        document.querySelector('#df-3843b284-a888-4dc9-ad8f-845b3e10594f button');\n",
              "      quickchartButtonEl.style.display =\n",
              "        google.colab.kernel.accessAllowed ? 'block' : 'none';\n",
              "    })();\n",
              "  </script>\n",
              "</div>\n",
              "\n",
              "    </div>\n",
              "  </div>\n"
            ],
            "application/vnd.google.colaboratory.intrinsic+json": {
              "type": "dataframe"
            }
          },
          "metadata": {},
          "execution_count": 71
        }
      ]
    },
    {
      "cell_type": "code",
      "source": [
        "#Identificando valores nulos e ordenando\n",
        "bdhouse.isnull().sum().sort_values(ascending=False).head(50)"
      ],
      "metadata": {
        "colab": {
          "base_uri": "https://localhost:8080/"
        },
        "id": "5ifb0mpGERnR",
        "outputId": "f3b902ad-0524-46e1-8887-9965c346a2f9"
      },
      "execution_count": 72,
      "outputs": [
        {
          "output_type": "execute_result",
          "data": {
            "text/plain": [
              "PoolQC           1453\n",
              "MiscFeature      1406\n",
              "Alley            1369\n",
              "Fence            1179\n",
              "FireplaceQu       690\n",
              "LotFrontage       259\n",
              "GarageYrBlt        81\n",
              "GarageCond         81\n",
              "GarageType         81\n",
              "GarageFinish       81\n",
              "GarageQual         81\n",
              "BsmtFinType2       38\n",
              "BsmtExposure       38\n",
              "BsmtQual           37\n",
              "BsmtCond           37\n",
              "BsmtFinType1       37\n",
              "MasVnrArea          8\n",
              "MasVnrType          8\n",
              "Electrical          1\n",
              "Id                  0\n",
              "Functional          0\n",
              "Fireplaces          0\n",
              "KitchenQual         0\n",
              "KitchenAbvGr        0\n",
              "BedroomAbvGr        0\n",
              "HalfBath            0\n",
              "FullBath            0\n",
              "BsmtHalfBath        0\n",
              "TotRmsAbvGrd        0\n",
              "GarageCars          0\n",
              "GrLivArea           0\n",
              "GarageArea          0\n",
              "PavedDrive          0\n",
              "WoodDeckSF          0\n",
              "OpenPorchSF         0\n",
              "EnclosedPorch       0\n",
              "3SsnPorch           0\n",
              "ScreenPorch         0\n",
              "PoolArea            0\n",
              "MiscVal             0\n",
              "MoSold              0\n",
              "YrSold              0\n",
              "SaleType            0\n",
              "SaleCondition       0\n",
              "BsmtFullBath        0\n",
              "HeatingQC           0\n",
              "LowQualFinSF        0\n",
              "LandSlope           0\n",
              "OverallQual         0\n",
              "HouseStyle          0\n",
              "dtype: int64"
            ]
          },
          "metadata": {},
          "execution_count": 72
        }
      ]
    },
    {
      "cell_type": "code",
      "source": [
        "#identificando valores duplicados\n",
        "bdhouse.duplicated(keep=False).sum()"
      ],
      "metadata": {
        "colab": {
          "base_uri": "https://localhost:8080/"
        },
        "id": "SPD-yu07WINI",
        "outputId": "d81f2b0a-f0a7-49ea-8207-17002d102b06"
      },
      "execution_count": 73,
      "outputs": [
        {
          "output_type": "execute_result",
          "data": {
            "text/plain": [
              "0"
            ]
          },
          "metadata": {},
          "execution_count": 73
        }
      ]
    },
    {
      "cell_type": "markdown",
      "source": [
        "## Tratamentos"
      ],
      "metadata": {
        "id": "N0wOSTgyEDad"
      }
    },
    {
      "cell_type": "code",
      "source": [
        "#Ao verificar que possuia muitos valores zerados, optei por convertelos em nulos\n",
        "bdhouse.replace(0,np.nan, inplace = True)"
      ],
      "metadata": {
        "id": "sO2dxw3xIWAt"
      },
      "execution_count": 74,
      "outputs": []
    },
    {
      "cell_type": "code",
      "source": [
        "#bdHouse2 fizemos a exclusão das colunas onde a quantidade de valores nulos é maior que 100 e para o restantes dos dados nulos substituiremos pelo valor -1(prática utilizada pelos cientista de dados para compreender que o valor era nulo)\n",
        "bdhouse2 = bdhouse.drop(bdhouse.columns[(bdhouse.isnull().sum()) > 100],axis=1)\n",
        "bdhouse2 = bdhouse2.fillna(-1)\n"
      ],
      "metadata": {
        "id": "Ma0P-obDET2O"
      },
      "execution_count": 78,
      "outputs": []
    },
    {
      "cell_type": "code",
      "source": [
        "bdhouse2.shape"
      ],
      "metadata": {
        "colab": {
          "base_uri": "https://localhost:8080/"
        },
        "id": "-DohpWj_HplG",
        "outputId": "e9bd3525-85ea-4f6f-939a-555925fc1385"
      },
      "execution_count": 79,
      "outputs": [
        {
          "output_type": "execute_result",
          "data": {
            "text/plain": [
              "(1460, 58)"
            ]
          },
          "metadata": {},
          "execution_count": 79
        }
      ]
    },
    {
      "cell_type": "markdown",
      "source": [
        "##Analisando variáveis Numéricas"
      ],
      "metadata": {
        "id": "kE47FXNxdldp"
      }
    },
    {
      "cell_type": "code",
      "source": [
        "#Separando os dados numéricos para análisar\n",
        "bdint = bdhouse2.columns[bdhouse2.dtypes != 'object']\n",
        "bdint = bdhouse2.loc[:,bdint]\n",
        "bdint.shape"
      ],
      "metadata": {
        "id": "bsc0OnoX022L",
        "colab": {
          "base_uri": "https://localhost:8080/"
        },
        "outputId": "b7a0f68b-fdd9-4d5d-db31-87739c59dd91"
      },
      "execution_count": 80,
      "outputs": [
        {
          "output_type": "execute_result",
          "data": {
            "text/plain": [
              "(1460, 20)"
            ]
          },
          "metadata": {},
          "execution_count": 80
        }
      ]
    },
    {
      "cell_type": "code",
      "source": [
        "bdint.describe()"
      ],
      "metadata": {
        "colab": {
          "base_uri": "https://localhost:8080/",
          "height": 320
        },
        "id": "6oXWKIqt1Su1",
        "outputId": "2ad5df4d-5079-4a72-943d-3a417cf724f5"
      },
      "execution_count": 81,
      "outputs": [
        {
          "output_type": "execute_result",
          "data": {
            "text/plain": [
              "                Id   MSSubClass        LotArea  OverallQual  OverallCond  \\\n",
              "count  1460.000000  1460.000000    1460.000000  1460.000000  1460.000000   \n",
              "mean    730.500000    56.897260   10516.828082     6.099315     5.575342   \n",
              "std     421.610009    42.300571    9981.264932     1.382997     1.112799   \n",
              "min       1.000000    20.000000    1300.000000     1.000000     1.000000   \n",
              "25%     365.750000    20.000000    7553.500000     5.000000     5.000000   \n",
              "50%     730.500000    50.000000    9478.500000     6.000000     5.000000   \n",
              "75%    1095.250000    70.000000   11601.500000     7.000000     6.000000   \n",
              "max    1460.000000   190.000000  215245.000000    10.000000     9.000000   \n",
              "\n",
              "         YearBuilt  YearRemodAdd  TotalBsmtSF     1stFlrSF    GrLivArea  \\\n",
              "count  1460.000000   1460.000000  1460.000000  1460.000000  1460.000000   \n",
              "mean   1971.267808   1984.865753  1057.404110  1162.626712  1515.463699   \n",
              "std      30.202904     20.645407   438.766474   386.587738   525.480383   \n",
              "min    1872.000000   1950.000000    -1.000000   334.000000   334.000000   \n",
              "25%    1954.000000   1967.000000   795.750000   882.000000  1129.500000   \n",
              "50%    1973.000000   1994.000000   991.500000  1087.000000  1464.000000   \n",
              "75%    2000.000000   2004.000000  1298.250000  1391.250000  1776.750000   \n",
              "max    2010.000000   2010.000000  6110.000000  4692.000000  5642.000000   \n",
              "\n",
              "          FullBath  BedroomAbvGr  KitchenAbvGr  TotRmsAbvGrd  GarageYrBlt  \\\n",
              "count  1460.000000   1460.000000   1460.000000   1460.000000  1460.000000   \n",
              "mean      1.558904      2.862329      1.045890      6.517808  1868.684247   \n",
              "std       0.573539      0.832565      0.225097      1.625393   453.925967   \n",
              "min      -1.000000     -1.000000     -1.000000      2.000000    -1.000000   \n",
              "25%       1.000000      2.000000      1.000000      5.000000  1958.000000   \n",
              "50%       2.000000      3.000000      1.000000      6.000000  1977.000000   \n",
              "75%       2.000000      3.000000      1.000000      7.000000  2001.000000   \n",
              "max       3.000000      8.000000      3.000000     14.000000  2010.000000   \n",
              "\n",
              "        GarageCars   GarageArea       MoSold       YrSold      SalePrice  \n",
              "count  1460.000000  1460.000000  1460.000000  1460.000000    1460.000000  \n",
              "mean      1.711644   472.924658     6.321918  2007.815753  180921.195890  \n",
              "std       0.898404   213.927745     2.703626     1.328095   79442.502883  \n",
              "min      -1.000000    -1.000000     1.000000  2006.000000   34900.000000  \n",
              "25%       1.000000   334.500000     5.000000  2007.000000  129975.000000  \n",
              "50%       2.000000   480.000000     6.000000  2008.000000  163000.000000  \n",
              "75%       2.000000   576.000000     8.000000  2009.000000  214000.000000  \n",
              "max       4.000000  1418.000000    12.000000  2010.000000  755000.000000  "
            ],
            "text/html": [
              "\n",
              "  <div id=\"df-39319fb7-d012-4c1d-b58c-b81634fb6cd8\" class=\"colab-df-container\">\n",
              "    <div>\n",
              "<style scoped>\n",
              "    .dataframe tbody tr th:only-of-type {\n",
              "        vertical-align: middle;\n",
              "    }\n",
              "\n",
              "    .dataframe tbody tr th {\n",
              "        vertical-align: top;\n",
              "    }\n",
              "\n",
              "    .dataframe thead th {\n",
              "        text-align: right;\n",
              "    }\n",
              "</style>\n",
              "<table border=\"1\" class=\"dataframe\">\n",
              "  <thead>\n",
              "    <tr style=\"text-align: right;\">\n",
              "      <th></th>\n",
              "      <th>Id</th>\n",
              "      <th>MSSubClass</th>\n",
              "      <th>LotArea</th>\n",
              "      <th>OverallQual</th>\n",
              "      <th>OverallCond</th>\n",
              "      <th>YearBuilt</th>\n",
              "      <th>YearRemodAdd</th>\n",
              "      <th>TotalBsmtSF</th>\n",
              "      <th>1stFlrSF</th>\n",
              "      <th>GrLivArea</th>\n",
              "      <th>FullBath</th>\n",
              "      <th>BedroomAbvGr</th>\n",
              "      <th>KitchenAbvGr</th>\n",
              "      <th>TotRmsAbvGrd</th>\n",
              "      <th>GarageYrBlt</th>\n",
              "      <th>GarageCars</th>\n",
              "      <th>GarageArea</th>\n",
              "      <th>MoSold</th>\n",
              "      <th>YrSold</th>\n",
              "      <th>SalePrice</th>\n",
              "    </tr>\n",
              "  </thead>\n",
              "  <tbody>\n",
              "    <tr>\n",
              "      <th>count</th>\n",
              "      <td>1460.000000</td>\n",
              "      <td>1460.000000</td>\n",
              "      <td>1460.000000</td>\n",
              "      <td>1460.000000</td>\n",
              "      <td>1460.000000</td>\n",
              "      <td>1460.000000</td>\n",
              "      <td>1460.000000</td>\n",
              "      <td>1460.000000</td>\n",
              "      <td>1460.000000</td>\n",
              "      <td>1460.000000</td>\n",
              "      <td>1460.000000</td>\n",
              "      <td>1460.000000</td>\n",
              "      <td>1460.000000</td>\n",
              "      <td>1460.000000</td>\n",
              "      <td>1460.000000</td>\n",
              "      <td>1460.000000</td>\n",
              "      <td>1460.000000</td>\n",
              "      <td>1460.000000</td>\n",
              "      <td>1460.000000</td>\n",
              "      <td>1460.000000</td>\n",
              "    </tr>\n",
              "    <tr>\n",
              "      <th>mean</th>\n",
              "      <td>730.500000</td>\n",
              "      <td>56.897260</td>\n",
              "      <td>10516.828082</td>\n",
              "      <td>6.099315</td>\n",
              "      <td>5.575342</td>\n",
              "      <td>1971.267808</td>\n",
              "      <td>1984.865753</td>\n",
              "      <td>1057.404110</td>\n",
              "      <td>1162.626712</td>\n",
              "      <td>1515.463699</td>\n",
              "      <td>1.558904</td>\n",
              "      <td>2.862329</td>\n",
              "      <td>1.045890</td>\n",
              "      <td>6.517808</td>\n",
              "      <td>1868.684247</td>\n",
              "      <td>1.711644</td>\n",
              "      <td>472.924658</td>\n",
              "      <td>6.321918</td>\n",
              "      <td>2007.815753</td>\n",
              "      <td>180921.195890</td>\n",
              "    </tr>\n",
              "    <tr>\n",
              "      <th>std</th>\n",
              "      <td>421.610009</td>\n",
              "      <td>42.300571</td>\n",
              "      <td>9981.264932</td>\n",
              "      <td>1.382997</td>\n",
              "      <td>1.112799</td>\n",
              "      <td>30.202904</td>\n",
              "      <td>20.645407</td>\n",
              "      <td>438.766474</td>\n",
              "      <td>386.587738</td>\n",
              "      <td>525.480383</td>\n",
              "      <td>0.573539</td>\n",
              "      <td>0.832565</td>\n",
              "      <td>0.225097</td>\n",
              "      <td>1.625393</td>\n",
              "      <td>453.925967</td>\n",
              "      <td>0.898404</td>\n",
              "      <td>213.927745</td>\n",
              "      <td>2.703626</td>\n",
              "      <td>1.328095</td>\n",
              "      <td>79442.502883</td>\n",
              "    </tr>\n",
              "    <tr>\n",
              "      <th>min</th>\n",
              "      <td>1.000000</td>\n",
              "      <td>20.000000</td>\n",
              "      <td>1300.000000</td>\n",
              "      <td>1.000000</td>\n",
              "      <td>1.000000</td>\n",
              "      <td>1872.000000</td>\n",
              "      <td>1950.000000</td>\n",
              "      <td>-1.000000</td>\n",
              "      <td>334.000000</td>\n",
              "      <td>334.000000</td>\n",
              "      <td>-1.000000</td>\n",
              "      <td>-1.000000</td>\n",
              "      <td>-1.000000</td>\n",
              "      <td>2.000000</td>\n",
              "      <td>-1.000000</td>\n",
              "      <td>-1.000000</td>\n",
              "      <td>-1.000000</td>\n",
              "      <td>1.000000</td>\n",
              "      <td>2006.000000</td>\n",
              "      <td>34900.000000</td>\n",
              "    </tr>\n",
              "    <tr>\n",
              "      <th>25%</th>\n",
              "      <td>365.750000</td>\n",
              "      <td>20.000000</td>\n",
              "      <td>7553.500000</td>\n",
              "      <td>5.000000</td>\n",
              "      <td>5.000000</td>\n",
              "      <td>1954.000000</td>\n",
              "      <td>1967.000000</td>\n",
              "      <td>795.750000</td>\n",
              "      <td>882.000000</td>\n",
              "      <td>1129.500000</td>\n",
              "      <td>1.000000</td>\n",
              "      <td>2.000000</td>\n",
              "      <td>1.000000</td>\n",
              "      <td>5.000000</td>\n",
              "      <td>1958.000000</td>\n",
              "      <td>1.000000</td>\n",
              "      <td>334.500000</td>\n",
              "      <td>5.000000</td>\n",
              "      <td>2007.000000</td>\n",
              "      <td>129975.000000</td>\n",
              "    </tr>\n",
              "    <tr>\n",
              "      <th>50%</th>\n",
              "      <td>730.500000</td>\n",
              "      <td>50.000000</td>\n",
              "      <td>9478.500000</td>\n",
              "      <td>6.000000</td>\n",
              "      <td>5.000000</td>\n",
              "      <td>1973.000000</td>\n",
              "      <td>1994.000000</td>\n",
              "      <td>991.500000</td>\n",
              "      <td>1087.000000</td>\n",
              "      <td>1464.000000</td>\n",
              "      <td>2.000000</td>\n",
              "      <td>3.000000</td>\n",
              "      <td>1.000000</td>\n",
              "      <td>6.000000</td>\n",
              "      <td>1977.000000</td>\n",
              "      <td>2.000000</td>\n",
              "      <td>480.000000</td>\n",
              "      <td>6.000000</td>\n",
              "      <td>2008.000000</td>\n",
              "      <td>163000.000000</td>\n",
              "    </tr>\n",
              "    <tr>\n",
              "      <th>75%</th>\n",
              "      <td>1095.250000</td>\n",
              "      <td>70.000000</td>\n",
              "      <td>11601.500000</td>\n",
              "      <td>7.000000</td>\n",
              "      <td>6.000000</td>\n",
              "      <td>2000.000000</td>\n",
              "      <td>2004.000000</td>\n",
              "      <td>1298.250000</td>\n",
              "      <td>1391.250000</td>\n",
              "      <td>1776.750000</td>\n",
              "      <td>2.000000</td>\n",
              "      <td>3.000000</td>\n",
              "      <td>1.000000</td>\n",
              "      <td>7.000000</td>\n",
              "      <td>2001.000000</td>\n",
              "      <td>2.000000</td>\n",
              "      <td>576.000000</td>\n",
              "      <td>8.000000</td>\n",
              "      <td>2009.000000</td>\n",
              "      <td>214000.000000</td>\n",
              "    </tr>\n",
              "    <tr>\n",
              "      <th>max</th>\n",
              "      <td>1460.000000</td>\n",
              "      <td>190.000000</td>\n",
              "      <td>215245.000000</td>\n",
              "      <td>10.000000</td>\n",
              "      <td>9.000000</td>\n",
              "      <td>2010.000000</td>\n",
              "      <td>2010.000000</td>\n",
              "      <td>6110.000000</td>\n",
              "      <td>4692.000000</td>\n",
              "      <td>5642.000000</td>\n",
              "      <td>3.000000</td>\n",
              "      <td>8.000000</td>\n",
              "      <td>3.000000</td>\n",
              "      <td>14.000000</td>\n",
              "      <td>2010.000000</td>\n",
              "      <td>4.000000</td>\n",
              "      <td>1418.000000</td>\n",
              "      <td>12.000000</td>\n",
              "      <td>2010.000000</td>\n",
              "      <td>755000.000000</td>\n",
              "    </tr>\n",
              "  </tbody>\n",
              "</table>\n",
              "</div>\n",
              "    <div class=\"colab-df-buttons\">\n",
              "\n",
              "  <div class=\"colab-df-container\">\n",
              "    <button class=\"colab-df-convert\" onclick=\"convertToInteractive('df-39319fb7-d012-4c1d-b58c-b81634fb6cd8')\"\n",
              "            title=\"Convert this dataframe to an interactive table.\"\n",
              "            style=\"display:none;\">\n",
              "\n",
              "  <svg xmlns=\"http://www.w3.org/2000/svg\" height=\"24px\" viewBox=\"0 -960 960 960\">\n",
              "    <path d=\"M120-120v-720h720v720H120Zm60-500h600v-160H180v160Zm220 220h160v-160H400v160Zm0 220h160v-160H400v160ZM180-400h160v-160H180v160Zm440 0h160v-160H620v160ZM180-180h160v-160H180v160Zm440 0h160v-160H620v160Z\"/>\n",
              "  </svg>\n",
              "    </button>\n",
              "\n",
              "  <style>\n",
              "    .colab-df-container {\n",
              "      display:flex;\n",
              "      gap: 12px;\n",
              "    }\n",
              "\n",
              "    .colab-df-convert {\n",
              "      background-color: #E8F0FE;\n",
              "      border: none;\n",
              "      border-radius: 50%;\n",
              "      cursor: pointer;\n",
              "      display: none;\n",
              "      fill: #1967D2;\n",
              "      height: 32px;\n",
              "      padding: 0 0 0 0;\n",
              "      width: 32px;\n",
              "    }\n",
              "\n",
              "    .colab-df-convert:hover {\n",
              "      background-color: #E2EBFA;\n",
              "      box-shadow: 0px 1px 2px rgba(60, 64, 67, 0.3), 0px 1px 3px 1px rgba(60, 64, 67, 0.15);\n",
              "      fill: #174EA6;\n",
              "    }\n",
              "\n",
              "    .colab-df-buttons div {\n",
              "      margin-bottom: 4px;\n",
              "    }\n",
              "\n",
              "    [theme=dark] .colab-df-convert {\n",
              "      background-color: #3B4455;\n",
              "      fill: #D2E3FC;\n",
              "    }\n",
              "\n",
              "    [theme=dark] .colab-df-convert:hover {\n",
              "      background-color: #434B5C;\n",
              "      box-shadow: 0px 1px 3px 1px rgba(0, 0, 0, 0.15);\n",
              "      filter: drop-shadow(0px 1px 2px rgba(0, 0, 0, 0.3));\n",
              "      fill: #FFFFFF;\n",
              "    }\n",
              "  </style>\n",
              "\n",
              "    <script>\n",
              "      const buttonEl =\n",
              "        document.querySelector('#df-39319fb7-d012-4c1d-b58c-b81634fb6cd8 button.colab-df-convert');\n",
              "      buttonEl.style.display =\n",
              "        google.colab.kernel.accessAllowed ? 'block' : 'none';\n",
              "\n",
              "      async function convertToInteractive(key) {\n",
              "        const element = document.querySelector('#df-39319fb7-d012-4c1d-b58c-b81634fb6cd8');\n",
              "        const dataTable =\n",
              "          await google.colab.kernel.invokeFunction('convertToInteractive',\n",
              "                                                    [key], {});\n",
              "        if (!dataTable) return;\n",
              "\n",
              "        const docLinkHtml = 'Like what you see? Visit the ' +\n",
              "          '<a target=\"_blank\" href=https://colab.research.google.com/notebooks/data_table.ipynb>data table notebook</a>'\n",
              "          + ' to learn more about interactive tables.';\n",
              "        element.innerHTML = '';\n",
              "        dataTable['output_type'] = 'display_data';\n",
              "        await google.colab.output.renderOutput(dataTable, element);\n",
              "        const docLink = document.createElement('div');\n",
              "        docLink.innerHTML = docLinkHtml;\n",
              "        element.appendChild(docLink);\n",
              "      }\n",
              "    </script>\n",
              "  </div>\n",
              "\n",
              "\n",
              "<div id=\"df-2d1a986b-91b5-4186-8a02-dbb8b2b4a95e\">\n",
              "  <button class=\"colab-df-quickchart\" onclick=\"quickchart('df-2d1a986b-91b5-4186-8a02-dbb8b2b4a95e')\"\n",
              "            title=\"Suggest charts\"\n",
              "            style=\"display:none;\">\n",
              "\n",
              "<svg xmlns=\"http://www.w3.org/2000/svg\" height=\"24px\"viewBox=\"0 0 24 24\"\n",
              "     width=\"24px\">\n",
              "    <g>\n",
              "        <path d=\"M19 3H5c-1.1 0-2 .9-2 2v14c0 1.1.9 2 2 2h14c1.1 0 2-.9 2-2V5c0-1.1-.9-2-2-2zM9 17H7v-7h2v7zm4 0h-2V7h2v10zm4 0h-2v-4h2v4z\"/>\n",
              "    </g>\n",
              "</svg>\n",
              "  </button>\n",
              "\n",
              "<style>\n",
              "  .colab-df-quickchart {\n",
              "      --bg-color: #E8F0FE;\n",
              "      --fill-color: #1967D2;\n",
              "      --hover-bg-color: #E2EBFA;\n",
              "      --hover-fill-color: #174EA6;\n",
              "      --disabled-fill-color: #AAA;\n",
              "      --disabled-bg-color: #DDD;\n",
              "  }\n",
              "\n",
              "  [theme=dark] .colab-df-quickchart {\n",
              "      --bg-color: #3B4455;\n",
              "      --fill-color: #D2E3FC;\n",
              "      --hover-bg-color: #434B5C;\n",
              "      --hover-fill-color: #FFFFFF;\n",
              "      --disabled-bg-color: #3B4455;\n",
              "      --disabled-fill-color: #666;\n",
              "  }\n",
              "\n",
              "  .colab-df-quickchart {\n",
              "    background-color: var(--bg-color);\n",
              "    border: none;\n",
              "    border-radius: 50%;\n",
              "    cursor: pointer;\n",
              "    display: none;\n",
              "    fill: var(--fill-color);\n",
              "    height: 32px;\n",
              "    padding: 0;\n",
              "    width: 32px;\n",
              "  }\n",
              "\n",
              "  .colab-df-quickchart:hover {\n",
              "    background-color: var(--hover-bg-color);\n",
              "    box-shadow: 0 1px 2px rgba(60, 64, 67, 0.3), 0 1px 3px 1px rgba(60, 64, 67, 0.15);\n",
              "    fill: var(--button-hover-fill-color);\n",
              "  }\n",
              "\n",
              "  .colab-df-quickchart-complete:disabled,\n",
              "  .colab-df-quickchart-complete:disabled:hover {\n",
              "    background-color: var(--disabled-bg-color);\n",
              "    fill: var(--disabled-fill-color);\n",
              "    box-shadow: none;\n",
              "  }\n",
              "\n",
              "  .colab-df-spinner {\n",
              "    border: 2px solid var(--fill-color);\n",
              "    border-color: transparent;\n",
              "    border-bottom-color: var(--fill-color);\n",
              "    animation:\n",
              "      spin 1s steps(1) infinite;\n",
              "  }\n",
              "\n",
              "  @keyframes spin {\n",
              "    0% {\n",
              "      border-color: transparent;\n",
              "      border-bottom-color: var(--fill-color);\n",
              "      border-left-color: var(--fill-color);\n",
              "    }\n",
              "    20% {\n",
              "      border-color: transparent;\n",
              "      border-left-color: var(--fill-color);\n",
              "      border-top-color: var(--fill-color);\n",
              "    }\n",
              "    30% {\n",
              "      border-color: transparent;\n",
              "      border-left-color: var(--fill-color);\n",
              "      border-top-color: var(--fill-color);\n",
              "      border-right-color: var(--fill-color);\n",
              "    }\n",
              "    40% {\n",
              "      border-color: transparent;\n",
              "      border-right-color: var(--fill-color);\n",
              "      border-top-color: var(--fill-color);\n",
              "    }\n",
              "    60% {\n",
              "      border-color: transparent;\n",
              "      border-right-color: var(--fill-color);\n",
              "    }\n",
              "    80% {\n",
              "      border-color: transparent;\n",
              "      border-right-color: var(--fill-color);\n",
              "      border-bottom-color: var(--fill-color);\n",
              "    }\n",
              "    90% {\n",
              "      border-color: transparent;\n",
              "      border-bottom-color: var(--fill-color);\n",
              "    }\n",
              "  }\n",
              "</style>\n",
              "\n",
              "  <script>\n",
              "    async function quickchart(key) {\n",
              "      const quickchartButtonEl =\n",
              "        document.querySelector('#' + key + ' button');\n",
              "      quickchartButtonEl.disabled = true;  // To prevent multiple clicks.\n",
              "      quickchartButtonEl.classList.add('colab-df-spinner');\n",
              "      try {\n",
              "        const charts = await google.colab.kernel.invokeFunction(\n",
              "            'suggestCharts', [key], {});\n",
              "      } catch (error) {\n",
              "        console.error('Error during call to suggestCharts:', error);\n",
              "      }\n",
              "      quickchartButtonEl.classList.remove('colab-df-spinner');\n",
              "      quickchartButtonEl.classList.add('colab-df-quickchart-complete');\n",
              "    }\n",
              "    (() => {\n",
              "      let quickchartButtonEl =\n",
              "        document.querySelector('#df-2d1a986b-91b5-4186-8a02-dbb8b2b4a95e button');\n",
              "      quickchartButtonEl.style.display =\n",
              "        google.colab.kernel.accessAllowed ? 'block' : 'none';\n",
              "    })();\n",
              "  </script>\n",
              "</div>\n",
              "\n",
              "    </div>\n",
              "  </div>\n"
            ],
            "application/vnd.google.colaboratory.intrinsic+json": {
              "type": "dataframe",
              "summary": "{\n  \"name\": \"bdint\",\n  \"rows\": 8,\n  \"fields\": [\n    {\n      \"column\": \"Id\",\n      \"properties\": {\n        \"dtype\": \"number\",\n        \"std\": 525.886300016384,\n        \"min\": 1.0,\n        \"max\": 1460.0,\n        \"num_unique_values\": 6,\n        \"samples\": [\n          1460.0,\n          730.5,\n          1095.25\n        ],\n        \"semantic_type\": \"\",\n        \"description\": \"\"\n      }\n    },\n    {\n      \"column\": \"MSSubClass\",\n      \"properties\": {\n        \"dtype\": \"number\",\n        \"std\": 496.4584706654563,\n        \"min\": 20.0,\n        \"max\": 1460.0,\n        \"num_unique_values\": 7,\n        \"samples\": [\n          1460.0,\n          56.897260273972606,\n          70.0\n        ],\n        \"semantic_type\": \"\",\n        \"description\": \"\"\n      }\n    },\n    {\n      \"column\": \"LotArea\",\n      \"properties\": {\n        \"dtype\": \"number\",\n        \"std\": 73587.37096460979,\n        \"min\": 1300.0,\n        \"max\": 215245.0,\n        \"num_unique_values\": 8,\n        \"samples\": [\n          10516.828082191782,\n          9478.5,\n          1460.0\n        ],\n        \"semantic_type\": \"\",\n        \"description\": \"\"\n      }\n    },\n    {\n      \"column\": \"OverallQual\",\n      \"properties\": {\n        \"dtype\": \"number\",\n        \"std\": 514.3536444206449,\n        \"min\": 1.0,\n        \"max\": 1460.0,\n        \"num_unique_values\": 8,\n        \"samples\": [\n          6.0993150684931505,\n          6.0,\n          1460.0\n        ],\n        \"semantic_type\": \"\",\n        \"description\": \"\"\n      }\n    },\n    {\n      \"column\": \"OverallCond\",\n      \"properties\": {\n        \"dtype\": \"number\",\n        \"std\": 514.543568428961,\n        \"min\": 1.0,\n        \"max\": 1460.0,\n        \"num_unique_values\": 7,\n        \"samples\": [\n          1460.0,\n          5.575342465753424,\n          6.0\n        ],\n        \"semantic_type\": \"\",\n        \"description\": \"\"\n      }\n    },\n    {\n      \"column\": \"YearBuilt\",\n      \"properties\": {\n        \"dtype\": \"number\",\n        \"std\": 682.4916400858369,\n        \"min\": 30.202904042525258,\n        \"max\": 2010.0,\n        \"num_unique_values\": 8,\n        \"samples\": [\n          1971.267808219178,\n          1973.0,\n          1460.0\n        ],\n        \"semantic_type\": \"\",\n        \"description\": \"\"\n      }\n    },\n    {\n      \"column\": \"YearRemodAdd\",\n      \"properties\": {\n        \"dtype\": \"number\",\n        \"std\": 693.0507763712806,\n        \"min\": 20.645406807709413,\n        \"max\": 2010.0,\n        \"num_unique_values\": 8,\n        \"samples\": [\n          1984.8657534246574,\n          1994.0,\n          1460.0\n        ],\n        \"semantic_type\": \"\",\n        \"description\": \"\"\n      }\n    },\n    {\n      \"column\": \"TotalBsmtSF\",\n      \"properties\": {\n        \"dtype\": \"number\",\n        \"std\": 1913.1579872908408,\n        \"min\": -1.0,\n        \"max\": 6110.0,\n        \"num_unique_values\": 8,\n        \"samples\": [\n          1057.4041095890411,\n          991.5,\n          1460.0\n        ],\n        \"semantic_type\": \"\",\n        \"description\": \"\"\n      }\n    },\n    {\n      \"column\": \"1stFlrSF\",\n      \"properties\": {\n        \"dtype\": \"number\",\n        \"std\": 1384.7209238671655,\n        \"min\": 334.0,\n        \"max\": 4692.0,\n        \"num_unique_values\": 8,\n        \"samples\": [\n          1162.626712328767,\n          1087.0,\n          1460.0\n        ],\n        \"semantic_type\": \"\",\n        \"description\": \"\"\n      }\n    },\n    {\n      \"column\": \"GrLivArea\",\n      \"properties\": {\n        \"dtype\": \"number\",\n        \"std\": 1658.5660189483694,\n        \"min\": 334.0,\n        \"max\": 5642.0,\n        \"num_unique_values\": 8,\n        \"samples\": [\n          1515.463698630137,\n          1464.0,\n          1460.0\n        ],\n        \"semantic_type\": \"\",\n        \"description\": \"\"\n      }\n    },\n    {\n      \"column\": \"FullBath\",\n      \"properties\": {\n        \"dtype\": \"number\",\n        \"std\": 515.7280557029395,\n        \"min\": -1.0,\n        \"max\": 1460.0,\n        \"num_unique_values\": 7,\n        \"samples\": [\n          1460.0,\n          1.558904109589041,\n          2.0\n        ],\n        \"semantic_type\": \"\",\n        \"description\": \"\"\n      }\n    },\n    {\n      \"column\": \"BedroomAbvGr\",\n      \"properties\": {\n        \"dtype\": \"number\",\n        \"std\": 515.2500866176043,\n        \"min\": -1.0,\n        \"max\": 1460.0,\n        \"num_unique_values\": 7,\n        \"samples\": [\n          1460.0,\n          2.8623287671232878,\n          3.0\n        ],\n        \"semantic_type\": \"\",\n        \"description\": \"\"\n      }\n    },\n    {\n      \"column\": \"KitchenAbvGr\",\n      \"properties\": {\n        \"dtype\": \"number\",\n        \"std\": 515.8723982064782,\n        \"min\": -1.0,\n        \"max\": 1460.0,\n        \"num_unique_values\": 6,\n        \"samples\": [\n          1460.0,\n          1.045890410958904,\n          3.0\n        ],\n        \"semantic_type\": \"\",\n        \"description\": \"\"\n      }\n    },\n    {\n      \"column\": \"TotRmsAbvGrd\",\n      \"properties\": {\n        \"dtype\": \"number\",\n        \"std\": 514.0734868253039,\n        \"min\": 1.6253932905840505,\n        \"max\": 1460.0,\n        \"num_unique_values\": 8,\n        \"samples\": [\n          6.517808219178082,\n          6.0,\n          1460.0\n        ],\n        \"semantic_type\": \"\",\n        \"description\": \"\"\n      }\n    },\n    {\n      \"column\": \"GarageYrBlt\",\n      \"properties\": {\n        \"dtype\": \"number\",\n        \"std\": 794.9770375195302,\n        \"min\": -1.0,\n        \"max\": 2010.0,\n        \"num_unique_values\": 8,\n        \"samples\": [\n          1868.6842465753425,\n          1977.0,\n          1460.0\n        ],\n        \"semantic_type\": \"\",\n        \"description\": \"\"\n      }\n    },\n    {\n      \"column\": \"GarageCars\",\n      \"properties\": {\n        \"dtype\": \"number\",\n        \"std\": 515.653953426322,\n        \"min\": -1.0,\n        \"max\": 1460.0,\n        \"num_unique_values\": 7,\n        \"samples\": [\n          1460.0,\n          1.7116438356164383,\n          2.0\n        ],\n        \"semantic_type\": \"\",\n        \"description\": \"\"\n      }\n    },\n    {\n      \"column\": \"GarageArea\",\n      \"properties\": {\n        \"dtype\": \"number\",\n        \"std\": 536.8709735768658,\n        \"min\": -1.0,\n        \"max\": 1460.0,\n        \"num_unique_values\": 8,\n        \"samples\": [\n          472.9246575342466,\n          480.0,\n          1460.0\n        ],\n        \"semantic_type\": \"\",\n        \"description\": \"\"\n      }\n    },\n    {\n      \"column\": \"MoSold\",\n      \"properties\": {\n        \"dtype\": \"number\",\n        \"std\": 514.1265221943588,\n        \"min\": 1.0,\n        \"max\": 1460.0,\n        \"num_unique_values\": 8,\n        \"samples\": [\n          6.321917808219178,\n          6.0,\n          1460.0\n        ],\n        \"semantic_type\": \"\",\n        \"description\": \"\"\n      }\n    },\n    {\n      \"column\": \"YrSold\",\n      \"properties\": {\n        \"dtype\": \"number\",\n        \"std\": 708.2306851232478,\n        \"min\": 1.3280951205521099,\n        \"max\": 2010.0,\n        \"num_unique_values\": 8,\n        \"samples\": [\n          2007.8157534246575,\n          2008.0,\n          1460.0\n        ],\n        \"semantic_type\": \"\",\n        \"description\": \"\"\n      }\n    },\n    {\n      \"column\": \"SalePrice\",\n      \"properties\": {\n        \"dtype\": \"number\",\n        \"std\": 237803.79920580916,\n        \"min\": 1460.0,\n        \"max\": 755000.0,\n        \"num_unique_values\": 8,\n        \"samples\": [\n          180921.19589041095,\n          163000.0,\n          1460.0\n        ],\n        \"semantic_type\": \"\",\n        \"description\": \"\"\n      }\n    }\n  ]\n}"
            }
          },
          "metadata": {},
          "execution_count": 81
        }
      ]
    },
    {
      "cell_type": "code",
      "source": [
        "#Ao utilizando a função .describe(), verificamos que na coluna 'LotArea' o 3º Quartil esta com um valor muito descrepante em relação ao valor Maximo, sendo isso indicio de Outlier\n",
        "boxplot = bdint.boxplot()"
      ],
      "metadata": {
        "colab": {
          "base_uri": "https://localhost:8080/",
          "height": 430
        },
        "id": "0K7vxGkhMUru",
        "outputId": "d1e3726a-2c7e-4341-f630-4c96765a1404"
      },
      "execution_count": 82,
      "outputs": [
        {
          "output_type": "display_data",
          "data": {
            "text/plain": [
              "<Figure size 640x480 with 1 Axes>"
            ],
            "image/png": "[encoded data removed]"
          },
          "metadata": {}
        }
      ]
    },
    {
      "cell_type": "code",
      "source": [
        "import plotly.express as px\n",
        "boxplot = px.box(bdhouse2, y=\"LotArea\")\n",
        "boxplot\n"
      ],
      "metadata": {
        "id": "-rD-L6CcYhZb",
        "colab": {
          "base_uri": "https://localhost:8080/",
          "height": 542
        },
        "outputId": "2e629f31-6e98-4483-a393-285deb0f6635"
      },
      "execution_count": 83,
      "outputs": [
        {
          "output_type": "display_data",
          "data": {
            "text/html": [
              "<html>\n",
              "<head><meta charset=\"utf-8\" /></head>\n",
              "<body>\n",
              "    <div>            <script src=\"https://cdnjs.cloudflare.com/ajax/libs/mathjax/2.7.5/MathJax.js?config=TeX-AMS-MML_SVG\"></script><script type=\"text/javascript\">if (window.MathJax && window.MathJax.Hub && window.MathJax.Hub.Config) {window.MathJax.Hub.Config({SVG: {font: \"STIX-Web\"}});}</script>                <script type=\"text/javascript\">window.PlotlyConfig = {MathJaxConfig: 'local'};</script>\n",
              "        <script charset=\"utf-8\" src=\"https://cdn.plot.ly/plotly-2.24.1.min.js\"></script>                <div id=\"0279c2d6-4d8d-4f23-88a3-656581be9594\" class=\"plotly-graph-div\" style=\"height:525px; width:100%;\"></div>            <script type=\"text/javascript\">                                    window.PLOTLYENV=window.PLOTLYENV || {};                                    if (document.getElementById(\"0279c2d6-4d8d-4f23-88a3-656581be9594\")) {                    Plotly.newPlot(                        \"0279c2d6-4d8d-4f23-88a3-656581be9594\",                        [{\"alignmentgroup\":\"True\",\"hovertemplate\":\"LotArea=%{y}\\u003cextra\\u003e\\u003c\\u002fextra\\u003e\",\"legendgroup\":\"\",\"marker\":{\"color\":\"#636efa\"},\"name\":\"\",\"notched\":false,\"offsetgroup\":\"\",\"orientation\":\"v\",\"showlegend\":false,\"x0\":\" \",\"xaxis\":\"x\",\"y\":[8450,9600,11250,9550,14260,14115,10084,10382,6120,7420,11200,11924,12968,10652,10920,6120,11241,10791,13695,7560,14215,7449,9742,4224,8246,14230,7200,11478,16321,6324,8500,8544,11049,10552,7313,13418,10859,8532,7922,6040,8658,16905,9180,9200,7945,7658,12822,11096,4456,7742,13869,6240,8472,50271,7134,10175,2645,11645,13682,7200,13072,7200,6442,10300,9375,9591,19900,10665,4608,15593,13651,7599,10141,10200,5790,1596,8475,8635,10778,10440,13000,4500,10206,8892,8530,16059,11911,3951,8470,8070,7200,8500,13360,7200,9337,9765,10264,10921,10625,9320,10603,9206,7018,10402,7758,9375,10800,6000,8500,11751,9525,7750,9965,21000,7259,3230,11616,8536,12376,8461,21453,6060,9464,7892,17043,6780,4928,4388,7590,8973,14200,12224,7388,6853,10335,10400,10355,11070,9066,15426,10500,11645,8520,10335,9100,2522,6120,9505,7500,6240,10356,13891,14803,13500,11340,9600,7200,12003,12552,19378,11120,13688,12182,5500,5400,10106,10708,10562,8244,16669,12358,31770,5306,10197,12416,12615,10029,13650,17423,8520,2117,7588,9060,11426,7438,22950,9947,10410,7018,4923,10570,7472,9017,2522,7180,2280,9416,25419,5520,9591,8546,10125,7000,4438,3500,11851,13673,12493,14364,8250,5604,10420,8640,13568,10900,10011,8450,9906,15660,3010,8990,8068,11475,10500,13472,1680,9950,1869,8521,3182,8760,15138,1680,10650,7851,1680,8773,9453,12030,8741,9000,3880,5000,10762,8880,10400,9142,11310,11317,159000,5350,4750,8366,9350,8400,8738,8791,8814,12435,12702,19296,9588,8471,5500,5232,12090,11207,8400,6900,7917,10728,39104,11764,9600,8314,7264,9196,19138,14450,10005,11287,7200,5063,9612,8012,4251,9786,8125,9819,8730,15611,5687,11409,16659,9600,7937,13710,7399,11700,14000,15750,16226,13704,9800,18386,10386,13474,7920,12342,12378,7685,8000,7800,215245,9600,7795,13005,9000,9900,14115,16259,12099,10380,5820,11275,5000,10846,11600,11888,6402,10624,8176,10655,8198,9042,164660,14157,9135,14145,12400,14191,8400,8544,8849,2592,6435,12772,17600,2448,20431,7820,5271,9084,8520,8400,11249,9248,4224,6930,12011,7540,9144,7301,1680,18800,10690,9500,9150,7800,9830,8121,17120,7175,10634,8200,10020,8846,11143,11394,8123,5000,7200,9245,9000,53107,3182,8410,7200,9382,12474,8405,12209,8339,7446,10134,9571,7200,7590,8967,8125,14963,8767,10200,12090,10364,9991,10480,15576,14154,10800,9571,34650,4403,8960,11228,8899,7844,22420,8160,8450,7060,16635,21750,9200,9000,3378,12800,8593,6762,11457,1680,5586,1920,10839,1890,10667,4400,6000,4280,12354,15431,12108,6240,3922,8750,9855,16492,11214,8600,6000,5684,70761,9303,9000,9297,9600,4571,53227,5100,7015,8004,7200,8281,11988,8430,3072,10628,9480,11428,9291,6820,11952,3675,14977,5330,8480,13125,13693,10637,5925,16033,11846,2500,4500,7758,9600,10289,12243,10800,1526,2665,9490,15578,7931,5784,7879,12692,9120,7800,7535,1890,9803,9170,15602,2308,7596,9554,7862,9600,9600,14559,6792,9100,9187,10594,12220,10448,10208,9531,10918,10800,11988,5000,40094,11787,7500,13300,14948,9098,32668,10200,6155,7200,5000,9056,7000,8924,12735,11553,11423,14601,11000,10140,4058,17104,13837,8737,7244,8235,9375,4043,6000,11146,8777,10625,6380,14850,11040,21872,3196,11341,10010,13907,21780,13346,6858,11198,10171,12327,7032,13101,7332,13159,9967,10500,8480,6292,11777,3604,12150,14585,12704,11841,13500,6120,11443,10267,8740,25095,9100,8320,13478,6600,4435,7990,11302,3600,3922,12984,1950,10927,9000,10041,3182,12803,13600,12464,7800,12168,7943,11050,10395,11885,8402,1491,8800,7861,7227,11694,12244,8248,10800,7064,2117,10400,10000,12342,9600,11606,9020,9000,4590,11900,9250,6979,10896,6120,6000,8777,3982,12677,7050,13860,10793,9187,10530,7200,10452,7700,1936,8125,9084,8750,10320,10437,1680,10007,7200,17503,9937,12384,46589,13560,10012,20896,11194,18450,8125,14175,11600,8633,6629,11250,14442,9200,2289,9600,9022,11844,9945,8012,4500,2887,11248,16770,5062,10207,5105,8089,7577,4426,21535,26178,5400,6120,13811,6000,6420,8450,4282,14331,9600,12438,7630,8400,5600,115149,6240,9018,7162,4130,8712,4671,9873,13517,10140,10800,10000,10542,9920,6563,4426,8120,8172,13286,6960,21695,7314,11475,6240,5389,9590,11404,10000,8978,10800,8544,10463,10800,9313,9600,6768,8450,12886,5395,8963,8795,11700,10593,8405,8800,7750,9236,10240,7930,3230,10769,11616,2280,12257,9100,6911,8640,9430,9549,14587,10421,12508,9100,53504,7252,8877,7819,10150,14226,4500,11210,13350,8400,10530,7875,7153,16285,9101,6300,9790,10800,10142,6000,12205,3182,11333,9920,9158,10832,8400,8197,7677,13518,7200,12798,4800,8199,13891,9000,12274,9750,21384,13400,8100,10140,4438,8712,9750,8248,12137,11425,13265,8816,6371,7226,6000,12394,9900,11216,14803,6130,8529,28698,2544,11900,3180,9548,10004,7875,9600,8100,1680,9525,11767,12155,10440,9020,8000,12665,16647,9317,15523,45600,9600,4435,3196,7128,12095,17920,6897,10970,8125,10400,11029,7642,11625,9672,7931,8640,8750,10656,6970,14762,9938,6600,8750,8892,12144,5720,9000,25286,8834,11782,7000,7024,13758,9636,6204,7150,5119,8393,16466,15865,12160,8064,11184,8414,13284,7018,7056,8765,7018,12919,6993,7340,8712,7875,14859,6173,9920,13501,11500,8885,12589,11600,9286,6120,6270,3000,2001,9000,17140,13125,11029,8462,8777,10237,8012,10240,15611,11999,9900,11838,13006,8925,9100,11670,8487,27650,5825,10083,9675,8760,24090,12640,8755,7711,25000,14375,8820,8163,14536,14006,9360,7200,7800,7200,11075,9400,7136,1300,7420,8450,2572,7207,12227,2308,11923,11316,10237,9600,7390,5925,10382,10800,2268,7892,11639,11414,2651,5900,4274,9450,8816,12122,12203,3182,11250,10125,10880,5310,10159,12046,8125,9452,17671,9760,8846,12456,4712,10659,11717,9786,6762,10206,5400,11957,11500,3182,8385,12155,2217,12118,6000,21286,9825,10592,7200,11664,8400,11883,5814,10784,3013,7024,7406,9439,3182,15498,7700,9300,9520,9492,1680,7082,15863,14541,8125,6305,11500,12898,9240,1533,1477,13125,9130,5381,11839,9600,13680,16056,9245,21750,11100,8993,11175,9500,8562,11367,11361,7052,29959,11308,11275,4920,18000,13600,6000,11000,14000,7837,9760,3964,9600,10152,11700,7585,7950,8556,13125,10800,15870,4435,8775,11040,7500,8749,8800,13031,9069,1974,10574,2522,3316,8544,2160,8400,9230,5868,9317,6882,3696,6000,11880,8400,9758,7000,8910,2016,12256,10357,23257,8063,11362,8000,10480,7100,8923,5400,12085,7750,9764,13825,7560,8263,10084,8926,9405,9125,10434,3684,14572,11796,7200,7804,10712,9900,9828,8773,6180,9600,6342,9819,8731,7350,10304,9965,9000,12180,6240,11200,12000,5700,9000,8280,17755,14115,5890,13700,10768,9350,5001,11932,9120,2280,14778,8724,12900,16157,9541,10475,10852,13728,35760,9880,9120,4017,18030,16560,10678,6951,3950,7681,8335,11170,5587,15623,10800,35133,9738,10615,12461,8935,7500,32463,2645,9600,4500,9364,8029,14054,8850,9100,11235,9353,10400,6000,9750,10140,14684,8900,9135,7763,10182,11218,12134,9340,10246,10205,7094,8930,8640,6240,1680,7800,8250,10496,10680,15384,10482,14598,8872,8769,7910,18890,7728,9842,12160,8525,13132,2628,12393,13072,9037,8158,9849,10625,13891,11435,12090,8125,12328,9600,7200,11160,3136,9858,17542,6931,6240,14303,4060,9587,9750,24682,9600,11250,13515,4060,3735,10120,13214,14100,11344,23595,9156,13526,11512,5362,11345,12936,17871,9473,7500,9808,8049,8800,9400,9638,6000,9790,36500,5664,11065,14112,1680,6600,10140,8172,8400,8700,3675,63887,7500,10762,7500,10120,8688,3363,13173,6955,8072,12000,7153,17500,8814,9572,14774,8190,11075,10226,4230,14781,10215,8400,6627,10186,5330,9986,3636,4270,6600,10440,9084,10000,10780,8877,7200,2368,9650,9246,4118,13450,9560,8294,13695,9375,7558,11103,6000,20781,15306,16196,5250,11643,9247,6000,14720,10316,10192,9477,12537,2117,16737,9842,16158,12513,8499,3180,7500,9179,2665,4435,10635,5400,9600,9750,11400,10625,10991,6292,10998,1953,9735,8212,12925,7200,25339,9060,5436,16692,8520,14892,6000,9100,8944,7838,10800,4045,12665,57200,6120,7200,6171,6000,7415,6762,15256,10410,3842,8445,8780,7740,20544,12420,9600,7200,10994,13053,3635,11340,16545,9204,16381,11700,4043,4435,19690,9503,10721,10944,10930,7200,12546,21930,4928,10800,10261,17400,8400,9000,12444,7407,11584,11526,4426,11003,8854,8500,8400,26142,10000,11767,1533,9000,9262,3675,17217,7500,7917,13175,9042,9717,9937],\"y0\":\" \",\"yaxis\":\"y\",\"type\":\"box\"}],                        {\"template\":{\"data\":{\"histogram2dcontour\":[{\"type\":\"histogram2dcontour\",\"colorbar\":{\"outlinewidth\":0,\"ticks\":\"\"},\"colorscale\":[[0.0,\"#0d0887\"],[0.1111111111111111,\"#46039f\"],[0.2222222222222222,\"#7201a8\"],[0.3333333333333333,\"#9c179e\"],[0.4444444444444444,\"#bd3786\"],[0.5555555555555556,\"#d8576b\"],[0.6666666666666666,\"#ed7953\"],[0.7777777777777778,\"#fb9f3a\"],[0.8888888888888888,\"#fdca26\"],[1.0,\"#f0f921\"]]}],\"choropleth\":[{\"type\":\"choropleth\",\"colorbar\":{\"outlinewidth\":0,\"ticks\":\"\"}}],\"histogram2d\":[{\"type\":\"histogram2d\",\"colorbar\":{\"outlinewidth\":0,\"ticks\":\"\"},\"colorscale\":[[0.0,\"#0d0887\"],[0.1111111111111111,\"#46039f\"],[0.2222222222222222,\"#7201a8\"],[0.3333333333333333,\"#9c179e\"],[0.4444444444444444,\"#bd3786\"],[0.5555555555555556,\"#d8576b\"],[0.6666666666666666,\"#ed7953\"],[0.7777777777777778,\"#fb9f3a\"],[0.8888888888888888,\"#fdca26\"],[1.0,\"#f0f921\"]]}],\"heatmap\":[{\"type\":\"heatmap\",\"colorbar\":{\"outlinewidth\":0,\"ticks\":\"\"},\"colorscale\":[[0.0,\"#0d0887\"],[0.1111111111111111,\"#46039f\"],[0.2222222222222222,\"#7201a8\"],[0.3333333333333333,\"#9c179e\"],[0.4444444444444444,\"#bd3786\"],[0.5555555555555556,\"#d8576b\"],[0.6666666666666666,\"#ed7953\"],[0.7777777777777778,\"#fb9f3a\"],[0.8888888888888888,\"#fdca26\"],[1.0,\"#f0f921\"]]}],\"heatmapgl\":[{\"type\":\"heatmapgl\",\"colorbar\":{\"outlinewidth\":0,\"ticks\":\"\"},\"colorscale\":[[0.0,\"#0d0887\"],[0.1111111111111111,\"#46039f\"],[0.2222222222222222,\"#7201a8\"],[0.3333333333333333,\"#9c179e\"],[0.4444444444444444,\"#bd3786\"],[0.5555555555555556,\"#d8576b\"],[0.6666666666666666,\"#ed7953\"],[0.7777777777777778,\"#fb9f3a\"],[0.8888888888888888,\"#fdca26\"],[1.0,\"#f0f921\"]]}],\"contourcarpet\":[{\"type\":\"contourcarpet\",\"colorbar\":{\"outlinewidth\":0,\"ticks\":\"\"}}],\"contour\":[{\"type\":\"contour\",\"colorbar\":{\"outlinewidth\":0,\"ticks\":\"\"},\"colorscale\":[[0.0,\"#0d0887\"],[0.1111111111111111,\"#46039f\"],[0.2222222222222222,\"#7201a8\"],[0.3333333333333333,\"#9c179e\"],[0.4444444444444444,\"#bd3786\"],[0.5555555555555556,\"#d8576b\"],[0.6666666666666666,\"#ed7953\"],[0.7777777777777778,\"#fb9f3a\"],[0.8888888888888888,\"#fdca26\"],[1.0,\"#f0f921\"]]}],\"surface\":[{\"type\":\"surface\",\"colorbar\":{\"outlinewidth\":0,\"ticks\":\"\"},\"colorscale\":[[0.0,\"#0d0887\"],[0.1111111111111111,\"#46039f\"],[0.2222222222222222,\"#7201a8\"],[0.3333333333333333,\"#9c179e\"],[0.4444444444444444,\"#bd3786\"],[0.5555555555555556,\"#d8576b\"],[0.6666666666666666,\"#ed7953\"],[0.7777777777777778,\"#fb9f3a\"],[0.8888888888888888,\"#fdca26\"],[1.0,\"#f0f921\"]]}],\"mesh3d\":[{\"type\":\"mesh3d\",\"colorbar\":{\"outlinewidth\":0,\"ticks\":\"\"}}],\"scatter\":[{\"fillpattern\":{\"fillmode\":\"overlay\",\"size\":10,\"solidity\":0.2},\"type\":\"scatter\"}],\"parcoords\":[{\"type\":\"parcoords\",\"line\":{\"colorbar\":{\"outlinewidth\":0,\"ticks\":\"\"}}}],\"scatterpolargl\":[{\"type\":\"scatterpolargl\",\"marker\":{\"colorbar\":{\"outlinewidth\":0,\"ticks\":\"\"}}}],\"bar\":[{\"error_x\":{\"color\":\"#2a3f5f\"},\"error_y\":{\"color\":\"#2a3f5f\"},\"marker\":{\"line\":{\"color\":\"#E5ECF6\",\"width\":0.5},\"pattern\":{\"fillmode\":\"overlay\",\"size\":10,\"solidity\":0.2}},\"type\":\"bar\"}],\"scattergeo\":[{\"type\":\"scattergeo\",\"marker\":{\"colorbar\":{\"outlinewidth\":0,\"ticks\":\"\"}}}],\"scatterpolar\":[{\"type\":\"scatterpolar\",\"marker\":{\"colorbar\":{\"outlinewidth\":0,\"ticks\":\"\"}}}],\"histogram\":[{\"marker\":{\"pattern\":{\"fillmode\":\"overlay\",\"size\":10,\"solidity\":0.2}},\"type\":\"histogram\"}],\"scattergl\":[{\"type\":\"scattergl\",\"marker\":{\"colorbar\":{\"outlinewidth\":0,\"ticks\":\"\"}}}],\"scatter3d\":[{\"type\":\"scatter3d\",\"line\":{\"colorbar\":{\"outlinewidth\":0,\"ticks\":\"\"}},\"marker\":{\"colorbar\":{\"outlinewidth\":0,\"ticks\":\"\"}}}],\"scattermapbox\":[{\"type\":\"scattermapbox\",\"marker\":{\"colorbar\":{\"outlinewidth\":0,\"ticks\":\"\"}}}],\"scatterternary\":[{\"type\":\"scatterternary\",\"marker\":{\"colorbar\":{\"outlinewidth\":0,\"ticks\":\"\"}}}],\"scattercarpet\":[{\"type\":\"scattercarpet\",\"marker\":{\"colorbar\":{\"outlinewidth\":0,\"ticks\":\"\"}}}],\"carpet\":[{\"aaxis\":{\"endlinecolor\":\"#2a3f5f\",\"gridcolor\":\"white\",\"linecolor\":\"white\",\"minorgridcolor\":\"white\",\"startlinecolor\":\"#2a3f5f\"},\"baxis\":{\"endlinecolor\":\"#2a3f5f\",\"gridcolor\":\"white\",\"linecolor\":\"white\",\"minorgridcolor\":\"white\",\"startlinecolor\":\"#2a3f5f\"},\"type\":\"carpet\"}],\"table\":[{\"cells\":{\"fill\":{\"color\":\"#EBF0F8\"},\"line\":{\"color\":\"white\"}},\"header\":{\"fill\":{\"color\":\"#C8D4E3\"},\"line\":{\"color\":\"white\"}},\"type\":\"table\"}],\"barpolar\":[{\"marker\":{\"line\":{\"color\":\"#E5ECF6\",\"width\":0.5},\"pattern\":{\"fillmode\":\"overlay\",\"size\":10,\"solidity\":0.2}},\"type\":\"barpolar\"}],\"pie\":[{\"automargin\":true,\"type\":\"pie\"}]},\"layout\":{\"autotypenumbers\":\"strict\",\"colorway\":[\"#636efa\",\"#EF553B\",\"#00cc96\",\"#ab63fa\",\"#FFA15A\",\"#19d3f3\",\"#FF6692\",\"#B6E880\",\"#FF97FF\",\"#FECB52\"],\"font\":{\"color\":\"#2a3f5f\"},\"hovermode\":\"closest\",\"hoverlabel\":{\"align\":\"left\"},\"paper_bgcolor\":\"white\",\"plot_bgcolor\":\"#E5ECF6\",\"polar\":{\"bgcolor\":\"#E5ECF6\",\"angularaxis\":{\"gridcolor\":\"white\",\"linecolor\":\"white\",\"ticks\":\"\"},\"radialaxis\":{\"gridcolor\":\"white\",\"linecolor\":\"white\",\"ticks\":\"\"}},\"ternary\":{\"bgcolor\":\"#E5ECF6\",\"aaxis\":{\"gridcolor\":\"white\",\"linecolor\":\"white\",\"ticks\":\"\"},\"baxis\":{\"gridcolor\":\"white\",\"linecolor\":\"white\",\"ticks\":\"\"},\"caxis\":{\"gridcolor\":\"white\",\"linecolor\":\"white\",\"ticks\":\"\"}},\"coloraxis\":{\"colorbar\":{\"outlinewidth\":0,\"ticks\":\"\"}},\"colorscale\":{\"sequential\":[[0.0,\"#0d0887\"],[0.1111111111111111,\"#46039f\"],[0.2222222222222222,\"#7201a8\"],[0.3333333333333333,\"#9c179e\"],[0.4444444444444444,\"#bd3786\"],[0.5555555555555556,\"#d8576b\"],[0.6666666666666666,\"#ed7953\"],[0.7777777777777778,\"#fb9f3a\"],[0.8888888888888888,\"#fdca26\"],[1.0,\"#f0f921\"]],\"sequentialminus\":[[0.0,\"#0d0887\"],[0.1111111111111111,\"#46039f\"],[0.2222222222222222,\"#7201a8\"],[0.3333333333333333,\"#9c179e\"],[0.4444444444444444,\"#bd3786\"],[0.5555555555555556,\"#d8576b\"],[0.6666666666666666,\"#ed7953\"],[0.7777777777777778,\"#fb9f3a\"],[0.8888888888888888,\"#fdca26\"],[1.0,\"#f0f921\"]],\"diverging\":[[0,\"#8e0152\"],[0.1,\"#c51b7d\"],[0.2,\"#de77ae\"],[0.3,\"#f1b6da\"],[0.4,\"#fde0ef\"],[0.5,\"#f7f7f7\"],[0.6,\"#e6f5d0\"],[0.7,\"#b8e186\"],[0.8,\"#7fbc41\"],[0.9,\"#4d9221\"],[1,\"#276419\"]]},\"xaxis\":{\"gridcolor\":\"white\",\"linecolor\":\"white\",\"ticks\":\"\",\"title\":{\"standoff\":15},\"zerolinecolor\":\"white\",\"automargin\":true,\"zerolinewidth\":2},\"yaxis\":{\"gridcolor\":\"white\",\"linecolor\":\"white\",\"ticks\":\"\",\"title\":{\"standoff\":15},\"zerolinecolor\":\"white\",\"automargin\":true,\"zerolinewidth\":2},\"scene\":{\"xaxis\":{\"backgroundcolor\":\"#E5ECF6\",\"gridcolor\":\"white\",\"linecolor\":\"white\",\"showbackground\":true,\"ticks\":\"\",\"zerolinecolor\":\"white\",\"gridwidth\":2},\"yaxis\":{\"backgroundcolor\":\"#E5ECF6\",\"gridcolor\":\"white\",\"linecolor\":\"white\",\"showbackground\":true,\"ticks\":\"\",\"zerolinecolor\":\"white\",\"gridwidth\":2},\"zaxis\":{\"backgroundcolor\":\"#E5ECF6\",\"gridcolor\":\"white\",\"linecolor\":\"white\",\"showbackground\":true,\"ticks\":\"\",\"zerolinecolor\":\"white\",\"gridwidth\":2}},\"shapedefaults\":{\"line\":{\"color\":\"#2a3f5f\"}},\"annotationdefaults\":{\"arrowcolor\":\"#2a3f5f\",\"arrowhead\":0,\"arrowwidth\":1},\"geo\":{\"bgcolor\":\"white\",\"landcolor\":\"#E5ECF6\",\"subunitcolor\":\"white\",\"showland\":true,\"showlakes\":true,\"lakecolor\":\"white\"},\"title\":{\"x\":0.05},\"mapbox\":{\"style\":\"light\"}}},\"xaxis\":{\"anchor\":\"y\",\"domain\":[0.0,1.0]},\"yaxis\":{\"anchor\":\"x\",\"domain\":[0.0,1.0],\"title\":{\"text\":\"LotArea\"}},\"legend\":{\"tracegroupgap\":0},\"margin\":{\"t\":60},\"boxmode\":\"group\"},                        {\"responsive\": true}                    ).then(function(){\n",
              "                            \n",
              "var gd = document.getElementById('0279c2d6-4d8d-4f23-88a3-656581be9594');\n",
              "var x = new MutationObserver(function (mutations, observer) {{\n",
              "        var display = window.getComputedStyle(gd).display;\n",
              "        if (!display || display === 'none') {{\n",
              "            console.log([gd, 'removed!']);\n",
              "            Plotly.purge(gd);\n",
              "            observer.disconnect();\n",
              "        }}\n",
              "}});\n",
              "\n",
              "// Listen for the removal of the full notebook cells\n",
              "var notebookContainer = gd.closest('#notebook-container');\n",
              "if (notebookContainer) {{\n",
              "    x.observe(notebookContainer, {childList: true});\n",
              "}}\n",
              "\n",
              "// Listen for the clearing of the current output cell\n",
              "var outputEl = gd.closest('.output');\n",
              "if (outputEl) {{\n",
              "    x.observe(outputEl, {childList: true});\n",
              "}}\n",
              "\n",
              "                        })                };                            </script>        </div>\n",
              "</body>\n",
              "</html>"
            ]
          },
          "metadata": {}
        }
      ]
    },
    {
      "cell_type": "code",
      "source": [
        "#Ao analisar as variaves numéricas percebi que a coluna \"LotArea\", possuia valores discrepantes(outlier) e optei por eliminar do modelo as linhas que continham valores acima de 30.000m\n",
        "bdhouse2 = bdhouse2.loc[bdhouse2.LotArea <= 30000]\n",
        "bdhouse2"
      ],
      "metadata": {
        "colab": {
          "base_uri": "https://localhost:8080/",
          "height": 444
        },
        "id": "rJcfP0vXNP7W",
        "outputId": "8d2366f3-0abd-448e-a7f0-f845797c5f28"
      },
      "execution_count": 84,
      "outputs": [
        {
          "output_type": "execute_result",
          "data": {
            "text/plain": [
              "        Id  MSSubClass MSZoning  LotArea Street LotShape LandContour  \\\n",
              "0        1          60       RL     8450   Pave      Reg         Lvl   \n",
              "1        2          20       RL     9600   Pave      Reg         Lvl   \n",
              "2        3          60       RL    11250   Pave      IR1         Lvl   \n",
              "3        4          70       RL     9550   Pave      IR1         Lvl   \n",
              "4        5          60       RL    14260   Pave      IR1         Lvl   \n",
              "...    ...         ...      ...      ...    ...      ...         ...   \n",
              "1455  1456          60       RL     7917   Pave      Reg         Lvl   \n",
              "1456  1457          20       RL    13175   Pave      Reg         Lvl   \n",
              "1457  1458          70       RL     9042   Pave      Reg         Lvl   \n",
              "1458  1459          20       RL     9717   Pave      Reg         Lvl   \n",
              "1459  1460          20       RL     9937   Pave      Reg         Lvl   \n",
              "\n",
              "     Utilities LotConfig LandSlope  ... GarageCars GarageArea GarageQual  \\\n",
              "0       AllPub    Inside       Gtl  ...        2.0      548.0         TA   \n",
              "1       AllPub       FR2       Gtl  ...        2.0      460.0         TA   \n",
              "2       AllPub    Inside       Gtl  ...        2.0      608.0         TA   \n",
              "3       AllPub    Corner       Gtl  ...        3.0      642.0         TA   \n",
              "4       AllPub       FR2       Gtl  ...        3.0      836.0         TA   \n",
              "...        ...       ...       ...  ...        ...        ...        ...   \n",
              "1455    AllPub    Inside       Gtl  ...        2.0      460.0         TA   \n",
              "1456    AllPub    Inside       Gtl  ...        2.0      500.0         TA   \n",
              "1457    AllPub    Inside       Gtl  ...        1.0      252.0         TA   \n",
              "1458    AllPub    Inside       Gtl  ...        1.0      240.0         TA   \n",
              "1459    AllPub    Inside       Gtl  ...        1.0      276.0         TA   \n",
              "\n",
              "     GarageCond PavedDrive  MoSold  YrSold  SaleType  SaleCondition SalePrice  \n",
              "0            TA          Y       2    2008        WD         Normal    208500  \n",
              "1            TA          Y       5    2007        WD         Normal    181500  \n",
              "2            TA          Y       9    2008        WD         Normal    223500  \n",
              "3            TA          Y       2    2006        WD        Abnorml    140000  \n",
              "4            TA          Y      12    2008        WD         Normal    250000  \n",
              "...         ...        ...     ...     ...       ...            ...       ...  \n",
              "1455         TA          Y       8    2007        WD         Normal    175000  \n",
              "1456         TA          Y       2    2010        WD         Normal    210000  \n",
              "1457         TA          Y       5    2010        WD         Normal    266500  \n",
              "1458         TA          Y       4    2010        WD         Normal    142125  \n",
              "1459         TA          Y       6    2008        WD         Normal    147500  \n",
              "\n",
              "[1438 rows x 58 columns]"
            ],
            "text/html": [
              "\n",
              "  <div id=\"df-69a8c269-dc67-4f2a-9e11-5b2c4ca64a52\" class=\"colab-df-container\">\n",
              "    <div>\n",
              "<style scoped>\n",
              "    .dataframe tbody tr th:only-of-type {\n",
              "        vertical-align: middle;\n",
              "    }\n",
              "\n",
              "    .dataframe tbody tr th {\n",
              "        vertical-align: top;\n",
              "    }\n",
              "\n",
              "    .dataframe thead th {\n",
              "        text-align: right;\n",
              "    }\n",
              "</style>\n",
              "<table border=\"1\" class=\"dataframe\">\n",
              "  <thead>\n",
              "    <tr style=\"text-align: right;\">\n",
              "      <th></th>\n",
              "      <th>Id</th>\n",
              "      <th>MSSubClass</th>\n",
              "      <th>MSZoning</th>\n",
              "      <th>LotArea</th>\n",
              "      <th>Street</th>\n",
              "      <th>LotShape</th>\n",
              "      <th>LandContour</th>\n",
              "      <th>Utilities</th>\n",
              "      <th>LotConfig</th>\n",
              "      <th>LandSlope</th>\n",
              "      <th>...</th>\n",
              "      <th>GarageCars</th>\n",
              "      <th>GarageArea</th>\n",
              "      <th>GarageQual</th>\n",
              "      <th>GarageCond</th>\n",
              "      <th>PavedDrive</th>\n",
              "      <th>MoSold</th>\n",
              "      <th>YrSold</th>\n",
              "      <th>SaleType</th>\n",
              "      <th>SaleCondition</th>\n",
              "      <th>SalePrice</th>\n",
              "    </tr>\n",
              "  </thead>\n",
              "  <tbody>\n",
              "    <tr>\n",
              "      <th>0</th>\n",
              "      <td>1</td>\n",
              "      <td>60</td>\n",
              "      <td>RL</td>\n",
              "      <td>8450</td>\n",
              "      <td>Pave</td>\n",
              "      <td>Reg</td>\n",
              "      <td>Lvl</td>\n",
              "      <td>AllPub</td>\n",
              "      <td>Inside</td>\n",
              "      <td>Gtl</td>\n",
              "      <td>...</td>\n",
              "      <td>2.0</td>\n",
              "      <td>548.0</td>\n",
              "      <td>TA</td>\n",
              "      <td>TA</td>\n",
              "      <td>Y</td>\n",
              "      <td>2</td>\n",
              "      <td>2008</td>\n",
              "      <td>WD</td>\n",
              "      <td>Normal</td>\n",
              "      <td>208500</td>\n",
              "    </tr>\n",
              "    <tr>\n",
              "      <th>1</th>\n",
              "      <td>2</td>\n",
              "      <td>20</td>\n",
              "      <td>RL</td>\n",
              "      <td>9600</td>\n",
              "      <td>Pave</td>\n",
              "      <td>Reg</td>\n",
              "      <td>Lvl</td>\n",
              "      <td>AllPub</td>\n",
              "      <td>FR2</td>\n",
              "      <td>Gtl</td>\n",
              "      <td>...</td>\n",
              "      <td>2.0</td>\n",
              "      <td>460.0</td>\n",
              "      <td>TA</td>\n",
              "      <td>TA</td>\n",
              "      <td>Y</td>\n",
              "      <td>5</td>\n",
              "      <td>2007</td>\n",
              "      <td>WD</td>\n",
              "      <td>Normal</td>\n",
              "      <td>181500</td>\n",
              "    </tr>\n",
              "    <tr>\n",
              "      <th>2</th>\n",
              "      <td>3</td>\n",
              "      <td>60</td>\n",
              "      <td>RL</td>\n",
              "      <td>11250</td>\n",
              "      <td>Pave</td>\n",
              "      <td>IR1</td>\n",
              "      <td>Lvl</td>\n",
              "      <td>AllPub</td>\n",
              "      <td>Inside</td>\n",
              "      <td>Gtl</td>\n",
              "      <td>...</td>\n",
              "      <td>2.0</td>\n",
              "      <td>608.0</td>\n",
              "      <td>TA</td>\n",
              "      <td>TA</td>\n",
              "      <td>Y</td>\n",
              "      <td>9</td>\n",
              "      <td>2008</td>\n",
              "      <td>WD</td>\n",
              "      <td>Normal</td>\n",
              "      <td>223500</td>\n",
              "    </tr>\n",
              "    <tr>\n",
              "      <th>3</th>\n",
              "      <td>4</td>\n",
              "      <td>70</td>\n",
              "      <td>RL</td>\n",
              "      <td>9550</td>\n",
              "      <td>Pave</td>\n",
              "      <td>IR1</td>\n",
              "      <td>Lvl</td>\n",
              "      <td>AllPub</td>\n",
              "      <td>Corner</td>\n",
              "      <td>Gtl</td>\n",
              "      <td>...</td>\n",
              "      <td>3.0</td>\n",
              "      <td>642.0</td>\n",
              "      <td>TA</td>\n",
              "      <td>TA</td>\n",
              "      <td>Y</td>\n",
              "      <td>2</td>\n",
              "      <td>2006</td>\n",
              "      <td>WD</td>\n",
              "      <td>Abnorml</td>\n",
              "      <td>140000</td>\n",
              "    </tr>\n",
              "    <tr>\n",
              "      <th>4</th>\n",
              "      <td>5</td>\n",
              "      <td>60</td>\n",
              "      <td>RL</td>\n",
              "      <td>14260</td>\n",
              "      <td>Pave</td>\n",
              "      <td>IR1</td>\n",
              "      <td>Lvl</td>\n",
              "      <td>AllPub</td>\n",
              "      <td>FR2</td>\n",
              "      <td>Gtl</td>\n",
              "      <td>...</td>\n",
              "      <td>3.0</td>\n",
              "      <td>836.0</td>\n",
              "      <td>TA</td>\n",
              "      <td>TA</td>\n",
              "      <td>Y</td>\n",
              "      <td>12</td>\n",
              "      <td>2008</td>\n",
              "      <td>WD</td>\n",
              "      <td>Normal</td>\n",
              "      <td>250000</td>\n",
              "    </tr>\n",
              "    <tr>\n",
              "      <th>...</th>\n",
              "      <td>...</td>\n",
              "      <td>...</td>\n",
              "      <td>...</td>\n",
              "      <td>...</td>\n",
              "      <td>...</td>\n",
              "      <td>...</td>\n",
              "      <td>...</td>\n",
              "      <td>...</td>\n",
              "      <td>...</td>\n",
              "      <td>...</td>\n",
              "      <td>...</td>\n",
              "      <td>...</td>\n",
              "      <td>...</td>\n",
              "      <td>...</td>\n",
              "      <td>...</td>\n",
              "      <td>...</td>\n",
              "      <td>...</td>\n",
              "      <td>...</td>\n",
              "      <td>...</td>\n",
              "      <td>...</td>\n",
              "      <td>...</td>\n",
              "    </tr>\n",
              "    <tr>\n",
              "      <th>1455</th>\n",
              "      <td>1456</td>\n",
              "      <td>60</td>\n",
              "      <td>RL</td>\n",
              "      <td>7917</td>\n",
              "      <td>Pave</td>\n",
              "      <td>Reg</td>\n",
              "      <td>Lvl</td>\n",
              "      <td>AllPub</td>\n",
              "      <td>Inside</td>\n",
              "      <td>Gtl</td>\n",
              "      <td>...</td>\n",
              "      <td>2.0</td>\n",
              "      <td>460.0</td>\n",
              "      <td>TA</td>\n",
              "      <td>TA</td>\n",
              "      <td>Y</td>\n",
              "      <td>8</td>\n",
              "      <td>2007</td>\n",
              "      <td>WD</td>\n",
              "      <td>Normal</td>\n",
              "      <td>175000</td>\n",
              "    </tr>\n",
              "    <tr>\n",
              "      <th>1456</th>\n",
              "      <td>1457</td>\n",
              "      <td>20</td>\n",
              "      <td>RL</td>\n",
              "      <td>13175</td>\n",
              "      <td>Pave</td>\n",
              "      <td>Reg</td>\n",
              "      <td>Lvl</td>\n",
              "      <td>AllPub</td>\n",
              "      <td>Inside</td>\n",
              "      <td>Gtl</td>\n",
              "      <td>...</td>\n",
              "      <td>2.0</td>\n",
              "      <td>500.0</td>\n",
              "      <td>TA</td>\n",
              "      <td>TA</td>\n",
              "      <td>Y</td>\n",
              "      <td>2</td>\n",
              "      <td>2010</td>\n",
              "      <td>WD</td>\n",
              "      <td>Normal</td>\n",
              "      <td>210000</td>\n",
              "    </tr>\n",
              "    <tr>\n",
              "      <th>1457</th>\n",
              "      <td>1458</td>\n",
              "      <td>70</td>\n",
              "      <td>RL</td>\n",
              "      <td>9042</td>\n",
              "      <td>Pave</td>\n",
              "      <td>Reg</td>\n",
              "      <td>Lvl</td>\n",
              "      <td>AllPub</td>\n",
              "      <td>Inside</td>\n",
              "      <td>Gtl</td>\n",
              "      <td>...</td>\n",
              "      <td>1.0</td>\n",
              "      <td>252.0</td>\n",
              "      <td>TA</td>\n",
              "      <td>TA</td>\n",
              "      <td>Y</td>\n",
              "      <td>5</td>\n",
              "      <td>2010</td>\n",
              "      <td>WD</td>\n",
              "      <td>Normal</td>\n",
              "      <td>266500</td>\n",
              "    </tr>\n",
              "    <tr>\n",
              "      <th>1458</th>\n",
              "      <td>1459</td>\n",
              "      <td>20</td>\n",
              "      <td>RL</td>\n",
              "      <td>9717</td>\n",
              "      <td>Pave</td>\n",
              "      <td>Reg</td>\n",
              "      <td>Lvl</td>\n",
              "      <td>AllPub</td>\n",
              "      <td>Inside</td>\n",
              "      <td>Gtl</td>\n",
              "      <td>...</td>\n",
              "      <td>1.0</td>\n",
              "      <td>240.0</td>\n",
              "      <td>TA</td>\n",
              "      <td>TA</td>\n",
              "      <td>Y</td>\n",
              "      <td>4</td>\n",
              "      <td>2010</td>\n",
              "      <td>WD</td>\n",
              "      <td>Normal</td>\n",
              "      <td>142125</td>\n",
              "    </tr>\n",
              "    <tr>\n",
              "      <th>1459</th>\n",
              "      <td>1460</td>\n",
              "      <td>20</td>\n",
              "      <td>RL</td>\n",
              "      <td>9937</td>\n",
              "      <td>Pave</td>\n",
              "      <td>Reg</td>\n",
              "      <td>Lvl</td>\n",
              "      <td>AllPub</td>\n",
              "      <td>Inside</td>\n",
              "      <td>Gtl</td>\n",
              "      <td>...</td>\n",
              "      <td>1.0</td>\n",
              "      <td>276.0</td>\n",
              "      <td>TA</td>\n",
              "      <td>TA</td>\n",
              "      <td>Y</td>\n",
              "      <td>6</td>\n",
              "      <td>2008</td>\n",
              "      <td>WD</td>\n",
              "      <td>Normal</td>\n",
              "      <td>147500</td>\n",
              "    </tr>\n",
              "  </tbody>\n",
              "</table>\n",
              "<p>1438 rows × 58 columns</p>\n",
              "</div>\n",
              "    <div class=\"colab-df-buttons\">\n",
              "\n",
              "  <div class=\"colab-df-container\">\n",
              "    <button class=\"colab-df-convert\" onclick=\"convertToInteractive('df-69a8c269-dc67-4f2a-9e11-5b2c4ca64a52')\"\n",
              "            title=\"Convert this dataframe to an interactive table.\"\n",
              "            style=\"display:none;\">\n",
              "\n",
              "  <svg xmlns=\"http://www.w3.org/2000/svg\" height=\"24px\" viewBox=\"0 -960 960 960\">\n",
              "    <path d=\"M120-120v-720h720v720H120Zm60-500h600v-160H180v160Zm220 220h160v-160H400v160Zm0 220h160v-160H400v160ZM180-400h160v-160H180v160Zm440 0h160v-160H620v160ZM180-180h160v-160H180v160Zm440 0h160v-160H620v160Z\"/>\n",
              "  </svg>\n",
              "    </button>\n",
              "\n",
              "  <style>\n",
              "    .colab-df-container {\n",
              "      display:flex;\n",
              "      gap: 12px;\n",
              "    }\n",
              "\n",
              "    .colab-df-convert {\n",
              "      background-color: #E8F0FE;\n",
              "      border: none;\n",
              "      border-radius: 50%;\n",
              "      cursor: pointer;\n",
              "      display: none;\n",
              "      fill: #1967D2;\n",
              "      height: 32px;\n",
              "      padding: 0 0 0 0;\n",
              "      width: 32px;\n",
              "    }\n",
              "\n",
              "    .colab-df-convert:hover {\n",
              "      background-color: #E2EBFA;\n",
              "      box-shadow: 0px 1px 2px rgba(60, 64, 67, 0.3), 0px 1px 3px 1px rgba(60, 64, 67, 0.15);\n",
              "      fill: #174EA6;\n",
              "    }\n",
              "\n",
              "    .colab-df-buttons div {\n",
              "      margin-bottom: 4px;\n",
              "    }\n",
              "\n",
              "    [theme=dark] .colab-df-convert {\n",
              "      background-color: #3B4455;\n",
              "      fill: #D2E3FC;\n",
              "    }\n",
              "\n",
              "    [theme=dark] .colab-df-convert:hover {\n",
              "      background-color: #434B5C;\n",
              "      box-shadow: 0px 1px 3px 1px rgba(0, 0, 0, 0.15);\n",
              "      filter: drop-shadow(0px 1px 2px rgba(0, 0, 0, 0.3));\n",
              "      fill: #FFFFFF;\n",
              "    }\n",
              "  </style>\n",
              "\n",
              "    <script>\n",
              "      const buttonEl =\n",
              "        document.querySelector('#df-69a8c269-dc67-4f2a-9e11-5b2c4ca64a52 button.colab-df-convert');\n",
              "      buttonEl.style.display =\n",
              "        google.colab.kernel.accessAllowed ? 'block' : 'none';\n",
              "\n",
              "      async function convertToInteractive(key) {\n",
              "        const element = document.querySelector('#df-69a8c269-dc67-4f2a-9e11-5b2c4ca64a52');\n",
              "        const dataTable =\n",
              "          await google.colab.kernel.invokeFunction('convertToInteractive',\n",
              "                                                    [key], {});\n",
              "        if (!dataTable) return;\n",
              "\n",
              "        const docLinkHtml = 'Like what you see? Visit the ' +\n",
              "          '<a target=\"_blank\" href=https://colab.research.google.com/notebooks/data_table.ipynb>data table notebook</a>'\n",
              "          + ' to learn more about interactive tables.';\n",
              "        element.innerHTML = '';\n",
              "        dataTable['output_type'] = 'display_data';\n",
              "        await google.colab.output.renderOutput(dataTable, element);\n",
              "        const docLink = document.createElement('div');\n",
              "        docLink.innerHTML = docLinkHtml;\n",
              "        element.appendChild(docLink);\n",
              "      }\n",
              "    </script>\n",
              "  </div>\n",
              "\n",
              "\n",
              "<div id=\"df-812e2ef8-74ab-4897-bc38-861be28b9b9e\">\n",
              "  <button class=\"colab-df-quickchart\" onclick=\"quickchart('df-812e2ef8-74ab-4897-bc38-861be28b9b9e')\"\n",
              "            title=\"Suggest charts\"\n",
              "            style=\"display:none;\">\n",
              "\n",
              "<svg xmlns=\"http://www.w3.org/2000/svg\" height=\"24px\"viewBox=\"0 0 24 24\"\n",
              "     width=\"24px\">\n",
              "    <g>\n",
              "        <path d=\"M19 3H5c-1.1 0-2 .9-2 2v14c0 1.1.9 2 2 2h14c1.1 0 2-.9 2-2V5c0-1.1-.9-2-2-2zM9 17H7v-7h2v7zm4 0h-2V7h2v10zm4 0h-2v-4h2v4z\"/>\n",
              "    </g>\n",
              "</svg>\n",
              "  </button>\n",
              "\n",
              "<style>\n",
              "  .colab-df-quickchart {\n",
              "      --bg-color: #E8F0FE;\n",
              "      --fill-color: #1967D2;\n",
              "      --hover-bg-color: #E2EBFA;\n",
              "      --hover-fill-color: #174EA6;\n",
              "      --disabled-fill-color: #AAA;\n",
              "      --disabled-bg-color: #DDD;\n",
              "  }\n",
              "\n",
              "  [theme=dark] .colab-df-quickchart {\n",
              "      --bg-color: #3B4455;\n",
              "      --fill-color: #D2E3FC;\n",
              "      --hover-bg-color: #434B5C;\n",
              "      --hover-fill-color: #FFFFFF;\n",
              "      --disabled-bg-color: #3B4455;\n",
              "      --disabled-fill-color: #666;\n",
              "  }\n",
              "\n",
              "  .colab-df-quickchart {\n",
              "    background-color: var(--bg-color);\n",
              "    border: none;\n",
              "    border-radius: 50%;\n",
              "    cursor: pointer;\n",
              "    display: none;\n",
              "    fill: var(--fill-color);\n",
              "    height: 32px;\n",
              "    padding: 0;\n",
              "    width: 32px;\n",
              "  }\n",
              "\n",
              "  .colab-df-quickchart:hover {\n",
              "    background-color: var(--hover-bg-color);\n",
              "    box-shadow: 0 1px 2px rgba(60, 64, 67, 0.3), 0 1px 3px 1px rgba(60, 64, 67, 0.15);\n",
              "    fill: var(--button-hover-fill-color);\n",
              "  }\n",
              "\n",
              "  .colab-df-quickchart-complete:disabled,\n",
              "  .colab-df-quickchart-complete:disabled:hover {\n",
              "    background-color: var(--disabled-bg-color);\n",
              "    fill: var(--disabled-fill-color);\n",
              "    box-shadow: none;\n",
              "  }\n",
              "\n",
              "  .colab-df-spinner {\n",
              "    border: 2px solid var(--fill-color);\n",
              "    border-color: transparent;\n",
              "    border-bottom-color: var(--fill-color);\n",
              "    animation:\n",
              "      spin 1s steps(1) infinite;\n",
              "  }\n",
              "\n",
              "  @keyframes spin {\n",
              "    0% {\n",
              "      border-color: transparent;\n",
              "      border-bottom-color: var(--fill-color);\n",
              "      border-left-color: var(--fill-color);\n",
              "    }\n",
              "    20% {\n",
              "      border-color: transparent;\n",
              "      border-left-color: var(--fill-color);\n",
              "      border-top-color: var(--fill-color);\n",
              "    }\n",
              "    30% {\n",
              "      border-color: transparent;\n",
              "      border-left-color: var(--fill-color);\n",
              "      border-top-color: var(--fill-color);\n",
              "      border-right-color: var(--fill-color);\n",
              "    }\n",
              "    40% {\n",
              "      border-color: transparent;\n",
              "      border-right-color: var(--fill-color);\n",
              "      border-top-color: var(--fill-color);\n",
              "    }\n",
              "    60% {\n",
              "      border-color: transparent;\n",
              "      border-right-color: var(--fill-color);\n",
              "    }\n",
              "    80% {\n",
              "      border-color: transparent;\n",
              "      border-right-color: var(--fill-color);\n",
              "      border-bottom-color: var(--fill-color);\n",
              "    }\n",
              "    90% {\n",
              "      border-color: transparent;\n",
              "      border-bottom-color: var(--fill-color);\n",
              "    }\n",
              "  }\n",
              "</style>\n",
              "\n",
              "  <script>\n",
              "    async function quickchart(key) {\n",
              "      const quickchartButtonEl =\n",
              "        document.querySelector('#' + key + ' button');\n",
              "      quickchartButtonEl.disabled = true;  // To prevent multiple clicks.\n",
              "      quickchartButtonEl.classList.add('colab-df-spinner');\n",
              "      try {\n",
              "        const charts = await google.colab.kernel.invokeFunction(\n",
              "            'suggestCharts', [key], {});\n",
              "      } catch (error) {\n",
              "        console.error('Error during call to suggestCharts:', error);\n",
              "      }\n",
              "      quickchartButtonEl.classList.remove('colab-df-spinner');\n",
              "      quickchartButtonEl.classList.add('colab-df-quickchart-complete');\n",
              "    }\n",
              "    (() => {\n",
              "      let quickchartButtonEl =\n",
              "        document.querySelector('#df-812e2ef8-74ab-4897-bc38-861be28b9b9e button');\n",
              "      quickchartButtonEl.style.display =\n",
              "        google.colab.kernel.accessAllowed ? 'block' : 'none';\n",
              "    })();\n",
              "  </script>\n",
              "</div>\n",
              "\n",
              "  <div id=\"id_6ad227b1-4e2b-49ce-91b7-e4445ef7769c\">\n",
              "    <style>\n",
              "      .colab-df-generate {\n",
              "        background-color: #E8F0FE;\n",
              "        border: none;\n",
              "        border-radius: 50%;\n",
              "        cursor: pointer;\n",
              "        display: none;\n",
              "        fill: #1967D2;\n",
              "        height: 32px;\n",
              "        padding: 0 0 0 0;\n",
              "        width: 32px;\n",
              "      }\n",
              "\n",
              "      .colab-df-generate:hover {\n",
              "        background-color: #E2EBFA;\n",
              "        box-shadow: 0px 1px 2px rgba(60, 64, 67, 0.3), 0px 1px 3px 1px rgba(60, 64, 67, 0.15);\n",
              "        fill: #174EA6;\n",
              "      }\n",
              "\n",
              "      [theme=dark] .colab-df-generate {\n",
              "        background-color: #3B4455;\n",
              "        fill: #D2E3FC;\n",
              "      }\n",
              "\n",
              "      [theme=dark] .colab-df-generate:hover {\n",
              "        background-color: #434B5C;\n",
              "        box-shadow: 0px 1px 3px 1px rgba(0, 0, 0, 0.15);\n",
              "        filter: drop-shadow(0px 1px 2px rgba(0, 0, 0, 0.3));\n",
              "        fill: #FFFFFF;\n",
              "      }\n",
              "    </style>\n",
              "    <button class=\"colab-df-generate\" onclick=\"generateWithVariable('bdhouse2')\"\n",
              "            title=\"Generate code using this dataframe.\"\n",
              "            style=\"display:none;\">\n",
              "\n",
              "  <svg xmlns=\"http://www.w3.org/2000/svg\" height=\"24px\"viewBox=\"0 0 24 24\"\n",
              "       width=\"24px\">\n",
              "    <path d=\"M7,19H8.4L18.45,9,17,7.55,7,17.6ZM5,21V16.75L18.45,3.32a2,2,0,0,1,2.83,0l1.4,1.43a1.91,1.91,0,0,1,.58,1.4,1.91,1.91,0,0,1-.58,1.4L9.25,21ZM18.45,9,17,7.55Zm-12,3A5.31,5.31,0,0,0,4.9,8.1,5.31,5.31,0,0,0,1,6.5,5.31,5.31,0,0,0,4.9,4.9,5.31,5.31,0,0,0,6.5,1,5.31,5.31,0,0,0,8.1,4.9,5.31,5.31,0,0,0,12,6.5,5.46,5.46,0,0,0,6.5,12Z\"/>\n",
              "  </svg>\n",
              "    </button>\n",
              "    <script>\n",
              "      (() => {\n",
              "      const buttonEl =\n",
              "        document.querySelector('#id_6ad227b1-4e2b-49ce-91b7-e4445ef7769c button.colab-df-generate');\n",
              "      buttonEl.style.display =\n",
              "        google.colab.kernel.accessAllowed ? 'block' : 'none';\n",
              "\n",
              "      buttonEl.onclick = () => {\n",
              "        google.colab.notebook.generateWithVariable('bdhouse2');\n",
              "      }\n",
              "      })();\n",
              "    </script>\n",
              "  </div>\n",
              "\n",
              "    </div>\n",
              "  </div>\n"
            ],
            "application/vnd.google.colaboratory.intrinsic+json": {
              "type": "dataframe",
              "variable_name": "bdhouse2"
            }
          },
          "metadata": {},
          "execution_count": 84
        }
      ]
    },
    {
      "cell_type": "code",
      "source": [
        "bdhouse2.shape"
      ],
      "metadata": {
        "colab": {
          "base_uri": "https://localhost:8080/"
        },
        "id": "YuuvnrEAGRxI",
        "outputId": "f961b25d-4e6d-4826-eef0-8298949806b8"
      },
      "execution_count": 85,
      "outputs": [
        {
          "output_type": "execute_result",
          "data": {
            "text/plain": [
              "(1438, 58)"
            ]
          },
          "metadata": {},
          "execution_count": 85
        }
      ]
    },
    {
      "cell_type": "markdown",
      "source": [
        "Analisando as váriaveis do tipo categóricas"
      ],
      "metadata": {
        "id": "-xgB3_cvPSAp"
      }
    },
    {
      "cell_type": "markdown",
      "source": [
        "##Analisando variáveis Categóricas"
      ],
      "metadata": {
        "id": "FfMzN46Xd-Qh"
      }
    },
    {
      "cell_type": "code",
      "source": [
        "#Utilizar  biblioteca Matplotlib para visualizar algumas variaveis em gráficos e 'ggplot' como estilo do gráfico\n",
        "import matplotlib.pyplot as plt\n",
        "plt.style.use('ggplot')"
      ],
      "metadata": {
        "id": "qKnkqcXiPCvt"
      },
      "execution_count": 86,
      "outputs": []
    },
    {
      "cell_type": "code",
      "source": [
        "#Separando os dados Categóricos para análisar\n",
        "bdcat = bdhouse2.columns[bdhouse2.dtypes == 'object']"
      ],
      "metadata": {
        "id": "GdKtJ6SIPgQu"
      },
      "execution_count": 87,
      "outputs": []
    },
    {
      "cell_type": "code",
      "source": [
        "bdcat = bdhouse2.loc[:,bdcat]\n"
      ],
      "metadata": {
        "id": "4IBT-tQOPgRA"
      },
      "execution_count": 88,
      "outputs": []
    },
    {
      "cell_type": "code",
      "source": [
        "bdcat.shape"
      ],
      "metadata": {
        "colab": {
          "base_uri": "https://localhost:8080/"
        },
        "outputId": "0c8776fc-641f-471d-a232-a5d7c00eb040",
        "id": "dMpAozDNPgRA"
      },
      "execution_count": 89,
      "outputs": [
        {
          "output_type": "execute_result",
          "data": {
            "text/plain": [
              "(1438, 38)"
            ]
          },
          "metadata": {},
          "execution_count": 89
        }
      ]
    },
    {
      "cell_type": "code",
      "source": [
        "bdcat.info()"
      ],
      "metadata": {
        "colab": {
          "base_uri": "https://localhost:8080/"
        },
        "id": "TA7v07bAP9fx",
        "outputId": "14e50d71-f7ed-45d6-8378-dddee5d43da1"
      },
      "execution_count": 90,
      "outputs": [
        {
          "output_type": "stream",
          "name": "stdout",
          "text": [
            "<class 'pandas.core.frame.DataFrame'>\n",
            "Int64Index: 1438 entries, 0 to 1459\n",
            "Data columns (total 38 columns):\n",
            " #   Column         Non-Null Count  Dtype \n",
            "---  ------         --------------  ----- \n",
            " 0   MSZoning       1438 non-null   object\n",
            " 1   Street         1438 non-null   object\n",
            " 2   LotShape       1438 non-null   object\n",
            " 3   LandContour    1438 non-null   object\n",
            " 4   Utilities      1438 non-null   object\n",
            " 5   LotConfig      1438 non-null   object\n",
            " 6   LandSlope      1438 non-null   object\n",
            " 7   Neighborhood   1438 non-null   object\n",
            " 8   Condition1     1438 non-null   object\n",
            " 9   Condition2     1438 non-null   object\n",
            " 10  BldgType       1438 non-null   object\n",
            " 11  HouseStyle     1438 non-null   object\n",
            " 12  RoofStyle      1438 non-null   object\n",
            " 13  RoofMatl       1438 non-null   object\n",
            " 14  Exterior1st    1438 non-null   object\n",
            " 15  Exterior2nd    1438 non-null   object\n",
            " 16  MasVnrType     1438 non-null   object\n",
            " 17  ExterQual      1438 non-null   object\n",
            " 18  ExterCond      1438 non-null   object\n",
            " 19  Foundation     1438 non-null   object\n",
            " 20  BsmtQual       1438 non-null   object\n",
            " 21  BsmtCond       1438 non-null   object\n",
            " 22  BsmtExposure   1438 non-null   object\n",
            " 23  BsmtFinType1   1438 non-null   object\n",
            " 24  BsmtFinType2   1438 non-null   object\n",
            " 25  Heating        1438 non-null   object\n",
            " 26  HeatingQC      1438 non-null   object\n",
            " 27  CentralAir     1438 non-null   object\n",
            " 28  Electrical     1438 non-null   object\n",
            " 29  KitchenQual    1438 non-null   object\n",
            " 30  Functional     1438 non-null   object\n",
            " 31  GarageType     1438 non-null   object\n",
            " 32  GarageFinish   1438 non-null   object\n",
            " 33  GarageQual     1438 non-null   object\n",
            " 34  GarageCond     1438 non-null   object\n",
            " 35  PavedDrive     1438 non-null   object\n",
            " 36  SaleType       1438 non-null   object\n",
            " 37  SaleCondition  1438 non-null   object\n",
            "dtypes: object(38)\n",
            "memory usage: 438.1+ KB\n"
          ]
        }
      ]
    },
    {
      "cell_type": "markdown",
      "source": [
        "## Plotando Gráficos"
      ],
      "metadata": {
        "id": "UOeLtc0xeI3C"
      }
    },
    {
      "cell_type": "code",
      "source": [
        "#Ao analisar o tipo de contrução, percebemos que a maioria absoluta é do tipo Unifamiliar\n",
        "_ = plt.hist(bdcat.BldgType)"
      ],
      "metadata": {
        "colab": {
          "base_uri": "https://localhost:8080/",
          "height": 430
        },
        "id": "8mylNPJ-P9ij",
        "outputId": "2823d0d2-dd22-45c5-9f50-83f5513d7c0c"
      },
      "execution_count": 91,
      "outputs": [
        {
          "output_type": "display_data",
          "data": {
            "text/plain": [
              "<Figure size 640x480 with 1 Axes>"
            ],
            "image/png": "[encoded data removed]"
          },
          "metadata": {}
        }
      ]
    },
    {
      "cell_type": "code",
      "source": [
        "#Ao analisar o tipo de venda, percebemos que a maioria absoluta é do tipo Venda normal com escritura\n",
        "_ = plt.hist(bdcat.SaleType)\n"
      ],
      "metadata": {
        "colab": {
          "base_uri": "https://localhost:8080/",
          "height": 430
        },
        "id": "lqV0-Bz-Tpgt",
        "outputId": "843b7197-fd8c-4386-ff18-8d0992711c20"
      },
      "execution_count": 92,
      "outputs": [
        {
          "output_type": "display_data",
          "data": {
            "text/plain": [
              "<Figure size 640x480 with 1 Axes>"
            ],
            "image/png": "[encoded data removed]"
          },
          "metadata": {}
        }
      ]
    },
    {
      "cell_type": "code",
      "source": [
        "#99% das ruas são asfaltadas\n",
        "px.pie(bdhouse2, \"Street\")"
      ],
      "metadata": {
        "id": "PWgEr5koP9oO",
        "colab": {
          "base_uri": "https://localhost:8080/",
          "height": 542
        },
        "outputId": "0416a609-fb0e-4c3b-9524-3f8e83ae65ce"
      },
      "execution_count": 93,
      "outputs": [
        {
          "output_type": "display_data",
          "data": {
            "text/html": [
              "<html>\n",
              "<head><meta charset=\"utf-8\" /></head>\n",
              "<body>\n",
              "    <div>            <script src=\"https://cdnjs.cloudflare.com/ajax/libs/mathjax/2.7.5/MathJax.js?config=TeX-AMS-MML_SVG\"></script><script type=\"text/javascript\">if (window.MathJax && window.MathJax.Hub && window.MathJax.Hub.Config) {window.MathJax.Hub.Config({SVG: {font: \"STIX-Web\"}});}</script>                <script type=\"text/javascript\">window.PlotlyConfig = {MathJaxConfig: 'local'};</script>\n",
              "        <script charset=\"utf-8\" src=\"https://cdn.plot.ly/plotly-2.24.1.min.js\"></script>                <div id=\"d546ee74-6610-4179-95bf-91c4dad7d346\" class=\"plotly-graph-div\" style=\"height:525px; width:100%;\"></div>            <script type=\"text/javascript\">                                    window.PLOTLYENV=window.PLOTLYENV || {};                                    if (document.getElementById(\"d546ee74-6610-4179-95bf-91c4dad7d346\")) {                    Plotly.newPlot(                        \"d546ee74-6610-4179-95bf-91c4dad7d346\",                        [{\"domain\":{\"x\":[0.0,1.0],\"y\":[0.0,1.0]},\"hovertemplate\":\"Street=%{label}\\u003cextra\\u003e\\u003c\\u002fextra\\u003e\",\"labels\":[\"Pave\",\"Pave\",\"Pave\",\"Pave\",\"Pave\",\"Pave\",\"Pave\",\"Pave\",\"Pave\",\"Pave\",\"Pave\",\"Pave\",\"Pave\",\"Pave\",\"Pave\",\"Pave\",\"Pave\",\"Pave\",\"Pave\",\"Pave\",\"Pave\",\"Pave\",\"Pave\",\"Pave\",\"Pave\",\"Pave\",\"Pave\",\"Pave\",\"Pave\",\"Pave\",\"Pave\",\"Pave\",\"Pave\",\"Pave\",\"Pave\",\"Pave\",\"Pave\",\"Pave\",\"Pave\",\"Pave\",\"Pave\",\"Pave\",\"Pave\",\"Pave\",\"Pave\",\"Pave\",\"Pave\",\"Pave\",\"Pave\",\"Pave\",\"Pave\",\"Pave\",\"Grvl\",\"Pave\",\"Pave\",\"Pave\",\"Pave\",\"Pave\",\"Pave\",\"Pave\",\"Pave\",\"Pave\",\"Pave\",\"Pave\",\"Pave\",\"Pave\",\"Pave\",\"Pave\",\"Pave\",\"Pave\",\"Pave\",\"Pave\",\"Pave\",\"Pave\",\"Pave\",\"Pave\",\"Pave\",\"Pave\",\"Pave\",\"Pave\",\"Pave\",\"Pave\",\"Pave\",\"Pave\",\"Pave\",\"Pave\",\"Pave\",\"Pave\",\"Pave\",\"Pave\",\"Pave\",\"Pave\",\"Pave\",\"Pave\",\"Pave\",\"Pave\",\"Pave\",\"Pave\",\"Pave\",\"Pave\",\"Pave\",\"Pave\",\"Pave\",\"Pave\",\"Pave\",\"Pave\",\"Pave\",\"Pave\",\"Pave\",\"Pave\",\"Pave\",\"Pave\",\"Pave\",\"Pave\",\"Pave\",\"Pave\",\"Pave\",\"Pave\",\"Pave\",\"Pave\",\"Pave\",\"Pave\",\"Pave\",\"Pave\",\"Pave\",\"Pave\",\"Pave\",\"Pave\",\"Pave\",\"Pave\",\"Pave\",\"Pave\",\"Pave\",\"Pave\",\"Pave\",\"Pave\",\"Pave\",\"Pave\",\"Pave\",\"Pave\",\"Pave\",\"Pave\",\"Pave\",\"Pave\",\"Pave\",\"Pave\",\"Pave\",\"Pave\",\"Pave\",\"Pave\",\"Pave\",\"Pave\",\"Pave\",\"Pave\",\"Pave\",\"Pave\",\"Pave\",\"Pave\",\"Pave\",\"Pave\",\"Pave\",\"Pave\",\"Pave\",\"Pave\",\"Pave\",\"Pave\",\"Pave\",\"Pave\",\"Pave\",\"Pave\",\"Pave\",\"Pave\",\"Pave\",\"Pave\",\"Pave\",\"Pave\",\"Pave\",\"Pave\",\"Pave\",\"Pave\",\"Pave\",\"Pave\",\"Pave\",\"Pave\",\"Pave\",\"Pave\",\"Pave\",\"Pave\",\"Pave\",\"Pave\",\"Pave\",\"Pave\",\"Pave\",\"Pave\",\"Pave\",\"Pave\",\"Pave\",\"Pave\",\"Pave\",\"Pave\",\"Pave\",\"Pave\",\"Pave\",\"Pave\",\"Pave\",\"Pave\",\"Pave\",\"Pave\",\"Pave\",\"Pave\",\"Pave\",\"Pave\",\"Pave\",\"Pave\",\"Pave\",\"Pave\",\"Pave\",\"Pave\",\"Pave\",\"Pave\",\"Pave\",\"Pave\",\"Pave\",\"Pave\",\"Pave\",\"Pave\",\"Pave\",\"Pave\",\"Pave\",\"Pave\",\"Pave\",\"Pave\",\"Pave\",\"Pave\",\"Pave\",\"Pave\",\"Pave\",\"Pave\",\"Pave\",\"Pave\",\"Pave\",\"Pave\",\"Pave\",\"Pave\",\"Pave\",\"Pave\",\"Pave\",\"Pave\",\"Pave\",\"Pave\",\"Pave\",\"Pave\",\"Pave\",\"Pave\",\"Pave\",\"Pave\",\"Pave\",\"Pave\",\"Pave\",\"Pave\",\"Pave\",\"Pave\",\"Pave\",\"Pave\",\"Pave\",\"Pave\",\"Pave\",\"Pave\",\"Pave\",\"Pave\",\"Pave\",\"Pave\",\"Pave\",\"Pave\",\"Pave\",\"Pave\",\"Pave\",\"Pave\",\"Pave\",\"Pave\",\"Pave\",\"Pave\",\"Pave\",\"Pave\",\"Pave\",\"Pave\",\"Pave\",\"Pave\",\"Pave\",\"Pave\",\"Pave\",\"Pave\",\"Pave\",\"Pave\",\"Pave\",\"Pave\",\"Pave\",\"Pave\",\"Pave\",\"Pave\",\"Pave\",\"Pave\",\"Pave\",\"Pave\",\"Pave\",\"Pave\",\"Pave\",\"Pave\",\"Pave\",\"Pave\",\"Pave\",\"Pave\",\"Pave\",\"Pave\",\"Pave\",\"Pave\",\"Pave\",\"Pave\",\"Pave\",\"Pave\",\"Pave\",\"Pave\",\"Pave\",\"Pave\",\"Pave\",\"Pave\",\"Pave\",\"Pave\",\"Pave\",\"Pave\",\"Pave\",\"Pave\",\"Pave\",\"Pave\",\"Pave\",\"Pave\",\"Pave\",\"Pave\",\"Pave\",\"Pave\",\"Pave\",\"Pave\",\"Pave\",\"Pave\",\"Pave\",\"Pave\",\"Pave\",\"Pave\",\"Pave\",\"Pave\",\"Pave\",\"Pave\",\"Pave\",\"Pave\",\"Pave\",\"Pave\",\"Pave\",\"Pave\",\"Pave\",\"Pave\",\"Pave\",\"Pave\",\"Pave\",\"Pave\",\"Pave\",\"Pave\",\"Pave\",\"Pave\",\"Pave\",\"Pave\",\"Pave\",\"Pave\",\"Pave\",\"Pave\",\"Pave\",\"Pave\",\"Pave\",\"Pave\",\"Pave\",\"Pave\",\"Pave\",\"Pave\",\"Pave\",\"Pave\",\"Pave\",\"Pave\",\"Pave\",\"Pave\",\"Pave\",\"Pave\",\"Pave\",\"Pave\",\"Pave\",\"Pave\",\"Pave\",\"Pave\",\"Pave\",\"Pave\",\"Pave\",\"Pave\",\"Pave\",\"Pave\",\"Pave\",\"Pave\",\"Pave\",\"Pave\",\"Pave\",\"Pave\",\"Pave\",\"Pave\",\"Pave\",\"Pave\",\"Pave\",\"Pave\",\"Pave\",\"Pave\",\"Pave\",\"Pave\",\"Pave\",\"Pave\",\"Pave\",\"Pave\",\"Pave\",\"Pave\",\"Pave\",\"Pave\",\"Pave\",\"Pave\",\"Pave\",\"Pave\",\"Pave\",\"Pave\",\"Pave\",\"Pave\",\"Pave\",\"Pave\",\"Pave\",\"Pave\",\"Pave\",\"Pave\",\"Pave\",\"Pave\",\"Pave\",\"Pave\",\"Pave\",\"Pave\",\"Pave\",\"Pave\",\"Pave\",\"Pave\",\"Pave\",\"Pave\",\"Pave\",\"Pave\",\"Pave\",\"Pave\",\"Pave\",\"Pave\",\"Pave\",\"Pave\",\"Pave\",\"Pave\",\"Pave\",\"Pave\",\"Pave\",\"Pave\",\"Pave\",\"Pave\",\"Pave\",\"Pave\",\"Pave\",\"Pave\",\"Pave\",\"Pave\",\"Pave\",\"Pave\",\"Pave\",\"Pave\",\"Pave\",\"Pave\",\"Pave\",\"Pave\",\"Pave\",\"Pave\",\"Pave\",\"Pave\",\"Pave\",\"Pave\",\"Pave\",\"Pave\",\"Pave\",\"Pave\",\"Pave\",\"Pave\",\"Pave\",\"Pave\",\"Pave\",\"Pave\",\"Pave\",\"Pave\",\"Pave\",\"Pave\",\"Pave\",\"Pave\",\"Pave\",\"Pave\",\"Pave\",\"Pave\",\"Pave\",\"Pave\",\"Pave\",\"Pave\",\"Pave\",\"Pave\",\"Pave\",\"Pave\",\"Pave\",\"Pave\",\"Pave\",\"Pave\",\"Pave\",\"Pave\",\"Pave\",\"Pave\",\"Pave\",\"Pave\",\"Pave\",\"Pave\",\"Pave\",\"Pave\",\"Pave\",\"Pave\",\"Pave\",\"Pave\",\"Pave\",\"Pave\",\"Pave\",\"Pave\",\"Pave\",\"Pave\",\"Pave\",\"Pave\",\"Pave\",\"Pave\",\"Pave\",\"Pave\",\"Pave\",\"Pave\",\"Pave\",\"Pave\",\"Pave\",\"Pave\",\"Pave\",\"Pave\",\"Pave\",\"Pave\",\"Pave\",\"Pave\",\"Pave\",\"Pave\",\"Pave\",\"Pave\",\"Pave\",\"Pave\",\"Pave\",\"Pave\",\"Pave\",\"Pave\",\"Pave\",\"Pave\",\"Grvl\",\"Pave\",\"Pave\",\"Pave\",\"Pave\",\"Pave\",\"Pave\",\"Pave\",\"Pave\",\"Pave\",\"Pave\",\"Pave\",\"Pave\",\"Pave\",\"Pave\",\"Pave\",\"Pave\",\"Pave\",\"Pave\",\"Pave\",\"Pave\",\"Pave\",\"Pave\",\"Pave\",\"Pave\",\"Pave\",\"Pave\",\"Pave\",\"Pave\",\"Pave\",\"Pave\",\"Pave\",\"Pave\",\"Pave\",\"Pave\",\"Pave\",\"Pave\",\"Pave\",\"Pave\",\"Pave\",\"Pave\",\"Pave\",\"Pave\",\"Pave\",\"Pave\",\"Pave\",\"Pave\",\"Pave\",\"Pave\",\"Pave\",\"Pave\",\"Pave\",\"Pave\",\"Pave\",\"Pave\",\"Pave\",\"Pave\",\"Pave\",\"Pave\",\"Pave\",\"Pave\",\"Pave\",\"Pave\",\"Pave\",\"Pave\",\"Pave\",\"Pave\",\"Pave\",\"Pave\",\"Pave\",\"Pave\",\"Pave\",\"Pave\",\"Pave\",\"Pave\",\"Pave\",\"Pave\",\"Pave\",\"Pave\",\"Pave\",\"Pave\",\"Pave\",\"Pave\",\"Pave\",\"Pave\",\"Pave\",\"Pave\",\"Pave\",\"Pave\",\"Pave\",\"Pave\",\"Pave\",\"Pave\",\"Pave\",\"Pave\",\"Pave\",\"Pave\",\"Pave\",\"Pave\",\"Pave\",\"Pave\",\"Pave\",\"Pave\",\"Pave\",\"Pave\",\"Pave\",\"Pave\",\"Pave\",\"Pave\",\"Pave\",\"Pave\",\"Pave\",\"Pave\",\"Pave\",\"Pave\",\"Pave\",\"Pave\",\"Pave\",\"Pave\",\"Pave\",\"Pave\",\"Pave\",\"Pave\",\"Pave\",\"Pave\",\"Pave\",\"Pave\",\"Pave\",\"Pave\",\"Pave\",\"Pave\",\"Pave\",\"Pave\",\"Pave\",\"Pave\",\"Pave\",\"Pave\",\"Pave\",\"Pave\",\"Pave\",\"Pave\",\"Pave\",\"Pave\",\"Pave\",\"Pave\",\"Pave\",\"Pave\",\"Pave\",\"Pave\",\"Pave\",\"Pave\",\"Pave\",\"Pave\",\"Pave\",\"Pave\",\"Pave\",\"Pave\",\"Pave\",\"Pave\",\"Pave\",\"Pave\",\"Pave\",\"Pave\",\"Pave\",\"Pave\",\"Pave\",\"Pave\",\"Pave\",\"Pave\",\"Pave\",\"Pave\",\"Pave\",\"Pave\",\"Pave\",\"Pave\",\"Pave\",\"Pave\",\"Pave\",\"Pave\",\"Pave\",\"Pave\",\"Pave\",\"Pave\",\"Pave\",\"Pave\",\"Pave\",\"Pave\",\"Pave\",\"Pave\",\"Pave\",\"Pave\",\"Pave\",\"Pave\",\"Pave\",\"Pave\",\"Pave\",\"Pave\",\"Pave\",\"Pave\",\"Pave\",\"Pave\",\"Pave\",\"Pave\",\"Pave\",\"Pave\",\"Pave\",\"Pave\",\"Pave\",\"Pave\",\"Pave\",\"Pave\",\"Pave\",\"Pave\",\"Pave\",\"Pave\",\"Pave\",\"Pave\",\"Pave\",\"Pave\",\"Pave\",\"Pave\",\"Pave\",\"Pave\",\"Pave\",\"Pave\",\"Pave\",\"Pave\",\"Grvl\",\"Pave\",\"Pave\",\"Pave\",\"Pave\",\"Pave\",\"Pave\",\"Pave\",\"Pave\",\"Pave\",\"Pave\",\"Pave\",\"Pave\",\"Pave\",\"Pave\",\"Pave\",\"Pave\",\"Pave\",\"Pave\",\"Pave\",\"Pave\",\"Pave\",\"Pave\",\"Pave\",\"Pave\",\"Pave\",\"Pave\",\"Pave\",\"Pave\",\"Pave\",\"Pave\",\"Pave\",\"Pave\",\"Pave\",\"Pave\",\"Pave\",\"Pave\",\"Pave\",\"Pave\",\"Pave\",\"Pave\",\"Pave\",\"Pave\",\"Pave\",\"Pave\",\"Pave\",\"Pave\",\"Pave\",\"Pave\",\"Pave\",\"Pave\",\"Pave\",\"Pave\",\"Pave\",\"Pave\",\"Pave\",\"Pave\",\"Pave\",\"Pave\",\"Pave\",\"Pave\",\"Pave\",\"Pave\",\"Pave\",\"Pave\",\"Pave\",\"Pave\",\"Pave\",\"Pave\",\"Pave\",\"Pave\",\"Pave\",\"Pave\",\"Pave\",\"Pave\",\"Pave\",\"Pave\",\"Pave\",\"Pave\",\"Pave\",\"Pave\",\"Pave\",\"Pave\",\"Pave\",\"Pave\",\"Pave\",\"Pave\",\"Pave\",\"Pave\",\"Pave\",\"Pave\",\"Pave\",\"Pave\",\"Pave\",\"Pave\",\"Pave\",\"Pave\",\"Pave\",\"Pave\",\"Pave\",\"Pave\",\"Pave\",\"Pave\",\"Pave\",\"Pave\",\"Pave\",\"Pave\",\"Pave\",\"Pave\",\"Pave\",\"Pave\",\"Pave\",\"Pave\",\"Pave\",\"Pave\",\"Pave\",\"Pave\",\"Pave\",\"Pave\",\"Pave\",\"Pave\",\"Pave\",\"Pave\",\"Pave\",\"Pave\",\"Pave\",\"Pave\",\"Pave\",\"Pave\",\"Pave\",\"Pave\",\"Pave\",\"Pave\",\"Pave\",\"Pave\",\"Pave\",\"Pave\",\"Pave\",\"Pave\",\"Pave\",\"Pave\",\"Pave\",\"Pave\",\"Pave\",\"Pave\",\"Pave\",\"Pave\",\"Pave\",\"Pave\",\"Pave\",\"Pave\",\"Pave\",\"Pave\",\"Pave\",\"Pave\",\"Pave\",\"Pave\",\"Pave\",\"Pave\",\"Pave\",\"Pave\",\"Pave\",\"Pave\",\"Pave\",\"Pave\",\"Pave\",\"Pave\",\"Pave\",\"Pave\",\"Pave\",\"Pave\",\"Pave\",\"Pave\",\"Pave\",\"Pave\",\"Pave\",\"Pave\",\"Pave\",\"Pave\",\"Pave\",\"Pave\",\"Pave\",\"Pave\",\"Pave\",\"Pave\",\"Pave\",\"Pave\",\"Pave\",\"Pave\",\"Pave\",\"Pave\",\"Pave\",\"Pave\",\"Pave\",\"Pave\",\"Pave\",\"Pave\",\"Pave\",\"Pave\",\"Pave\",\"Pave\",\"Pave\",\"Pave\",\"Pave\",\"Pave\",\"Pave\",\"Pave\",\"Pave\",\"Pave\",\"Pave\",\"Pave\",\"Pave\",\"Pave\",\"Pave\",\"Pave\",\"Pave\",\"Pave\",\"Pave\",\"Pave\",\"Pave\",\"Pave\",\"Pave\",\"Pave\",\"Pave\",\"Pave\",\"Pave\",\"Pave\",\"Pave\",\"Pave\",\"Pave\",\"Pave\",\"Pave\",\"Pave\",\"Pave\",\"Pave\",\"Pave\",\"Pave\",\"Pave\",\"Pave\",\"Pave\",\"Pave\",\"Pave\",\"Pave\",\"Pave\",\"Pave\",\"Pave\",\"Pave\",\"Pave\",\"Grvl\",\"Pave\",\"Pave\",\"Pave\",\"Pave\",\"Pave\",\"Pave\",\"Pave\",\"Pave\",\"Pave\",\"Pave\",\"Pave\",\"Pave\",\"Pave\",\"Pave\",\"Pave\",\"Pave\",\"Pave\",\"Pave\",\"Pave\",\"Pave\",\"Pave\",\"Pave\",\"Pave\",\"Pave\",\"Pave\",\"Pave\",\"Pave\",\"Pave\",\"Pave\",\"Pave\",\"Pave\",\"Pave\",\"Pave\",\"Pave\",\"Pave\",\"Pave\",\"Pave\",\"Pave\",\"Pave\",\"Pave\",\"Pave\",\"Pave\",\"Pave\",\"Pave\",\"Pave\",\"Pave\",\"Pave\",\"Pave\",\"Pave\",\"Pave\",\"Pave\",\"Pave\",\"Pave\",\"Pave\",\"Pave\",\"Pave\",\"Pave\",\"Pave\",\"Pave\",\"Pave\",\"Pave\",\"Pave\",\"Pave\",\"Pave\",\"Pave\",\"Pave\",\"Pave\",\"Pave\",\"Pave\",\"Pave\",\"Pave\",\"Pave\",\"Pave\",\"Pave\",\"Pave\",\"Pave\",\"Pave\",\"Pave\",\"Pave\",\"Pave\",\"Pave\",\"Pave\",\"Pave\",\"Pave\",\"Pave\",\"Pave\",\"Pave\",\"Pave\",\"Pave\",\"Pave\",\"Pave\",\"Pave\",\"Pave\",\"Pave\",\"Pave\",\"Pave\",\"Pave\",\"Pave\",\"Pave\",\"Pave\",\"Pave\",\"Pave\",\"Pave\",\"Pave\",\"Pave\",\"Pave\",\"Pave\",\"Pave\",\"Pave\",\"Pave\",\"Pave\",\"Pave\",\"Pave\",\"Pave\",\"Pave\",\"Pave\",\"Pave\",\"Pave\",\"Pave\",\"Pave\",\"Pave\",\"Pave\",\"Pave\",\"Pave\",\"Pave\",\"Pave\",\"Pave\",\"Pave\",\"Pave\",\"Pave\",\"Pave\",\"Pave\",\"Pave\",\"Pave\",\"Pave\",\"Pave\",\"Pave\",\"Pave\",\"Pave\",\"Pave\",\"Pave\",\"Pave\",\"Pave\",\"Pave\",\"Pave\",\"Pave\",\"Pave\",\"Pave\",\"Pave\",\"Pave\",\"Pave\",\"Pave\",\"Pave\",\"Pave\",\"Pave\",\"Pave\",\"Pave\",\"Pave\",\"Pave\",\"Pave\",\"Pave\",\"Pave\",\"Pave\",\"Pave\",\"Pave\",\"Pave\",\"Pave\",\"Pave\",\"Pave\",\"Pave\",\"Pave\",\"Pave\",\"Pave\",\"Pave\",\"Pave\",\"Pave\",\"Pave\",\"Pave\",\"Pave\",\"Pave\",\"Pave\",\"Pave\",\"Pave\",\"Pave\",\"Pave\",\"Pave\",\"Pave\",\"Pave\",\"Pave\",\"Pave\",\"Pave\",\"Pave\",\"Pave\",\"Pave\",\"Pave\",\"Pave\",\"Pave\",\"Pave\",\"Pave\",\"Pave\",\"Pave\",\"Pave\",\"Pave\",\"Pave\",\"Pave\",\"Pave\",\"Pave\",\"Pave\",\"Pave\",\"Pave\",\"Pave\",\"Pave\",\"Pave\",\"Pave\",\"Pave\",\"Pave\",\"Pave\",\"Pave\",\"Pave\",\"Pave\",\"Pave\",\"Pave\",\"Pave\",\"Pave\",\"Pave\",\"Pave\",\"Pave\",\"Pave\",\"Pave\",\"Pave\",\"Pave\",\"Pave\",\"Pave\",\"Pave\",\"Pave\",\"Pave\",\"Pave\",\"Pave\",\"Pave\",\"Pave\",\"Pave\",\"Pave\",\"Pave\",\"Pave\",\"Pave\",\"Pave\",\"Pave\",\"Pave\",\"Pave\",\"Pave\",\"Pave\",\"Pave\",\"Pave\",\"Pave\",\"Pave\",\"Pave\",\"Pave\",\"Pave\",\"Pave\",\"Pave\",\"Pave\",\"Pave\",\"Pave\",\"Pave\",\"Pave\",\"Pave\",\"Pave\",\"Pave\",\"Pave\",\"Pave\",\"Pave\",\"Pave\",\"Pave\",\"Pave\",\"Pave\",\"Pave\",\"Pave\",\"Pave\",\"Pave\",\"Pave\",\"Pave\",\"Pave\",\"Pave\",\"Pave\",\"Pave\",\"Pave\",\"Pave\",\"Pave\",\"Pave\",\"Pave\",\"Pave\",\"Pave\",\"Pave\",\"Pave\",\"Pave\",\"Pave\",\"Pave\",\"Pave\",\"Pave\",\"Pave\",\"Pave\",\"Pave\",\"Pave\",\"Pave\",\"Pave\",\"Pave\",\"Pave\",\"Pave\",\"Pave\",\"Pave\",\"Pave\",\"Pave\",\"Pave\",\"Pave\",\"Pave\",\"Pave\",\"Pave\",\"Pave\",\"Pave\",\"Pave\",\"Pave\",\"Pave\",\"Pave\",\"Pave\",\"Pave\",\"Pave\",\"Pave\",\"Pave\",\"Pave\",\"Pave\",\"Pave\",\"Pave\",\"Pave\",\"Pave\",\"Pave\",\"Pave\",\"Pave\",\"Pave\",\"Pave\",\"Pave\",\"Pave\",\"Pave\",\"Pave\",\"Pave\",\"Pave\",\"Pave\",\"Pave\",\"Pave\",\"Pave\",\"Pave\",\"Pave\",\"Pave\",\"Pave\",\"Pave\",\"Pave\",\"Pave\",\"Pave\",\"Pave\",\"Pave\",\"Pave\",\"Pave\",\"Pave\",\"Pave\",\"Pave\",\"Pave\",\"Pave\",\"Pave\",\"Pave\",\"Pave\",\"Pave\",\"Pave\",\"Pave\",\"Pave\",\"Pave\",\"Pave\",\"Pave\",\"Pave\",\"Pave\",\"Pave\",\"Pave\",\"Pave\",\"Pave\",\"Pave\",\"Pave\",\"Pave\",\"Pave\",\"Pave\",\"Pave\",\"Pave\",\"Pave\",\"Pave\",\"Pave\"],\"legendgroup\":\"\",\"name\":\"\",\"showlegend\":true,\"type\":\"pie\"}],                        {\"template\":{\"data\":{\"histogram2dcontour\":[{\"type\":\"histogram2dcontour\",\"colorbar\":{\"outlinewidth\":0,\"ticks\":\"\"},\"colorscale\":[[0.0,\"#0d0887\"],[0.1111111111111111,\"#46039f\"],[0.2222222222222222,\"#7201a8\"],[0.3333333333333333,\"#9c179e\"],[0.4444444444444444,\"#bd3786\"],[0.5555555555555556,\"#d8576b\"],[0.6666666666666666,\"#ed7953\"],[0.7777777777777778,\"#fb9f3a\"],[0.8888888888888888,\"#fdca26\"],[1.0,\"#f0f921\"]]}],\"choropleth\":[{\"type\":\"choropleth\",\"colorbar\":{\"outlinewidth\":0,\"ticks\":\"\"}}],\"histogram2d\":[{\"type\":\"histogram2d\",\"colorbar\":{\"outlinewidth\":0,\"ticks\":\"\"},\"colorscale\":[[0.0,\"#0d0887\"],[0.1111111111111111,\"#46039f\"],[0.2222222222222222,\"#7201a8\"],[0.3333333333333333,\"#9c179e\"],[0.4444444444444444,\"#bd3786\"],[0.5555555555555556,\"#d8576b\"],[0.6666666666666666,\"#ed7953\"],[0.7777777777777778,\"#fb9f3a\"],[0.8888888888888888,\"#fdca26\"],[1.0,\"#f0f921\"]]}],\"heatmap\":[{\"type\":\"heatmap\",\"colorbar\":{\"outlinewidth\":0,\"ticks\":\"\"},\"colorscale\":[[0.0,\"#0d0887\"],[0.1111111111111111,\"#46039f\"],[0.2222222222222222,\"#7201a8\"],[0.3333333333333333,\"#9c179e\"],[0.4444444444444444,\"#bd3786\"],[0.5555555555555556,\"#d8576b\"],[0.6666666666666666,\"#ed7953\"],[0.7777777777777778,\"#fb9f3a\"],[0.8888888888888888,\"#fdca26\"],[1.0,\"#f0f921\"]]}],\"heatmapgl\":[{\"type\":\"heatmapgl\",\"colorbar\":{\"outlinewidth\":0,\"ticks\":\"\"},\"colorscale\":[[0.0,\"#0d0887\"],[0.1111111111111111,\"#46039f\"],[0.2222222222222222,\"#7201a8\"],[0.3333333333333333,\"#9c179e\"],[0.4444444444444444,\"#bd3786\"],[0.5555555555555556,\"#d8576b\"],[0.6666666666666666,\"#ed7953\"],[0.7777777777777778,\"#fb9f3a\"],[0.8888888888888888,\"#fdca26\"],[1.0,\"#f0f921\"]]}],\"contourcarpet\":[{\"type\":\"contourcarpet\",\"colorbar\":{\"outlinewidth\":0,\"ticks\":\"\"}}],\"contour\":[{\"type\":\"contour\",\"colorbar\":{\"outlinewidth\":0,\"ticks\":\"\"},\"colorscale\":[[0.0,\"#0d0887\"],[0.1111111111111111,\"#46039f\"],[0.2222222222222222,\"#7201a8\"],[0.3333333333333333,\"#9c179e\"],[0.4444444444444444,\"#bd3786\"],[0.5555555555555556,\"#d8576b\"],[0.6666666666666666,\"#ed7953\"],[0.7777777777777778,\"#fb9f3a\"],[0.8888888888888888,\"#fdca26\"],[1.0,\"#f0f921\"]]}],\"surface\":[{\"type\":\"surface\",\"colorbar\":{\"outlinewidth\":0,\"ticks\":\"\"},\"colorscale\":[[0.0,\"#0d0887\"],[0.1111111111111111,\"#46039f\"],[0.2222222222222222,\"#7201a8\"],[0.3333333333333333,\"#9c179e\"],[0.4444444444444444,\"#bd3786\"],[0.5555555555555556,\"#d8576b\"],[0.6666666666666666,\"#ed7953\"],[0.7777777777777778,\"#fb9f3a\"],[0.8888888888888888,\"#fdca26\"],[1.0,\"#f0f921\"]]}],\"mesh3d\":[{\"type\":\"mesh3d\",\"colorbar\":{\"outlinewidth\":0,\"ticks\":\"\"}}],\"scatter\":[{\"fillpattern\":{\"fillmode\":\"overlay\",\"size\":10,\"solidity\":0.2},\"type\":\"scatter\"}],\"parcoords\":[{\"type\":\"parcoords\",\"line\":{\"colorbar\":{\"outlinewidth\":0,\"ticks\":\"\"}}}],\"scatterpolargl\":[{\"type\":\"scatterpolargl\",\"marker\":{\"colorbar\":{\"outlinewidth\":0,\"ticks\":\"\"}}}],\"bar\":[{\"error_x\":{\"color\":\"#2a3f5f\"},\"error_y\":{\"color\":\"#2a3f5f\"},\"marker\":{\"line\":{\"color\":\"#E5ECF6\",\"width\":0.5},\"pattern\":{\"fillmode\":\"overlay\",\"size\":10,\"solidity\":0.2}},\"type\":\"bar\"}],\"scattergeo\":[{\"type\":\"scattergeo\",\"marker\":{\"colorbar\":{\"outlinewidth\":0,\"ticks\":\"\"}}}],\"scatterpolar\":[{\"type\":\"scatterpolar\",\"marker\":{\"colorbar\":{\"outlinewidth\":0,\"ticks\":\"\"}}}],\"histogram\":[{\"marker\":{\"pattern\":{\"fillmode\":\"overlay\",\"size\":10,\"solidity\":0.2}},\"type\":\"histogram\"}],\"scattergl\":[{\"type\":\"scattergl\",\"marker\":{\"colorbar\":{\"outlinewidth\":0,\"ticks\":\"\"}}}],\"scatter3d\":[{\"type\":\"scatter3d\",\"line\":{\"colorbar\":{\"outlinewidth\":0,\"ticks\":\"\"}},\"marker\":{\"colorbar\":{\"outlinewidth\":0,\"ticks\":\"\"}}}],\"scattermapbox\":[{\"type\":\"scattermapbox\",\"marker\":{\"colorbar\":{\"outlinewidth\":0,\"ticks\":\"\"}}}],\"scatterternary\":[{\"type\":\"scatterternary\",\"marker\":{\"colorbar\":{\"outlinewidth\":0,\"ticks\":\"\"}}}],\"scattercarpet\":[{\"type\":\"scattercarpet\",\"marker\":{\"colorbar\":{\"outlinewidth\":0,\"ticks\":\"\"}}}],\"carpet\":[{\"aaxis\":{\"endlinecolor\":\"#2a3f5f\",\"gridcolor\":\"white\",\"linecolor\":\"white\",\"minorgridcolor\":\"white\",\"startlinecolor\":\"#2a3f5f\"},\"baxis\":{\"endlinecolor\":\"#2a3f5f\",\"gridcolor\":\"white\",\"linecolor\":\"white\",\"minorgridcolor\":\"white\",\"startlinecolor\":\"#2a3f5f\"},\"type\":\"carpet\"}],\"table\":[{\"cells\":{\"fill\":{\"color\":\"#EBF0F8\"},\"line\":{\"color\":\"white\"}},\"header\":{\"fill\":{\"color\":\"#C8D4E3\"},\"line\":{\"color\":\"white\"}},\"type\":\"table\"}],\"barpolar\":[{\"marker\":{\"line\":{\"color\":\"#E5ECF6\",\"width\":0.5},\"pattern\":{\"fillmode\":\"overlay\",\"size\":10,\"solidity\":0.2}},\"type\":\"barpolar\"}],\"pie\":[{\"automargin\":true,\"type\":\"pie\"}]},\"layout\":{\"autotypenumbers\":\"strict\",\"colorway\":[\"#636efa\",\"#EF553B\",\"#00cc96\",\"#ab63fa\",\"#FFA15A\",\"#19d3f3\",\"#FF6692\",\"#B6E880\",\"#FF97FF\",\"#FECB52\"],\"font\":{\"color\":\"#2a3f5f\"},\"hovermode\":\"closest\",\"hoverlabel\":{\"align\":\"left\"},\"paper_bgcolor\":\"white\",\"plot_bgcolor\":\"#E5ECF6\",\"polar\":{\"bgcolor\":\"#E5ECF6\",\"angularaxis\":{\"gridcolor\":\"white\",\"linecolor\":\"white\",\"ticks\":\"\"},\"radialaxis\":{\"gridcolor\":\"white\",\"linecolor\":\"white\",\"ticks\":\"\"}},\"ternary\":{\"bgcolor\":\"#E5ECF6\",\"aaxis\":{\"gridcolor\":\"white\",\"linecolor\":\"white\",\"ticks\":\"\"},\"baxis\":{\"gridcolor\":\"white\",\"linecolor\":\"white\",\"ticks\":\"\"},\"caxis\":{\"gridcolor\":\"white\",\"linecolor\":\"white\",\"ticks\":\"\"}},\"coloraxis\":{\"colorbar\":{\"outlinewidth\":0,\"ticks\":\"\"}},\"colorscale\":{\"sequential\":[[0.0,\"#0d0887\"],[0.1111111111111111,\"#46039f\"],[0.2222222222222222,\"#7201a8\"],[0.3333333333333333,\"#9c179e\"],[0.4444444444444444,\"#bd3786\"],[0.5555555555555556,\"#d8576b\"],[0.6666666666666666,\"#ed7953\"],[0.7777777777777778,\"#fb9f3a\"],[0.8888888888888888,\"#fdca26\"],[1.0,\"#f0f921\"]],\"sequentialminus\":[[0.0,\"#0d0887\"],[0.1111111111111111,\"#46039f\"],[0.2222222222222222,\"#7201a8\"],[0.3333333333333333,\"#9c179e\"],[0.4444444444444444,\"#bd3786\"],[0.5555555555555556,\"#d8576b\"],[0.6666666666666666,\"#ed7953\"],[0.7777777777777778,\"#fb9f3a\"],[0.8888888888888888,\"#fdca26\"],[1.0,\"#f0f921\"]],\"diverging\":[[0,\"#8e0152\"],[0.1,\"#c51b7d\"],[0.2,\"#de77ae\"],[0.3,\"#f1b6da\"],[0.4,\"#fde0ef\"],[0.5,\"#f7f7f7\"],[0.6,\"#e6f5d0\"],[0.7,\"#b8e186\"],[0.8,\"#7fbc41\"],[0.9,\"#4d9221\"],[1,\"#276419\"]]},\"xaxis\":{\"gridcolor\":\"white\",\"linecolor\":\"white\",\"ticks\":\"\",\"title\":{\"standoff\":15},\"zerolinecolor\":\"white\",\"automargin\":true,\"zerolinewidth\":2},\"yaxis\":{\"gridcolor\":\"white\",\"linecolor\":\"white\",\"ticks\":\"\",\"title\":{\"standoff\":15},\"zerolinecolor\":\"white\",\"automargin\":true,\"zerolinewidth\":2},\"scene\":{\"xaxis\":{\"backgroundcolor\":\"#E5ECF6\",\"gridcolor\":\"white\",\"linecolor\":\"white\",\"showbackground\":true,\"ticks\":\"\",\"zerolinecolor\":\"white\",\"gridwidth\":2},\"yaxis\":{\"backgroundcolor\":\"#E5ECF6\",\"gridcolor\":\"white\",\"linecolor\":\"white\",\"showbackground\":true,\"ticks\":\"\",\"zerolinecolor\":\"white\",\"gridwidth\":2},\"zaxis\":{\"backgroundcolor\":\"#E5ECF6\",\"gridcolor\":\"white\",\"linecolor\":\"white\",\"showbackground\":true,\"ticks\":\"\",\"zerolinecolor\":\"white\",\"gridwidth\":2}},\"shapedefaults\":{\"line\":{\"color\":\"#2a3f5f\"}},\"annotationdefaults\":{\"arrowcolor\":\"#2a3f5f\",\"arrowhead\":0,\"arrowwidth\":1},\"geo\":{\"bgcolor\":\"white\",\"landcolor\":\"#E5ECF6\",\"subunitcolor\":\"white\",\"showland\":true,\"showlakes\":true,\"lakecolor\":\"white\"},\"title\":{\"x\":0.05},\"mapbox\":{\"style\":\"light\"}}},\"legend\":{\"tracegroupgap\":0},\"margin\":{\"t\":60}},                        {\"responsive\": true}                    ).then(function(){\n",
              "                            \n",
              "var gd = document.getElementById('d546ee74-6610-4179-95bf-91c4dad7d346');\n",
              "var x = new MutationObserver(function (mutations, observer) {{\n",
              "        var display = window.getComputedStyle(gd).display;\n",
              "        if (!display || display === 'none') {{\n",
              "            console.log([gd, 'removed!']);\n",
              "            Plotly.purge(gd);\n",
              "            observer.disconnect();\n",
              "        }}\n",
              "}});\n",
              "\n",
              "// Listen for the removal of the full notebook cells\n",
              "var notebookContainer = gd.closest('#notebook-container');\n",
              "if (notebookContainer) {{\n",
              "    x.observe(notebookContainer, {childList: true});\n",
              "}}\n",
              "\n",
              "// Listen for the clearing of the current output cell\n",
              "var outputEl = gd.closest('.output');\n",
              "if (outputEl) {{\n",
              "    x.observe(outputEl, {childList: true});\n",
              "}}\n",
              "\n",
              "                        })                };                            </script>        </div>\n",
              "</body>\n",
              "</html>"
            ]
          },
          "metadata": {}
        }
      ]
    },
    {
      "cell_type": "markdown",
      "source": [
        "Transformar as variaveis Categóricas em Numéricas"
      ],
      "metadata": {
        "id": "FUrfAYyoJ2QT"
      }
    },
    {
      "cell_type": "markdown",
      "source": [
        "## Tratando as variáveis (OneHotEncoder)"
      ],
      "metadata": {
        "id": "rpAw6DzGeYmD"
      }
    },
    {
      "cell_type": "code",
      "source": [
        "#Transformando as variáveis categóricas em numéricas para podermos utilizadas no modelo de ML"
      ],
      "metadata": {
        "id": "GPwsQdUfemk-"
      },
      "execution_count": 94,
      "outputs": []
    },
    {
      "cell_type": "code",
      "source": [
        "from sklearn.preprocessing import LabelEncoder , OneHotEncoder"
      ],
      "metadata": {
        "id": "bu0ZyZITP2fC"
      },
      "execution_count": 95,
      "outputs": []
    },
    {
      "cell_type": "code",
      "source": [
        "bdh2 = pd.DataFrame.copy(bdhouse2)"
      ],
      "metadata": {
        "id": "clOcC6-pHQQB"
      },
      "execution_count": 96,
      "outputs": []
    },
    {
      "cell_type": "code",
      "source": [
        "bdh2.head(10)"
      ],
      "metadata": {
        "colab": {
          "base_uri": "https://localhost:8080/",
          "height": 412
        },
        "id": "-mlvqLDHOapx",
        "outputId": "0d863795-db2a-4540-92ee-6358d2ec7835"
      },
      "execution_count": 97,
      "outputs": [
        {
          "output_type": "execute_result",
          "data": {
            "text/plain": [
              "   Id  MSSubClass MSZoning  LotArea Street LotShape LandContour Utilities  \\\n",
              "0   1          60       RL     8450   Pave      Reg         Lvl    AllPub   \n",
              "1   2          20       RL     9600   Pave      Reg         Lvl    AllPub   \n",
              "2   3          60       RL    11250   Pave      IR1         Lvl    AllPub   \n",
              "3   4          70       RL     9550   Pave      IR1         Lvl    AllPub   \n",
              "4   5          60       RL    14260   Pave      IR1         Lvl    AllPub   \n",
              "5   6          50       RL    14115   Pave      IR1         Lvl    AllPub   \n",
              "6   7          20       RL    10084   Pave      Reg         Lvl    AllPub   \n",
              "7   8          60       RL    10382   Pave      IR1         Lvl    AllPub   \n",
              "8   9          50       RM     6120   Pave      Reg         Lvl    AllPub   \n",
              "9  10         190       RL     7420   Pave      Reg         Lvl    AllPub   \n",
              "\n",
              "  LotConfig LandSlope  ... GarageCars GarageArea GarageQual GarageCond  \\\n",
              "0    Inside       Gtl  ...        2.0      548.0         TA         TA   \n",
              "1       FR2       Gtl  ...        2.0      460.0         TA         TA   \n",
              "2    Inside       Gtl  ...        2.0      608.0         TA         TA   \n",
              "3    Corner       Gtl  ...        3.0      642.0         TA         TA   \n",
              "4       FR2       Gtl  ...        3.0      836.0         TA         TA   \n",
              "5    Inside       Gtl  ...        2.0      480.0         TA         TA   \n",
              "6    Inside       Gtl  ...        2.0      636.0         TA         TA   \n",
              "7    Corner       Gtl  ...        2.0      484.0         TA         TA   \n",
              "8    Inside       Gtl  ...        2.0      468.0         Fa         TA   \n",
              "9    Corner       Gtl  ...        1.0      205.0         Gd         TA   \n",
              "\n",
              "  PavedDrive  MoSold  YrSold  SaleType  SaleCondition SalePrice  \n",
              "0          Y       2    2008        WD         Normal    208500  \n",
              "1          Y       5    2007        WD         Normal    181500  \n",
              "2          Y       9    2008        WD         Normal    223500  \n",
              "3          Y       2    2006        WD        Abnorml    140000  \n",
              "4          Y      12    2008        WD         Normal    250000  \n",
              "5          Y      10    2009        WD         Normal    143000  \n",
              "6          Y       8    2007        WD         Normal    307000  \n",
              "7          Y      11    2009        WD         Normal    200000  \n",
              "8          Y       4    2008        WD        Abnorml    129900  \n",
              "9          Y       1    2008        WD         Normal    118000  \n",
              "\n",
              "[10 rows x 58 columns]"
            ],
            "text/html": [
              "\n",
              "  <div id=\"df-8c59ba37-00c8-4e68-8e1b-01f89ec93929\" class=\"colab-df-container\">\n",
              "    <div>\n",
              "<style scoped>\n",
              "    .dataframe tbody tr th:only-of-type {\n",
              "        vertical-align: middle;\n",
              "    }\n",
              "\n",
              "    .dataframe tbody tr th {\n",
              "        vertical-align: top;\n",
              "    }\n",
              "\n",
              "    .dataframe thead th {\n",
              "        text-align: right;\n",
              "    }\n",
              "</style>\n",
              "<table border=\"1\" class=\"dataframe\">\n",
              "  <thead>\n",
              "    <tr style=\"text-align: right;\">\n",
              "      <th></th>\n",
              "      <th>Id</th>\n",
              "      <th>MSSubClass</th>\n",
              "      <th>MSZoning</th>\n",
              "      <th>LotArea</th>\n",
              "      <th>Street</th>\n",
              "      <th>LotShape</th>\n",
              "      <th>LandContour</th>\n",
              "      <th>Utilities</th>\n",
              "      <th>LotConfig</th>\n",
              "      <th>LandSlope</th>\n",
              "      <th>...</th>\n",
              "      <th>GarageCars</th>\n",
              "      <th>GarageArea</th>\n",
              "      <th>GarageQual</th>\n",
              "      <th>GarageCond</th>\n",
              "      <th>PavedDrive</th>\n",
              "      <th>MoSold</th>\n",
              "      <th>YrSold</th>\n",
              "      <th>SaleType</th>\n",
              "      <th>SaleCondition</th>\n",
              "      <th>SalePrice</th>\n",
              "    </tr>\n",
              "  </thead>\n",
              "  <tbody>\n",
              "    <tr>\n",
              "      <th>0</th>\n",
              "      <td>1</td>\n",
              "      <td>60</td>\n",
              "      <td>RL</td>\n",
              "      <td>8450</td>\n",
              "      <td>Pave</td>\n",
              "      <td>Reg</td>\n",
              "      <td>Lvl</td>\n",
              "      <td>AllPub</td>\n",
              "      <td>Inside</td>\n",
              "      <td>Gtl</td>\n",
              "      <td>...</td>\n",
              "      <td>2.0</td>\n",
              "      <td>548.0</td>\n",
              "      <td>TA</td>\n",
              "      <td>TA</td>\n",
              "      <td>Y</td>\n",
              "      <td>2</td>\n",
              "      <td>2008</td>\n",
              "      <td>WD</td>\n",
              "      <td>Normal</td>\n",
              "      <td>208500</td>\n",
              "    </tr>\n",
              "    <tr>\n",
              "      <th>1</th>\n",
              "      <td>2</td>\n",
              "      <td>20</td>\n",
              "      <td>RL</td>\n",
              "      <td>9600</td>\n",
              "      <td>Pave</td>\n",
              "      <td>Reg</td>\n",
              "      <td>Lvl</td>\n",
              "      <td>AllPub</td>\n",
              "      <td>FR2</td>\n",
              "      <td>Gtl</td>\n",
              "      <td>...</td>\n",
              "      <td>2.0</td>\n",
              "      <td>460.0</td>\n",
              "      <td>TA</td>\n",
              "      <td>TA</td>\n",
              "      <td>Y</td>\n",
              "      <td>5</td>\n",
              "      <td>2007</td>\n",
              "      <td>WD</td>\n",
              "      <td>Normal</td>\n",
              "      <td>181500</td>\n",
              "    </tr>\n",
              "    <tr>\n",
              "      <th>2</th>\n",
              "      <td>3</td>\n",
              "      <td>60</td>\n",
              "      <td>RL</td>\n",
              "      <td>11250</td>\n",
              "      <td>Pave</td>\n",
              "      <td>IR1</td>\n",
              "      <td>Lvl</td>\n",
              "      <td>AllPub</td>\n",
              "      <td>Inside</td>\n",
              "      <td>Gtl</td>\n",
              "      <td>...</td>\n",
              "      <td>2.0</td>\n",
              "      <td>608.0</td>\n",
              "      <td>TA</td>\n",
              "      <td>TA</td>\n",
              "      <td>Y</td>\n",
              "      <td>9</td>\n",
              "      <td>2008</td>\n",
              "      <td>WD</td>\n",
              "      <td>Normal</td>\n",
              "      <td>223500</td>\n",
              "    </tr>\n",
              "    <tr>\n",
              "      <th>3</th>\n",
              "      <td>4</td>\n",
              "      <td>70</td>\n",
              "      <td>RL</td>\n",
              "      <td>9550</td>\n",
              "      <td>Pave</td>\n",
              "      <td>IR1</td>\n",
              "      <td>Lvl</td>\n",
              "      <td>AllPub</td>\n",
              "      <td>Corner</td>\n",
              "      <td>Gtl</td>\n",
              "      <td>...</td>\n",
              "      <td>3.0</td>\n",
              "      <td>642.0</td>\n",
              "      <td>TA</td>\n",
              "      <td>TA</td>\n",
              "      <td>Y</td>\n",
              "      <td>2</td>\n",
              "      <td>2006</td>\n",
              "      <td>WD</td>\n",
              "      <td>Abnorml</td>\n",
              "      <td>140000</td>\n",
              "    </tr>\n",
              "    <tr>\n",
              "      <th>4</th>\n",
              "      <td>5</td>\n",
              "      <td>60</td>\n",
              "      <td>RL</td>\n",
              "      <td>14260</td>\n",
              "      <td>Pave</td>\n",
              "      <td>IR1</td>\n",
              "      <td>Lvl</td>\n",
              "      <td>AllPub</td>\n",
              "      <td>FR2</td>\n",
              "      <td>Gtl</td>\n",
              "      <td>...</td>\n",
              "      <td>3.0</td>\n",
              "      <td>836.0</td>\n",
              "      <td>TA</td>\n",
              "      <td>TA</td>\n",
              "      <td>Y</td>\n",
              "      <td>12</td>\n",
              "      <td>2008</td>\n",
              "      <td>WD</td>\n",
              "      <td>Normal</td>\n",
              "      <td>250000</td>\n",
              "    </tr>\n",
              "    <tr>\n",
              "      <th>5</th>\n",
              "      <td>6</td>\n",
              "      <td>50</td>\n",
              "      <td>RL</td>\n",
              "      <td>14115</td>\n",
              "      <td>Pave</td>\n",
              "      <td>IR1</td>\n",
              "      <td>Lvl</td>\n",
              "      <td>AllPub</td>\n",
              "      <td>Inside</td>\n",
              "      <td>Gtl</td>\n",
              "      <td>...</td>\n",
              "      <td>2.0</td>\n",
              "      <td>480.0</td>\n",
              "      <td>TA</td>\n",
              "      <td>TA</td>\n",
              "      <td>Y</td>\n",
              "      <td>10</td>\n",
              "      <td>2009</td>\n",
              "      <td>WD</td>\n",
              "      <td>Normal</td>\n",
              "      <td>143000</td>\n",
              "    </tr>\n",
              "    <tr>\n",
              "      <th>6</th>\n",
              "      <td>7</td>\n",
              "      <td>20</td>\n",
              "      <td>RL</td>\n",
              "      <td>10084</td>\n",
              "      <td>Pave</td>\n",
              "      <td>Reg</td>\n",
              "      <td>Lvl</td>\n",
              "      <td>AllPub</td>\n",
              "      <td>Inside</td>\n",
              "      <td>Gtl</td>\n",
              "      <td>...</td>\n",
              "      <td>2.0</td>\n",
              "      <td>636.0</td>\n",
              "      <td>TA</td>\n",
              "      <td>TA</td>\n",
              "      <td>Y</td>\n",
              "      <td>8</td>\n",
              "      <td>2007</td>\n",
              "      <td>WD</td>\n",
              "      <td>Normal</td>\n",
              "      <td>307000</td>\n",
              "    </tr>\n",
              "    <tr>\n",
              "      <th>7</th>\n",
              "      <td>8</td>\n",
              "      <td>60</td>\n",
              "      <td>RL</td>\n",
              "      <td>10382</td>\n",
              "      <td>Pave</td>\n",
              "      <td>IR1</td>\n",
              "      <td>Lvl</td>\n",
              "      <td>AllPub</td>\n",
              "      <td>Corner</td>\n",
              "      <td>Gtl</td>\n",
              "      <td>...</td>\n",
              "      <td>2.0</td>\n",
              "      <td>484.0</td>\n",
              "      <td>TA</td>\n",
              "      <td>TA</td>\n",
              "      <td>Y</td>\n",
              "      <td>11</td>\n",
              "      <td>2009</td>\n",
              "      <td>WD</td>\n",
              "      <td>Normal</td>\n",
              "      <td>200000</td>\n",
              "    </tr>\n",
              "    <tr>\n",
              "      <th>8</th>\n",
              "      <td>9</td>\n",
              "      <td>50</td>\n",
              "      <td>RM</td>\n",
              "      <td>6120</td>\n",
              "      <td>Pave</td>\n",
              "      <td>Reg</td>\n",
              "      <td>Lvl</td>\n",
              "      <td>AllPub</td>\n",
              "      <td>Inside</td>\n",
              "      <td>Gtl</td>\n",
              "      <td>...</td>\n",
              "      <td>2.0</td>\n",
              "      <td>468.0</td>\n",
              "      <td>Fa</td>\n",
              "      <td>TA</td>\n",
              "      <td>Y</td>\n",
              "      <td>4</td>\n",
              "      <td>2008</td>\n",
              "      <td>WD</td>\n",
              "      <td>Abnorml</td>\n",
              "      <td>129900</td>\n",
              "    </tr>\n",
              "    <tr>\n",
              "      <th>9</th>\n",
              "      <td>10</td>\n",
              "      <td>190</td>\n",
              "      <td>RL</td>\n",
              "      <td>7420</td>\n",
              "      <td>Pave</td>\n",
              "      <td>Reg</td>\n",
              "      <td>Lvl</td>\n",
              "      <td>AllPub</td>\n",
              "      <td>Corner</td>\n",
              "      <td>Gtl</td>\n",
              "      <td>...</td>\n",
              "      <td>1.0</td>\n",
              "      <td>205.0</td>\n",
              "      <td>Gd</td>\n",
              "      <td>TA</td>\n",
              "      <td>Y</td>\n",
              "      <td>1</td>\n",
              "      <td>2008</td>\n",
              "      <td>WD</td>\n",
              "      <td>Normal</td>\n",
              "      <td>118000</td>\n",
              "    </tr>\n",
              "  </tbody>\n",
              "</table>\n",
              "<p>10 rows × 58 columns</p>\n",
              "</div>\n",
              "    <div class=\"colab-df-buttons\">\n",
              "\n",
              "  <div class=\"colab-df-container\">\n",
              "    <button class=\"colab-df-convert\" onclick=\"convertToInteractive('df-8c59ba37-00c8-4e68-8e1b-01f89ec93929')\"\n",
              "            title=\"Convert this dataframe to an interactive table.\"\n",
              "            style=\"display:none;\">\n",
              "\n",
              "  <svg xmlns=\"http://www.w3.org/2000/svg\" height=\"24px\" viewBox=\"0 -960 960 960\">\n",
              "    <path d=\"M120-120v-720h720v720H120Zm60-500h600v-160H180v160Zm220 220h160v-160H400v160Zm0 220h160v-160H400v160ZM180-400h160v-160H180v160Zm440 0h160v-160H620v160ZM180-180h160v-160H180v160Zm440 0h160v-160H620v160Z\"/>\n",
              "  </svg>\n",
              "    </button>\n",
              "\n",
              "  <style>\n",
              "    .colab-df-container {\n",
              "      display:flex;\n",
              "      gap: 12px;\n",
              "    }\n",
              "\n",
              "    .colab-df-convert {\n",
              "      background-color: #E8F0FE;\n",
              "      border: none;\n",
              "      border-radius: 50%;\n",
              "      cursor: pointer;\n",
              "      display: none;\n",
              "      fill: #1967D2;\n",
              "      height: 32px;\n",
              "      padding: 0 0 0 0;\n",
              "      width: 32px;\n",
              "    }\n",
              "\n",
              "    .colab-df-convert:hover {\n",
              "      background-color: #E2EBFA;\n",
              "      box-shadow: 0px 1px 2px rgba(60, 64, 67, 0.3), 0px 1px 3px 1px rgba(60, 64, 67, 0.15);\n",
              "      fill: #174EA6;\n",
              "    }\n",
              "\n",
              "    .colab-df-buttons div {\n",
              "      margin-bottom: 4px;\n",
              "    }\n",
              "\n",
              "    [theme=dark] .colab-df-convert {\n",
              "      background-color: #3B4455;\n",
              "      fill: #D2E3FC;\n",
              "    }\n",
              "\n",
              "    [theme=dark] .colab-df-convert:hover {\n",
              "      background-color: #434B5C;\n",
              "      box-shadow: 0px 1px 3px 1px rgba(0, 0, 0, 0.15);\n",
              "      filter: drop-shadow(0px 1px 2px rgba(0, 0, 0, 0.3));\n",
              "      fill: #FFFFFF;\n",
              "    }\n",
              "  </style>\n",
              "\n",
              "    <script>\n",
              "      const buttonEl =\n",
              "        document.querySelector('#df-8c59ba37-00c8-4e68-8e1b-01f89ec93929 button.colab-df-convert');\n",
              "      buttonEl.style.display =\n",
              "        google.colab.kernel.accessAllowed ? 'block' : 'none';\n",
              "\n",
              "      async function convertToInteractive(key) {\n",
              "        const element = document.querySelector('#df-8c59ba37-00c8-4e68-8e1b-01f89ec93929');\n",
              "        const dataTable =\n",
              "          await google.colab.kernel.invokeFunction('convertToInteractive',\n",
              "                                                    [key], {});\n",
              "        if (!dataTable) return;\n",
              "\n",
              "        const docLinkHtml = 'Like what you see? Visit the ' +\n",
              "          '<a target=\"_blank\" href=https://colab.research.google.com/notebooks/data_table.ipynb>data table notebook</a>'\n",
              "          + ' to learn more about interactive tables.';\n",
              "        element.innerHTML = '';\n",
              "        dataTable['output_type'] = 'display_data';\n",
              "        await google.colab.output.renderOutput(dataTable, element);\n",
              "        const docLink = document.createElement('div');\n",
              "        docLink.innerHTML = docLinkHtml;\n",
              "        element.appendChild(docLink);\n",
              "      }\n",
              "    </script>\n",
              "  </div>\n",
              "\n",
              "\n",
              "<div id=\"df-9bd5e8a8-7fe0-4ef0-97bc-037b6b5ec0da\">\n",
              "  <button class=\"colab-df-quickchart\" onclick=\"quickchart('df-9bd5e8a8-7fe0-4ef0-97bc-037b6b5ec0da')\"\n",
              "            title=\"Suggest charts\"\n",
              "            style=\"display:none;\">\n",
              "\n",
              "<svg xmlns=\"http://www.w3.org/2000/svg\" height=\"24px\"viewBox=\"0 0 24 24\"\n",
              "     width=\"24px\">\n",
              "    <g>\n",
              "        <path d=\"M19 3H5c-1.1 0-2 .9-2 2v14c0 1.1.9 2 2 2h14c1.1 0 2-.9 2-2V5c0-1.1-.9-2-2-2zM9 17H7v-7h2v7zm4 0h-2V7h2v10zm4 0h-2v-4h2v4z\"/>\n",
              "    </g>\n",
              "</svg>\n",
              "  </button>\n",
              "\n",
              "<style>\n",
              "  .colab-df-quickchart {\n",
              "      --bg-color: #E8F0FE;\n",
              "      --fill-color: #1967D2;\n",
              "      --hover-bg-color: #E2EBFA;\n",
              "      --hover-fill-color: #174EA6;\n",
              "      --disabled-fill-color: #AAA;\n",
              "      --disabled-bg-color: #DDD;\n",
              "  }\n",
              "\n",
              "  [theme=dark] .colab-df-quickchart {\n",
              "      --bg-color: #3B4455;\n",
              "      --fill-color: #D2E3FC;\n",
              "      --hover-bg-color: #434B5C;\n",
              "      --hover-fill-color: #FFFFFF;\n",
              "      --disabled-bg-color: #3B4455;\n",
              "      --disabled-fill-color: #666;\n",
              "  }\n",
              "\n",
              "  .colab-df-quickchart {\n",
              "    background-color: var(--bg-color);\n",
              "    border: none;\n",
              "    border-radius: 50%;\n",
              "    cursor: pointer;\n",
              "    display: none;\n",
              "    fill: var(--fill-color);\n",
              "    height: 32px;\n",
              "    padding: 0;\n",
              "    width: 32px;\n",
              "  }\n",
              "\n",
              "  .colab-df-quickchart:hover {\n",
              "    background-color: var(--hover-bg-color);\n",
              "    box-shadow: 0 1px 2px rgba(60, 64, 67, 0.3), 0 1px 3px 1px rgba(60, 64, 67, 0.15);\n",
              "    fill: var(--button-hover-fill-color);\n",
              "  }\n",
              "\n",
              "  .colab-df-quickchart-complete:disabled,\n",
              "  .colab-df-quickchart-complete:disabled:hover {\n",
              "    background-color: var(--disabled-bg-color);\n",
              "    fill: var(--disabled-fill-color);\n",
              "    box-shadow: none;\n",
              "  }\n",
              "\n",
              "  .colab-df-spinner {\n",
              "    border: 2px solid var(--fill-color);\n",
              "    border-color: transparent;\n",
              "    border-bottom-color: var(--fill-color);\n",
              "    animation:\n",
              "      spin 1s steps(1) infinite;\n",
              "  }\n",
              "\n",
              "  @keyframes spin {\n",
              "    0% {\n",
              "      border-color: transparent;\n",
              "      border-bottom-color: var(--fill-color);\n",
              "      border-left-color: var(--fill-color);\n",
              "    }\n",
              "    20% {\n",
              "      border-color: transparent;\n",
              "      border-left-color: var(--fill-color);\n",
              "      border-top-color: var(--fill-color);\n",
              "    }\n",
              "    30% {\n",
              "      border-color: transparent;\n",
              "      border-left-color: var(--fill-color);\n",
              "      border-top-color: var(--fill-color);\n",
              "      border-right-color: var(--fill-color);\n",
              "    }\n",
              "    40% {\n",
              "      border-color: transparent;\n",
              "      border-right-color: var(--fill-color);\n",
              "      border-top-color: var(--fill-color);\n",
              "    }\n",
              "    60% {\n",
              "      border-color: transparent;\n",
              "      border-right-color: var(--fill-color);\n",
              "    }\n",
              "    80% {\n",
              "      border-color: transparent;\n",
              "      border-right-color: var(--fill-color);\n",
              "      border-bottom-color: var(--fill-color);\n",
              "    }\n",
              "    90% {\n",
              "      border-color: transparent;\n",
              "      border-bottom-color: var(--fill-color);\n",
              "    }\n",
              "  }\n",
              "</style>\n",
              "\n",
              "  <script>\n",
              "    async function quickchart(key) {\n",
              "      const quickchartButtonEl =\n",
              "        document.querySelector('#' + key + ' button');\n",
              "      quickchartButtonEl.disabled = true;  // To prevent multiple clicks.\n",
              "      quickchartButtonEl.classList.add('colab-df-spinner');\n",
              "      try {\n",
              "        const charts = await google.colab.kernel.invokeFunction(\n",
              "            'suggestCharts', [key], {});\n",
              "      } catch (error) {\n",
              "        console.error('Error during call to suggestCharts:', error);\n",
              "      }\n",
              "      quickchartButtonEl.classList.remove('colab-df-spinner');\n",
              "      quickchartButtonEl.classList.add('colab-df-quickchart-complete');\n",
              "    }\n",
              "    (() => {\n",
              "      let quickchartButtonEl =\n",
              "        document.querySelector('#df-9bd5e8a8-7fe0-4ef0-97bc-037b6b5ec0da button');\n",
              "      quickchartButtonEl.style.display =\n",
              "        google.colab.kernel.accessAllowed ? 'block' : 'none';\n",
              "    })();\n",
              "  </script>\n",
              "</div>\n",
              "\n",
              "    </div>\n",
              "  </div>\n"
            ],
            "application/vnd.google.colaboratory.intrinsic+json": {
              "type": "dataframe",
              "variable_name": "bdh2"
            }
          },
          "metadata": {},
          "execution_count": 97
        }
      ]
    },
    {
      "cell_type": "code",
      "source": [
        "previsores = bdh2.iloc[:,0:]"
      ],
      "metadata": {
        "id": "MwQOl4amHQTH"
      },
      "execution_count": 98,
      "outputs": []
    },
    {
      "cell_type": "code",
      "source": [
        "previsores = bdh2.drop('SalePrice',axis=1)\n",
        "previsores = previsores.drop('Id',axis=1)\n",
        "previsores = previsores.drop('ExterQual',axis=1)\n",
        "previsores = previsores.drop('BsmtCond',axis=1)\n",
        "previsores = previsores.drop('BsmtExposure',axis=1)\n",
        "previsores = previsores.drop('BsmtFinType1',axis=1)\n",
        "previsores = previsores.drop('BsmtFinType2',axis=1)\n",
        "previsores = previsores.drop('Electrical',axis=1)\n",
        "previsores = previsores.drop('GarageType',axis=1)\n",
        "previsores = previsores.drop('GarageFinish',axis=1)\n",
        "previsores = previsores.drop('GarageQual',axis=1)\n",
        "previsores = previsores.drop('GarageCond',axis=1)\n",
        "previsores = previsores.drop('PavedDrive',axis=1)\n",
        "previsores = previsores.drop('BsmtQual',axis=1)\n",
        "\n",
        "previsores = previsores.drop('MasVnrType',axis=1).values\n",
        "alvo = bdh2.SalePrice.values"
      ],
      "metadata": {
        "id": "qosl-KZPHQWH"
      },
      "execution_count": 99,
      "outputs": []
    },
    {
      "cell_type": "code",
      "source": [
        "previsores"
      ],
      "metadata": {
        "colab": {
          "base_uri": "https://localhost:8080/"
        },
        "id": "FaULMA6vHQZo",
        "outputId": "4bf6cd9a-5da5-4ba9-e5cf-7a24c15fbfd8"
      },
      "execution_count": 100,
      "outputs": [
        {
          "output_type": "execute_result",
          "data": {
            "text/plain": [
              "array([[60, 'RL', 8450, ..., 2008, 'WD', 'Normal'],\n",
              "       [20, 'RL', 9600, ..., 2007, 'WD', 'Normal'],\n",
              "       [60, 'RL', 11250, ..., 2008, 'WD', 'Normal'],\n",
              "       ...,\n",
              "       [70, 'RL', 9042, ..., 2010, 'WD', 'Normal'],\n",
              "       [20, 'RL', 9717, ..., 2010, 'WD', 'Normal'],\n",
              "       [20, 'RL', 9937, ..., 2008, 'WD', 'Normal']], dtype=object)"
            ]
          },
          "metadata": {},
          "execution_count": 100
        }
      ]
    },
    {
      "cell_type": "code",
      "source": [
        "print(previsores[:10])"
      ],
      "metadata": {
        "colab": {
          "base_uri": "https://localhost:8080/"
        },
        "id": "AtaCWaOSdcQE",
        "outputId": "71df7258-1175-49e4-f935-22d6d1f996cb"
      },
      "execution_count": 101,
      "outputs": [
        {
          "output_type": "stream",
          "name": "stdout",
          "text": [
            "[[60 'RL' 8450 'Pave' 'Reg' 'Lvl' 'AllPub' 'Inside' 'Gtl' 'CollgCr'\n",
            "  'Norm' 'Norm' '1Fam' '2Story' 7 5 2003 2003 'Gable' 'CompShg' 'VinylSd'\n",
            "  'VinylSd' 'TA' 'PConc' 856.0 'GasA' 'Ex' 'Y' 856 1710 2.0 3.0 1.0 'Gd'\n",
            "  8 'Typ' 2003.0 2.0 548.0 2 2008 'WD' 'Normal']\n",
            " [20 'RL' 9600 'Pave' 'Reg' 'Lvl' 'AllPub' 'FR2' 'Gtl' 'Veenker' 'Feedr'\n",
            "  'Norm' '1Fam' '1Story' 6 8 1976 1976 'Gable' 'CompShg' 'MetalSd'\n",
            "  'MetalSd' 'TA' 'CBlock' 1262.0 'GasA' 'Ex' 'Y' 1262 1262 2.0 3.0 1.0\n",
            "  'TA' 6 'Typ' 1976.0 2.0 460.0 5 2007 'WD' 'Normal']\n",
            " [60 'RL' 11250 'Pave' 'IR1' 'Lvl' 'AllPub' 'Inside' 'Gtl' 'CollgCr'\n",
            "  'Norm' 'Norm' '1Fam' '2Story' 7 5 2001 2002 'Gable' 'CompShg' 'VinylSd'\n",
            "  'VinylSd' 'TA' 'PConc' 920.0 'GasA' 'Ex' 'Y' 920 1786 2.0 3.0 1.0 'Gd'\n",
            "  6 'Typ' 2001.0 2.0 608.0 9 2008 'WD' 'Normal']\n",
            " [70 'RL' 9550 'Pave' 'IR1' 'Lvl' 'AllPub' 'Corner' 'Gtl' 'Crawfor'\n",
            "  'Norm' 'Norm' '1Fam' '2Story' 7 5 1915 1970 'Gable' 'CompShg' 'Wd Sdng'\n",
            "  'Wd Shng' 'TA' 'BrkTil' 756.0 'GasA' 'Gd' 'Y' 961 1717 1.0 3.0 1.0 'Gd'\n",
            "  7 'Typ' 1998.0 3.0 642.0 2 2006 'WD' 'Abnorml']\n",
            " [60 'RL' 14260 'Pave' 'IR1' 'Lvl' 'AllPub' 'FR2' 'Gtl' 'NoRidge' 'Norm'\n",
            "  'Norm' '1Fam' '2Story' 8 5 2000 2000 'Gable' 'CompShg' 'VinylSd'\n",
            "  'VinylSd' 'TA' 'PConc' 1145.0 'GasA' 'Ex' 'Y' 1145 2198 2.0 4.0 1.0\n",
            "  'Gd' 9 'Typ' 2000.0 3.0 836.0 12 2008 'WD' 'Normal']\n",
            " [50 'RL' 14115 'Pave' 'IR1' 'Lvl' 'AllPub' 'Inside' 'Gtl' 'Mitchel'\n",
            "  'Norm' 'Norm' '1Fam' '1.5Fin' 5 5 1993 1995 'Gable' 'CompShg' 'VinylSd'\n",
            "  'VinylSd' 'TA' 'Wood' 796.0 'GasA' 'Ex' 'Y' 796 1362 1.0 1.0 1.0 'TA' 5\n",
            "  'Typ' 1993.0 2.0 480.0 10 2009 'WD' 'Normal']\n",
            " [20 'RL' 10084 'Pave' 'Reg' 'Lvl' 'AllPub' 'Inside' 'Gtl' 'Somerst'\n",
            "  'Norm' 'Norm' '1Fam' '1Story' 8 5 2004 2005 'Gable' 'CompShg' 'VinylSd'\n",
            "  'VinylSd' 'TA' 'PConc' 1686.0 'GasA' 'Ex' 'Y' 1694 1694 2.0 3.0 1.0\n",
            "  'Gd' 7 'Typ' 2004.0 2.0 636.0 8 2007 'WD' 'Normal']\n",
            " [60 'RL' 10382 'Pave' 'IR1' 'Lvl' 'AllPub' 'Corner' 'Gtl' 'NWAmes'\n",
            "  'PosN' 'Norm' '1Fam' '2Story' 7 6 1973 1973 'Gable' 'CompShg' 'HdBoard'\n",
            "  'HdBoard' 'TA' 'CBlock' 1107.0 'GasA' 'Ex' 'Y' 1107 2090 2.0 3.0 1.0\n",
            "  'TA' 7 'Typ' 1973.0 2.0 484.0 11 2009 'WD' 'Normal']\n",
            " [50 'RM' 6120 'Pave' 'Reg' 'Lvl' 'AllPub' 'Inside' 'Gtl' 'OldTown'\n",
            "  'Artery' 'Norm' '1Fam' '1.5Fin' 7 5 1931 1950 'Gable' 'CompShg'\n",
            "  'BrkFace' 'Wd Shng' 'TA' 'BrkTil' 952.0 'GasA' 'Gd' 'Y' 1022 1774 2.0\n",
            "  2.0 2.0 'TA' 8 'Min1' 1931.0 2.0 468.0 4 2008 'WD' 'Abnorml']\n",
            " [190 'RL' 7420 'Pave' 'Reg' 'Lvl' 'AllPub' 'Corner' 'Gtl' 'BrkSide'\n",
            "  'Artery' 'Artery' '2fmCon' '1.5Unf' 5 6 1939 1950 'Gable' 'CompShg'\n",
            "  'MetalSd' 'MetalSd' 'TA' 'BrkTil' 991.0 'GasA' 'Ex' 'Y' 1077 1077 1.0\n",
            "  2.0 2.0 'TA' 5 'Typ' 1939.0 1.0 205.0 1 2008 'WD' 'Normal']]\n"
          ]
        }
      ]
    },
    {
      "cell_type": "code",
      "source": [
        "alvo"
      ],
      "metadata": {
        "colab": {
          "base_uri": "https://localhost:8080/"
        },
        "id": "sINjYVpjHQc0",
        "outputId": "2bc8d65b-751e-4c82-81c1-3a7fd80a57c1"
      },
      "execution_count": 102,
      "outputs": [
        {
          "output_type": "execute_result",
          "data": {
            "text/plain": [
              "array([208500, 181500, 223500, ..., 266500, 142125, 147500])"
            ]
          },
          "metadata": {},
          "execution_count": 102
        }
      ]
    },
    {
      "cell_type": "code",
      "source": [
        "#Convertendo de String para Float\n",
        "previsores[:,1] = LabelEncoder().fit_transform(previsores[:,1])\n",
        "previsores[:,3] = LabelEncoder().fit_transform(previsores[:,3])\n",
        "previsores[:,4] = LabelEncoder().fit_transform(previsores[:,4])\n",
        "previsores[:,5] = LabelEncoder().fit_transform(previsores[:,5])\n",
        "previsores[:,6] = LabelEncoder().fit_transform(previsores[:,6])\n",
        "previsores[:,7] = LabelEncoder().fit_transform(previsores[:,7])\n",
        "previsores[:,8] = LabelEncoder().fit_transform(previsores[:,8])\n",
        "previsores[:,9] = LabelEncoder().fit_transform(previsores[:,9])\n",
        "previsores[:,10] = LabelEncoder().fit_transform(previsores[:,10])\n",
        "previsores[:,11] = LabelEncoder().fit_transform(previsores[:,11])\n",
        "previsores[:,12] = LabelEncoder().fit_transform(previsores[:,12])\n",
        "previsores[:,13] = LabelEncoder().fit_transform(previsores[:,13])\n",
        "previsores[:,18] = LabelEncoder().fit_transform(previsores[:,18])\n",
        "previsores[:,19] = LabelEncoder().fit_transform(previsores[:,19])\n",
        "previsores[:,20] = LabelEncoder().fit_transform(previsores[:,20])\n",
        "previsores[:,21] = LabelEncoder().fit_transform(previsores[:,21])\n",
        "previsores[:,22] = LabelEncoder().fit_transform(previsores[:,22])\n",
        "previsores[:,23] = LabelEncoder().fit_transform(previsores[:,23])\n",
        "previsores[:,25] = LabelEncoder().fit_transform(previsores[:,25])\n",
        "previsores[:,26] = LabelEncoder().fit_transform(previsores[:,26])\n",
        "previsores[:,27] = LabelEncoder().fit_transform(previsores[:,27])\n",
        "previsores[:,33] = LabelEncoder().fit_transform(previsores[:,33])\n",
        "previsores[:,35] = LabelEncoder().fit_transform(previsores[:,35])\n",
        "previsores[:,41] = LabelEncoder().fit_transform(previsores[:,41])\n",
        "previsores[:,42] = LabelEncoder().fit_transform(previsores[:,42])"
      ],
      "metadata": {
        "id": "rNdzocgHP7mD"
      },
      "execution_count": 103,
      "outputs": []
    },
    {
      "cell_type": "code",
      "source": [
        "from sklearn.preprocessing import StandardScaler"
      ],
      "metadata": {
        "id": "JukKOvzqP7pA"
      },
      "execution_count": 104,
      "outputs": []
    },
    {
      "cell_type": "code",
      "source": [
        "previsores_escalononar = StandardScaler().fit_transform(previsores)\n"
      ],
      "metadata": {
        "id": "FlH-yss4P7st"
      },
      "execution_count": 105,
      "outputs": []
    },
    {
      "cell_type": "code",
      "source": [
        "#Criar um teste com as variaveis escalonadas\n",
        "previsores_escalononar"
      ],
      "metadata": {
        "id": "5NxAwarpP7wR",
        "colab": {
          "base_uri": "https://localhost:8080/"
        },
        "outputId": "e0610fc7-bf76-4e88-ce8e-06f82bd4c1d2"
      },
      "execution_count": 106,
      "outputs": [
        {
          "output_type": "execute_result",
          "data": {
            "text/plain": [
              "array([[ 0.07376261, -0.04587964, -0.31059991, ...,  0.13617763,\n",
              "         0.31489893,  0.21051882],\n",
              "       [-0.87754353, -0.04587964, -0.01491682, ..., -0.6169894 ,\n",
              "         0.31489893,  0.21051882],\n",
              "       [ 0.07376261, -0.04587964,  0.40932412, ...,  0.13617763,\n",
              "         0.31489893,  0.21051882],\n",
              "       ...,\n",
              "       [ 0.31158914, -0.04587964, -0.1583874 , ...,  1.64251167,\n",
              "         0.31489893,  0.21051882],\n",
              "       [-0.87754353, -0.04587964,  0.01516572, ...,  1.64251167,\n",
              "         0.31489893,  0.21051882],\n",
              "       [-0.87754353, -0.04587964,  0.07173118, ...,  0.13617763,\n",
              "         0.31489893,  0.21051882]])"
            ]
          },
          "metadata": {},
          "execution_count": 106
        }
      ]
    },
    {
      "cell_type": "markdown",
      "source": [
        "## Separando treino e teste"
      ],
      "metadata": {
        "id": "JCXjzglwSBDO"
      }
    },
    {
      "cell_type": "code",
      "source": [
        "#Inciando os testes, separando em x_treino e y_teste"
      ],
      "metadata": {
        "id": "oaFaSNlNIUAh"
      },
      "execution_count": 111,
      "outputs": []
    },
    {
      "cell_type": "code",
      "source": [
        "x = bdint.drop('SalePrice',axis=1)\n",
        "y = bdint.SalePrice"
      ],
      "metadata": {
        "id": "E7m0OuSkPpuT"
      },
      "execution_count": 112,
      "outputs": []
    },
    {
      "cell_type": "code",
      "source": [
        "import numpy as np\n",
        "from sklearn.model_selection import train_test_split"
      ],
      "metadata": {
        "id": "DXMIwXTRPVKp"
      },
      "execution_count": 113,
      "outputs": []
    },
    {
      "cell_type": "code",
      "source": [
        "#Separando os dados para teste e treino, sendo 70% treino e 30% teste\n",
        "X_train, X_test, y_train, y_test = train_test_split(previsores_escalononar, alvo, test_size=0.3, random_state=42)"
      ],
      "metadata": {
        "id": "kRhgjVO2PZDo"
      },
      "execution_count": 152,
      "outputs": []
    },
    {
      "cell_type": "code",
      "source": [
        "X_train.shape"
      ],
      "metadata": {
        "colab": {
          "base_uri": "https://localhost:8080/"
        },
        "id": "dkLKzNF6SjLB",
        "outputId": "5b64791c-e375-4336-cf62-c1bcda788a6f"
      },
      "execution_count": 153,
      "outputs": [
        {
          "output_type": "execute_result",
          "data": {
            "text/plain": [
              "(1006, 43)"
            ]
          },
          "metadata": {},
          "execution_count": 153
        }
      ]
    },
    {
      "cell_type": "code",
      "source": [
        "X_test.shape"
      ],
      "metadata": {
        "colab": {
          "base_uri": "https://localhost:8080/"
        },
        "id": "tbCfuufuSqpK",
        "outputId": "d4ecf2f0-3975-40a8-a449-eec813388c32"
      },
      "execution_count": 154,
      "outputs": [
        {
          "output_type": "execute_result",
          "data": {
            "text/plain": [
              "(432, 43)"
            ]
          },
          "metadata": {},
          "execution_count": 154
        }
      ]
    },
    {
      "cell_type": "markdown",
      "source": [
        "##ML Regrerssão Linear"
      ],
      "metadata": {
        "id": "UGss9e_abxLe"
      }
    },
    {
      "cell_type": "code",
      "source": [
        "from sklearn.linear_model import LinearRegression\n"
      ],
      "metadata": {
        "id": "ERTKINZJPepJ"
      },
      "execution_count": 155,
      "outputs": []
    },
    {
      "cell_type": "code",
      "source": [
        "reg_lin = LinearRegression().fit(X_train, y_train)\n"
      ],
      "metadata": {
        "id": "mJjssQidRDUS"
      },
      "execution_count": 156,
      "outputs": []
    },
    {
      "cell_type": "code",
      "source": [
        "y_lin = reg_lin.predict(X_test)"
      ],
      "metadata": {
        "id": "-Xc3x-RMRdeR"
      },
      "execution_count": 157,
      "outputs": []
    },
    {
      "cell_type": "markdown",
      "source": [
        "##ML Random Forest"
      ],
      "metadata": {
        "id": "Msluqh7bbuPO"
      }
    },
    {
      "cell_type": "code",
      "source": [
        "from sklearn.ensemble import RandomForestRegressor"
      ],
      "metadata": {
        "id": "CdoKtaEAbuPu"
      },
      "execution_count": 158,
      "outputs": []
    },
    {
      "cell_type": "code",
      "source": [
        "reg_forest = RandomForestRegressor(n_estimators=100, criterion='squared_error', max_depth=9, random_state=4).fit(X_train, y_train)"
      ],
      "metadata": {
        "id": "gtJi5qpxbuPv"
      },
      "execution_count": 225,
      "outputs": []
    },
    {
      "cell_type": "code",
      "source": [
        "y_forest = reg_forest.predict(X_test)"
      ],
      "metadata": {
        "id": "Y2vFz4wHbuPw"
      },
      "execution_count": 226,
      "outputs": []
    },
    {
      "cell_type": "code",
      "source": [
        "reg_forest.score(X_train, y_train)"
      ],
      "metadata": {
        "colab": {
          "base_uri": "https://localhost:8080/"
        },
        "outputId": "9b7da04d-6c36-42f3-c4ce-65e5e7de479e",
        "id": "QSmfMy9fbuPx"
      },
      "execution_count": 227,
      "outputs": [
        {
          "output_type": "execute_result",
          "data": {
            "text/plain": [
              "0.9740251481085576"
            ]
          },
          "metadata": {},
          "execution_count": 227
        }
      ]
    },
    {
      "cell_type": "code",
      "source": [
        "reg_forest.score(X_test, y_test)"
      ],
      "metadata": {
        "colab": {
          "base_uri": "https://localhost:8080/"
        },
        "outputId": "c2acb685-5fcc-40d1-b441-a49f22cfc8aa",
        "id": "7a10IvxvbuPy"
      },
      "execution_count": 228,
      "outputs": [
        {
          "output_type": "execute_result",
          "data": {
            "text/plain": [
              "0.8409609106196184"
            ]
          },
          "metadata": {},
          "execution_count": 228
        }
      ]
    },
    {
      "cell_type": "markdown",
      "source": [
        "## Arvore de Decisão"
      ],
      "metadata": {
        "id": "Sqij74snfrsK"
      }
    },
    {
      "cell_type": "code",
      "source": [
        "from sklearn import tree"
      ],
      "metadata": {
        "id": "vQ9VNBekSjcR"
      },
      "execution_count": 229,
      "outputs": []
    },
    {
      "cell_type": "code",
      "source": [
        "reg_tree = tree.DecisionTreeRegressor(max_depth=6, random_state=10).fit(X_train, y_train)"
      ],
      "metadata": {
        "id": "1ztHqsQdSm0Y"
      },
      "execution_count": 230,
      "outputs": []
    },
    {
      "cell_type": "code",
      "source": [
        "reg_tree.score(X_train, y_train)"
      ],
      "metadata": {
        "colab": {
          "base_uri": "https://localhost:8080/"
        },
        "id": "ex_xkIjwt76r",
        "outputId": "65befab4-d753-4b9a-a0b2-be814a03897b"
      },
      "execution_count": 231,
      "outputs": [
        {
          "output_type": "execute_result",
          "data": {
            "text/plain": [
              "0.9125256460460794"
            ]
          },
          "metadata": {},
          "execution_count": 231
        }
      ]
    },
    {
      "cell_type": "code",
      "source": [
        "reg_tree.score(X_test, y_test)"
      ],
      "metadata": {
        "colab": {
          "base_uri": "https://localhost:8080/"
        },
        "id": "MBbg_Gb7uH_B",
        "outputId": "be27426c-8c35-41ed-b23c-6ee5ce4486a8"
      },
      "execution_count": 232,
      "outputs": [
        {
          "output_type": "execute_result",
          "data": {
            "text/plain": [
              "0.7663820127721005"
            ]
          },
          "metadata": {},
          "execution_count": 232
        }
      ]
    },
    {
      "cell_type": "code",
      "source": [
        "y_tree = reg_tree.predict(X_test)"
      ],
      "metadata": {
        "id": "39SLkUk6TR_-"
      },
      "execution_count": 233,
      "outputs": []
    },
    {
      "cell_type": "markdown",
      "source": [
        "##Regreção KN"
      ],
      "metadata": {
        "id": "iS4XX-nnfksc"
      }
    },
    {
      "cell_type": "code",
      "source": [
        "from sklearn.neighbors import KNeighborsRegressor"
      ],
      "metadata": {
        "id": "XoBiGaWDThCK"
      },
      "execution_count": 234,
      "outputs": []
    },
    {
      "cell_type": "code",
      "source": [
        "reg_kn = KNeighborsRegressor(n_neighbors=2).fit(X_train, y_train)"
      ],
      "metadata": {
        "id": "pDAtVYctUQAI"
      },
      "execution_count": 235,
      "outputs": []
    },
    {
      "cell_type": "code",
      "source": [
        "y_kn = reg_kn.predict(X_test)"
      ],
      "metadata": {
        "id": "iXQ2DiTzUZGp"
      },
      "execution_count": 236,
      "outputs": []
    },
    {
      "cell_type": "code",
      "source": [
        "#Avaliando o modelo utilizando a métrica exigida na competição mean_absolute_error e mean_squared_error"
      ],
      "metadata": {
        "id": "piJxdfdoVnbQ"
      },
      "execution_count": 237,
      "outputs": []
    },
    {
      "cell_type": "markdown",
      "source": [
        "##Avaliação (mean_squared_error)"
      ],
      "metadata": {
        "id": "NPFkqz61jEmg"
      }
    },
    {
      "cell_type": "code",
      "source": [
        "from sklearn.metrics import mean_absolute_error, mean_squared_error\n"
      ],
      "metadata": {
        "id": "iRwy7px7VvHp"
      },
      "execution_count": 238,
      "outputs": []
    },
    {
      "cell_type": "code",
      "source": [
        "print(mean_absolute_error(y_test,y_lin))\n",
        "print(mean_squared_error(y_test,y_lin))"
      ],
      "metadata": {
        "colab": {
          "base_uri": "https://localhost:8080/"
        },
        "id": "P_FwjTnaWI3Z",
        "outputId": "d5ab7617-fa8b-4d9e-c0d0-159c0bfed796"
      },
      "execution_count": 239,
      "outputs": [
        {
          "output_type": "stream",
          "name": "stdout",
          "text": [
            "21659.309632621196\n",
            "1255462063.9090683\n"
          ]
        }
      ]
    },
    {
      "cell_type": "code",
      "source": [
        "print(mean_absolute_error(y_test,y_forest))\n",
        "print(mean_squared_error(y_test,y_forest))"
      ],
      "metadata": {
        "colab": {
          "base_uri": "https://localhost:8080/"
        },
        "id": "GpvE9H_pf5a2",
        "outputId": "3cefd6c2-aa06-46b1-da6b-a5446f780e96"
      },
      "execution_count": 240,
      "outputs": [
        {
          "output_type": "stream",
          "name": "stdout",
          "text": [
            "19117.37488261259\n",
            "1209112473.1052806\n"
          ]
        }
      ]
    },
    {
      "cell_type": "code",
      "source": [
        "print(mean_absolute_error(y_test,y_tree))\n",
        "print(mean_squared_error(y_test,y_tree))"
      ],
      "metadata": {
        "colab": {
          "base_uri": "https://localhost:8080/"
        },
        "id": "4J-aZ9FtWvmm",
        "outputId": "1da4f516-b3e8-4fa8-86ca-0f980989406c"
      },
      "execution_count": 241,
      "outputs": [
        {
          "output_type": "stream",
          "name": "stdout",
          "text": [
            "27208.472560533995\n",
            "1776106889.1900225\n"
          ]
        }
      ]
    },
    {
      "cell_type": "code",
      "source": [
        "print(mean_absolute_error(y_test,y_kn))\n",
        "print(mean_squared_error(y_test,y_kn))"
      ],
      "metadata": {
        "colab": {
          "base_uri": "https://localhost:8080/"
        },
        "id": "O0-1GDQgWvxM",
        "outputId": "9c701314-ad05-4dc1-acf5-5b95c7e4814e"
      },
      "execution_count": 242,
      "outputs": [
        {
          "output_type": "stream",
          "name": "stdout",
          "text": [
            "26170.980324074073\n",
            "1878864369.4982638\n"
          ]
        }
      ]
    },
    {
      "cell_type": "code",
      "source": [
        "#Neste Projeto 2 conseguimos chegar ao melho resultado de mean_squared_error, utilizando tanto o 'Random Forest' quanto o 'LinearRegression', alcançamos o valor de 12 pontos, sendo esse o melhor modelo comparado com os outros utilizados, neste projeto"
      ],
      "metadata": {
        "id": "0tmPP90JygJX"
      },
      "execution_count": 243,
      "outputs": []
    },
    {
      "cell_type": "code",
      "source": [
        "#Diante disso, podemos dizer que o modelo que melhor alcançou um resultado foi o modelo do Projeto 1, utilizando Random Forest"
      ],
      "metadata": {
        "id": "Yqx5IQQHhYYj"
      },
      "execution_count": null,
      "outputs": []
    },
    {
      "cell_type": "code",
      "source": [
        "#Validação Cruzada"
      ],
      "metadata": {
        "id": "JaYhFPi0wFzC"
      },
      "execution_count": null,
      "outputs": []
    },
    {
      "cell_type": "code",
      "source": [
        "from sklearn.model_selection import KFold, cross_val_score\n"
      ],
      "metadata": {
        "id": "7xgChTucv-qs"
      },
      "execution_count": 289,
      "outputs": []
    },
    {
      "cell_type": "code",
      "source": [
        "kfold = KFold(n_splits=15, shuffle=True, random_state= 5)"
      ],
      "metadata": {
        "id": "dSXGZkURwBNz"
      },
      "execution_count": 290,
      "outputs": []
    },
    {
      "cell_type": "code",
      "source": [
        "from sklearn.tree import DecisionTreeRegressor\n",
        "modelo = DecisionTreeRegressor(max_depth=6, random_state=10)\n",
        "resultado = cross_val_score(modelo, previsores, alvo, cv =kfold)"
      ],
      "metadata": {
        "id": "f-rw_FjrwrIM"
      },
      "execution_count": 291,
      "outputs": []
    },
    {
      "cell_type": "code",
      "source": [
        "resultado.mean()"
      ],
      "metadata": {
        "colab": {
          "base_uri": "https://localhost:8080/"
        },
        "id": "aDD7RISPwrLc",
        "outputId": "62cfff34-44a9-431d-8f55-b42420ff4a03"
      },
      "execution_count": 292,
      "outputs": [
        {
          "output_type": "execute_result",
          "data": {
            "text/plain": [
              "0.7864861111610313"
            ]
          },
          "metadata": {},
          "execution_count": 292
        }
      ]
    }
  ]
}